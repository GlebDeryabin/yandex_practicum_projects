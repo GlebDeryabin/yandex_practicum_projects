{
 "cells": [
  {
   "cell_type": "markdown",
   "metadata": {},
   "source": [
    "# A/B тестирование"
   ]
  },
  {
   "cell_type": "markdown",
   "metadata": {},
   "source": [
    "# Введение\n",
    "\n",
    "**Название проекта:** A/B-тестирование\n",
    "\n",
    "**Описание проекта:** Используя данные о маркетинговых компаниях, проводимых тестах, пользователях и логах исследовать a/b тест, связанный с внедрением улучшенной рекомендательной системой магазина, и проверить рабочую гипотезу.\n",
    "\n",
    "**Цель:** Оценить корректность проведения теста согласно ТЗ и проанализировать его результаты.\n",
    "\n",
    "**Задачи:**\n",
    "- Исследовать данные:\n",
    "    - Требуется ли преобразование типов?\n",
    "    - Описать природу пропущенных значений и дубликатов, если они есть.\n",
    "- Оценить корректность проведения теста\n",
    "    - Соответствие данных требованиям технического задания.\n",
    "    - Время проведения теста.\n",
    "    - Аудитория теста. \n",
    "- Провести исследовательский анализ данных:\n",
    "    - Количество событий на пользователя одинаково распределены в выборках?\n",
    "    - Как число событий в выборках распределено по дням?\n",
    "    - Как меняется конверсия в воронке в выборках на разных этапах?\n",
    "    - Какие особенности данных нужно учесть, прежде чем приступать к A B-тестированию?\n",
    "- Оценить результаты A/B-тестирования\n",
    "    - Что можно сказать про результаты A/В-тестирования?\n",
    "    - Проверьте статистическую разницу долей z-критерием.\n",
    "- Опишите выводы по EDA и по A/B-тестированию. Сделать общее заключение о корректности проведения теста.\n",
    "\n",
    "**Исходные данные:**\n",
    "- ab_project_marketing_events.csv — календарь маркетинговых событий на 2020 год\n",
    "- final_ab_new_users.csv — пользователи, зарегистрировавшиеся с 7 по 21 декабря 2020 года\n",
    "- final_ab_events.csv — действия новых пользователей в период с 7 декабря 2020 по 4 января 2021 года\n",
    "- final_ab_participants.csv — таблица участников тестов.\n",
    "\n",
    "**Техническое задание**\n",
    "- Название теста: `recommender_system_test`;\n",
    "- группы: А — контрольная, B — новая платёжная воронка;\n",
    "- дата запуска: 2020-12-07;\n",
    "- дата остановки набора новых пользователей: 2020-12-21;\n",
    "- дата остановки: 2021-01-04;\n",
    "- аудитория: 15% новых пользователей из региона EU;\n",
    "- назначение теста: тестирование изменений, связанных с внедрением улучшенной рекомендательной системы;\n",
    "- ожидаемое количество участников теста: 6000.\n",
    "- ожидаемый эффект: за 14 дней с момента регистрации пользователи покажут улучшение каждой метрики не менее, чем на 10%:\n",
    "    - конверсии в просмотр карточек товаров — событие `product_page`,\n",
    "    - просмотры корзины — `product_cart`,\n",
    "    - покупки — `purchase`."
   ]
  },
  {
   "cell_type": "markdown",
   "metadata": {},
   "source": [
    "# Подключение библиотек"
   ]
  },
  {
   "cell_type": "code",
   "execution_count": 1,
   "metadata": {},
   "outputs": [],
   "source": [
    "import pandas as pd\n",
    "import seaborn as sns\n",
    "import matplotlib.pyplot as plt\n",
    "from scipy import stats as st\n",
    "import numpy as np\n",
    "import math as mth\n",
    "from plotly import graph_objects as go"
   ]
  },
  {
   "cell_type": "markdown",
   "metadata": {},
   "source": [
    "# Загрузка и предобработка данных"
   ]
  },
  {
   "cell_type": "code",
   "execution_count": 2,
   "metadata": {},
   "outputs": [],
   "source": [
    "# загрузка данных\n",
    "try:\n",
    "    try:\n",
    "        ab_project_marketing_events = pd.read_csv(r\"C:\\Users\\Gleb\\Мой диск\\ЯПрактикум\\финальный проект\\a b тесты\\ab_project_marketing_events.csv\")\n",
    "    except:\n",
    "        ab_project_marketing_events = pd.read_csv('/Users/glebderabin/Мой диск/ЯПрактикум/финальный проект/a b тесты/ab_project_marketing_events.csv')\n",
    "except:\n",
    "    ab_project_marketing_events = pd.read_csv('/datasets/ab_project_marketing_events.csv')\n",
    "\n",
    "try:\n",
    "    try:\n",
    "        final_ab_events = pd.read_csv(r\"C:\\Users\\Gleb\\Мой диск\\ЯПрактикум\\финальный проект\\a b тесты\\final_ab_events.csv\")\n",
    "    except:\n",
    "        final_ab_events = pd.read_csv('/Users/glebderabin/Мой диск/ЯПрактикум/финальный проект/a b тесты/final_ab_events.csv')\n",
    "except:\n",
    "    final_ab_events = pd.read_csv('/datasets/final_ab_events.csv')\n",
    "\n",
    "try:\n",
    "    try:\n",
    "        final_ab_new_users = pd.read_csv(r\"C:\\Users\\Gleb\\Мой диск\\ЯПрактикум\\финальный проект\\a b тесты\\final_ab_new_users.csv\")\n",
    "    except:\n",
    "        final_ab_new_users = pd.read_csv('/Users/glebderabin/Мой диск/ЯПрактикум/финальный проект/a b тесты/final_ab_new_users.csv')\n",
    "except:\n",
    "    final_ab_new_users = pd.read_csv('/datasets/final_ab_new_users.csv')\n",
    "\n",
    "try:\n",
    "    try:\n",
    "        final_ab_participants = pd.read_csv(r\"C:\\Users\\Gleb\\Мой диск\\ЯПрактикум\\финальный проект\\a b тесты\\final_ab_participants.csv\")\n",
    "    except:\n",
    "        final_ab_participants = pd.read_csv('/Users/glebderabin/Мой диск/ЯПрактикум/финальный проект/a b тесты/final_ab_participants.csv')\n",
    "except:\n",
    "    final_ab_participants = pd.read_csv('/datasets/final_ab_participants.csv')    "
   ]
  },
  {
   "cell_type": "markdown",
   "metadata": {},
   "source": [
    "## Предобработка ab_project_marketing_events\n",
    "\n",
    "Календарь маркетинговых событий на 2020 год.\n",
    "\n",
    "Структура файла:\n",
    "- `name` — название маркетингового события;\n",
    "- `regions` — регионы, в которых будет проводиться рекламная кампания;\n",
    "- `start_dt` — дата начала кампании;\n",
    "- `finish_dt` — дата завершения кампании."
   ]
  },
  {
   "cell_type": "code",
   "execution_count": 3,
   "metadata": {},
   "outputs": [
    {
     "data": {
      "text/html": [
       "<div>\n",
       "<style scoped>\n",
       "    .dataframe tbody tr th:only-of-type {\n",
       "        vertical-align: middle;\n",
       "    }\n",
       "\n",
       "    .dataframe tbody tr th {\n",
       "        vertical-align: top;\n",
       "    }\n",
       "\n",
       "    .dataframe thead th {\n",
       "        text-align: right;\n",
       "    }\n",
       "</style>\n",
       "<table border=\"1\" class=\"dataframe\">\n",
       "  <thead>\n",
       "    <tr style=\"text-align: right;\">\n",
       "      <th></th>\n",
       "      <th>name</th>\n",
       "      <th>regions</th>\n",
       "      <th>start_dt</th>\n",
       "      <th>finish_dt</th>\n",
       "    </tr>\n",
       "  </thead>\n",
       "  <tbody>\n",
       "    <tr>\n",
       "      <th>0</th>\n",
       "      <td>Christmas&amp;New Year Promo</td>\n",
       "      <td>EU, N.America</td>\n",
       "      <td>2020-12-25</td>\n",
       "      <td>2021-01-03</td>\n",
       "    </tr>\n",
       "    <tr>\n",
       "      <th>1</th>\n",
       "      <td>St. Valentine's Day Giveaway</td>\n",
       "      <td>EU, CIS, APAC, N.America</td>\n",
       "      <td>2020-02-14</td>\n",
       "      <td>2020-02-16</td>\n",
       "    </tr>\n",
       "    <tr>\n",
       "      <th>2</th>\n",
       "      <td>St. Patric's Day Promo</td>\n",
       "      <td>EU, N.America</td>\n",
       "      <td>2020-03-17</td>\n",
       "      <td>2020-03-19</td>\n",
       "    </tr>\n",
       "    <tr>\n",
       "      <th>3</th>\n",
       "      <td>Easter Promo</td>\n",
       "      <td>EU, CIS, APAC, N.America</td>\n",
       "      <td>2020-04-12</td>\n",
       "      <td>2020-04-19</td>\n",
       "    </tr>\n",
       "    <tr>\n",
       "      <th>4</th>\n",
       "      <td>4th of July Promo</td>\n",
       "      <td>N.America</td>\n",
       "      <td>2020-07-04</td>\n",
       "      <td>2020-07-11</td>\n",
       "    </tr>\n",
       "  </tbody>\n",
       "</table>\n",
       "</div>"
      ],
      "text/plain": [
       "                           name                   regions    start_dt  \\\n",
       "0      Christmas&New Year Promo             EU, N.America  2020-12-25   \n",
       "1  St. Valentine's Day Giveaway  EU, CIS, APAC, N.America  2020-02-14   \n",
       "2        St. Patric's Day Promo             EU, N.America  2020-03-17   \n",
       "3                  Easter Promo  EU, CIS, APAC, N.America  2020-04-12   \n",
       "4             4th of July Promo                 N.America  2020-07-04   \n",
       "\n",
       "    finish_dt  \n",
       "0  2021-01-03  \n",
       "1  2020-02-16  \n",
       "2  2020-03-19  \n",
       "3  2020-04-19  \n",
       "4  2020-07-11  "
      ]
     },
     "metadata": {},
     "output_type": "display_data"
    },
    {
     "name": "stdout",
     "output_type": "stream",
     "text": [
      "<class 'pandas.core.frame.DataFrame'>\n",
      "RangeIndex: 14 entries, 0 to 13\n",
      "Data columns (total 4 columns):\n",
      " #   Column     Non-Null Count  Dtype \n",
      "---  ------     --------------  ----- \n",
      " 0   name       14 non-null     object\n",
      " 1   regions    14 non-null     object\n",
      " 2   start_dt   14 non-null     object\n",
      " 3   finish_dt  14 non-null     object\n",
      "dtypes: object(4)\n",
      "memory usage: 576.0+ bytes\n"
     ]
    },
    {
     "data": {
      "text/plain": [
       "None"
      ]
     },
     "metadata": {},
     "output_type": "display_data"
    },
    {
     "data": {
      "text/html": [
       "<div>\n",
       "<style scoped>\n",
       "    .dataframe tbody tr th:only-of-type {\n",
       "        vertical-align: middle;\n",
       "    }\n",
       "\n",
       "    .dataframe tbody tr th {\n",
       "        vertical-align: top;\n",
       "    }\n",
       "\n",
       "    .dataframe thead th {\n",
       "        text-align: right;\n",
       "    }\n",
       "</style>\n",
       "<table border=\"1\" class=\"dataframe\">\n",
       "  <thead>\n",
       "    <tr style=\"text-align: right;\">\n",
       "      <th></th>\n",
       "      <th>name</th>\n",
       "      <th>regions</th>\n",
       "      <th>start_dt</th>\n",
       "      <th>finish_dt</th>\n",
       "    </tr>\n",
       "  </thead>\n",
       "  <tbody>\n",
       "    <tr>\n",
       "      <th>count</th>\n",
       "      <td>14</td>\n",
       "      <td>14</td>\n",
       "      <td>14</td>\n",
       "      <td>14</td>\n",
       "    </tr>\n",
       "    <tr>\n",
       "      <th>unique</th>\n",
       "      <td>14</td>\n",
       "      <td>6</td>\n",
       "      <td>14</td>\n",
       "      <td>14</td>\n",
       "    </tr>\n",
       "    <tr>\n",
       "      <th>top</th>\n",
       "      <td>Christmas&amp;New Year Promo</td>\n",
       "      <td>APAC</td>\n",
       "      <td>2020-11-26</td>\n",
       "      <td>2020-07-01</td>\n",
       "    </tr>\n",
       "    <tr>\n",
       "      <th>freq</th>\n",
       "      <td>1</td>\n",
       "      <td>4</td>\n",
       "      <td>1</td>\n",
       "      <td>1</td>\n",
       "    </tr>\n",
       "  </tbody>\n",
       "</table>\n",
       "</div>"
      ],
      "text/plain": [
       "                            name regions    start_dt   finish_dt\n",
       "count                         14      14          14          14\n",
       "unique                        14       6          14          14\n",
       "top     Christmas&New Year Promo    APAC  2020-11-26  2020-07-01\n",
       "freq                           1       4           1           1"
      ]
     },
     "metadata": {},
     "output_type": "display_data"
    },
    {
     "name": "stdout",
     "output_type": "stream",
     "text": [
      "Количество пропусков в таблице:  0\n",
      "Количество полных дубликатов строк в таблице:  0\n"
     ]
    }
   ],
   "source": [
    "# изучаю основную информацию о наборе данных\n",
    "display(ab_project_marketing_events.head())\n",
    "display(ab_project_marketing_events.info())\n",
    "display(ab_project_marketing_events.describe())\n",
    "print('Количество пропусков в таблице: ', ab_project_marketing_events.isnull().sum().sum()) \n",
    "print('Количество полных дубликатов строк в таблице: ', ab_project_marketing_events.duplicated().sum())"
   ]
  },
  {
   "cell_type": "markdown",
   "metadata": {},
   "source": [
    "В таблице нет пропусков и дубликатов. Нужно перевести поля start_dt и finish_dt к типу дататайм"
   ]
  },
  {
   "cell_type": "code",
   "execution_count": 4,
   "metadata": {},
   "outputs": [],
   "source": [
    "# привожу поля к типу дататайм\n",
    "ab_project_marketing_events['start_dt'] = pd.to_datetime(ab_project_marketing_events['start_dt'])\n",
    "ab_project_marketing_events['finish_dt'] = pd.to_datetime(ab_project_marketing_events['finish_dt'])"
   ]
  },
  {
   "cell_type": "markdown",
   "metadata": {},
   "source": [
    "## Предобработка final_ab_events\n",
    "\n",
    "Действия новых пользователей в период с 7 декабря 2020 по 4 января 2021 года.\n",
    "\n",
    "Структура файла:\n",
    "\n",
    "- `user_id` — идентификатор пользователя;\n",
    "- `event_dt` — дата и время события;\n",
    "- `event_name` — тип события;\n",
    "- `details` — дополнительные данные о событии. Например, для покупок, `purchase,` в этом поле хранится стоимость покупки в долларах."
   ]
  },
  {
   "cell_type": "code",
   "execution_count": 5,
   "metadata": {},
   "outputs": [
    {
     "data": {
      "text/html": [
       "<div>\n",
       "<style scoped>\n",
       "    .dataframe tbody tr th:only-of-type {\n",
       "        vertical-align: middle;\n",
       "    }\n",
       "\n",
       "    .dataframe tbody tr th {\n",
       "        vertical-align: top;\n",
       "    }\n",
       "\n",
       "    .dataframe thead th {\n",
       "        text-align: right;\n",
       "    }\n",
       "</style>\n",
       "<table border=\"1\" class=\"dataframe\">\n",
       "  <thead>\n",
       "    <tr style=\"text-align: right;\">\n",
       "      <th></th>\n",
       "      <th>user_id</th>\n",
       "      <th>event_dt</th>\n",
       "      <th>event_name</th>\n",
       "      <th>details</th>\n",
       "    </tr>\n",
       "  </thead>\n",
       "  <tbody>\n",
       "    <tr>\n",
       "      <th>0</th>\n",
       "      <td>E1BDDCE0DAFA2679</td>\n",
       "      <td>2020-12-07 20:22:03</td>\n",
       "      <td>purchase</td>\n",
       "      <td>99.99</td>\n",
       "    </tr>\n",
       "    <tr>\n",
       "      <th>1</th>\n",
       "      <td>7B6452F081F49504</td>\n",
       "      <td>2020-12-07 09:22:53</td>\n",
       "      <td>purchase</td>\n",
       "      <td>9.99</td>\n",
       "    </tr>\n",
       "    <tr>\n",
       "      <th>2</th>\n",
       "      <td>9CD9F34546DF254C</td>\n",
       "      <td>2020-12-07 12:59:29</td>\n",
       "      <td>purchase</td>\n",
       "      <td>4.99</td>\n",
       "    </tr>\n",
       "    <tr>\n",
       "      <th>3</th>\n",
       "      <td>96F27A054B191457</td>\n",
       "      <td>2020-12-07 04:02:40</td>\n",
       "      <td>purchase</td>\n",
       "      <td>4.99</td>\n",
       "    </tr>\n",
       "    <tr>\n",
       "      <th>4</th>\n",
       "      <td>1FD7660FDF94CA1F</td>\n",
       "      <td>2020-12-07 10:15:09</td>\n",
       "      <td>purchase</td>\n",
       "      <td>4.99</td>\n",
       "    </tr>\n",
       "  </tbody>\n",
       "</table>\n",
       "</div>"
      ],
      "text/plain": [
       "            user_id             event_dt event_name  details\n",
       "0  E1BDDCE0DAFA2679  2020-12-07 20:22:03   purchase    99.99\n",
       "1  7B6452F081F49504  2020-12-07 09:22:53   purchase     9.99\n",
       "2  9CD9F34546DF254C  2020-12-07 12:59:29   purchase     4.99\n",
       "3  96F27A054B191457  2020-12-07 04:02:40   purchase     4.99\n",
       "4  1FD7660FDF94CA1F  2020-12-07 10:15:09   purchase     4.99"
      ]
     },
     "metadata": {},
     "output_type": "display_data"
    },
    {
     "name": "stdout",
     "output_type": "stream",
     "text": [
      "<class 'pandas.core.frame.DataFrame'>\n",
      "RangeIndex: 440317 entries, 0 to 440316\n",
      "Data columns (total 4 columns):\n",
      " #   Column      Non-Null Count   Dtype  \n",
      "---  ------      --------------   -----  \n",
      " 0   user_id     440317 non-null  object \n",
      " 1   event_dt    440317 non-null  object \n",
      " 2   event_name  440317 non-null  object \n",
      " 3   details     62740 non-null   float64\n",
      "dtypes: float64(1), object(3)\n",
      "memory usage: 13.4+ MB\n"
     ]
    },
    {
     "data": {
      "text/plain": [
       "None"
      ]
     },
     "metadata": {},
     "output_type": "display_data"
    },
    {
     "data": {
      "text/html": [
       "<div>\n",
       "<style scoped>\n",
       "    .dataframe tbody tr th:only-of-type {\n",
       "        vertical-align: middle;\n",
       "    }\n",
       "\n",
       "    .dataframe tbody tr th {\n",
       "        vertical-align: top;\n",
       "    }\n",
       "\n",
       "    .dataframe thead th {\n",
       "        text-align: right;\n",
       "    }\n",
       "</style>\n",
       "<table border=\"1\" class=\"dataframe\">\n",
       "  <thead>\n",
       "    <tr style=\"text-align: right;\">\n",
       "      <th></th>\n",
       "      <th>details</th>\n",
       "    </tr>\n",
       "  </thead>\n",
       "  <tbody>\n",
       "    <tr>\n",
       "      <th>count</th>\n",
       "      <td>62740.000000</td>\n",
       "    </tr>\n",
       "    <tr>\n",
       "      <th>mean</th>\n",
       "      <td>23.877631</td>\n",
       "    </tr>\n",
       "    <tr>\n",
       "      <th>std</th>\n",
       "      <td>72.180465</td>\n",
       "    </tr>\n",
       "    <tr>\n",
       "      <th>min</th>\n",
       "      <td>4.990000</td>\n",
       "    </tr>\n",
       "    <tr>\n",
       "      <th>25%</th>\n",
       "      <td>4.990000</td>\n",
       "    </tr>\n",
       "    <tr>\n",
       "      <th>50%</th>\n",
       "      <td>4.990000</td>\n",
       "    </tr>\n",
       "    <tr>\n",
       "      <th>75%</th>\n",
       "      <td>9.990000</td>\n",
       "    </tr>\n",
       "    <tr>\n",
       "      <th>max</th>\n",
       "      <td>499.990000</td>\n",
       "    </tr>\n",
       "  </tbody>\n",
       "</table>\n",
       "</div>"
      ],
      "text/plain": [
       "            details\n",
       "count  62740.000000\n",
       "mean      23.877631\n",
       "std       72.180465\n",
       "min        4.990000\n",
       "25%        4.990000\n",
       "50%        4.990000\n",
       "75%        9.990000\n",
       "max      499.990000"
      ]
     },
     "metadata": {},
     "output_type": "display_data"
    },
    {
     "name": "stdout",
     "output_type": "stream",
     "text": [
      "Количество пропусков в таблице:  377577\n",
      "Количество полных дубликатов строк в таблице:  0\n"
     ]
    }
   ],
   "source": [
    "# изучаю основную информацию о наборе данных\n",
    "display(final_ab_events.head())\n",
    "display(final_ab_events.info())\n",
    "display(final_ab_events.describe())\n",
    "print('Количество пропусков в таблице: ', final_ab_events.isnull().sum().sum()) \n",
    "print('Количество полных дубликатов строк в таблице: ', final_ab_events.duplicated().sum())"
   ]
  },
  {
   "cell_type": "markdown",
   "metadata": {},
   "source": [
    "В датасете нет дубликатов. Есть пропуски в поле details, скорее всего это связано с механикой сбора данных (записывается только сумма для события purchase). Это нужно проверить и привести поле event_dt к типу дататайм"
   ]
  },
  {
   "cell_type": "code",
   "execution_count": 6,
   "metadata": {},
   "outputs": [
    {
     "name": "stdout",
     "output_type": "stream",
     "text": [
      "Кол-во событий исключая purchase 377577\n"
     ]
    }
   ],
   "source": [
    "# Кол-во строк, в которых должны быть пропуски согласно механике сбора данных\n",
    "print('Кол-во событий исключая purchase', len(final_ab_events.query('event_name != \"purchase\"')))\n",
    "\n",
    "# привожу поле к типу дататайм\n",
    "final_ab_events['event_dt'] = pd.to_datetime(final_ab_events['event_dt'])"
   ]
  },
  {
   "cell_type": "markdown",
   "metadata": {},
   "source": [
    "Все верно, пропуски связаны с механикой сбора данных и это нормально. Для всех покупок есть сумма сделки."
   ]
  },
  {
   "cell_type": "markdown",
   "metadata": {},
   "source": [
    "## Предобработка final_ab_new_users\n",
    "\n",
    "Пользователи, зарегистрировавшиеся с 7 по 21 декабря 2020 года.\n",
    "\n",
    "Структура файла:\n",
    "\n",
    "- `user_id` — идентификатор пользователя;\n",
    "- `first_date` — дата регистрации;\n",
    "- `region` — регион пользователя;\n",
    "- `device` — устройство, с которого происходила регистрация."
   ]
  },
  {
   "cell_type": "code",
   "execution_count": 7,
   "metadata": {},
   "outputs": [
    {
     "data": {
      "text/html": [
       "<div>\n",
       "<style scoped>\n",
       "    .dataframe tbody tr th:only-of-type {\n",
       "        vertical-align: middle;\n",
       "    }\n",
       "\n",
       "    .dataframe tbody tr th {\n",
       "        vertical-align: top;\n",
       "    }\n",
       "\n",
       "    .dataframe thead th {\n",
       "        text-align: right;\n",
       "    }\n",
       "</style>\n",
       "<table border=\"1\" class=\"dataframe\">\n",
       "  <thead>\n",
       "    <tr style=\"text-align: right;\">\n",
       "      <th></th>\n",
       "      <th>user_id</th>\n",
       "      <th>first_date</th>\n",
       "      <th>region</th>\n",
       "      <th>device</th>\n",
       "    </tr>\n",
       "  </thead>\n",
       "  <tbody>\n",
       "    <tr>\n",
       "      <th>0</th>\n",
       "      <td>D72A72121175D8BE</td>\n",
       "      <td>2020-12-07</td>\n",
       "      <td>EU</td>\n",
       "      <td>PC</td>\n",
       "    </tr>\n",
       "    <tr>\n",
       "      <th>1</th>\n",
       "      <td>F1C668619DFE6E65</td>\n",
       "      <td>2020-12-07</td>\n",
       "      <td>N.America</td>\n",
       "      <td>Android</td>\n",
       "    </tr>\n",
       "    <tr>\n",
       "      <th>2</th>\n",
       "      <td>2E1BF1D4C37EA01F</td>\n",
       "      <td>2020-12-07</td>\n",
       "      <td>EU</td>\n",
       "      <td>PC</td>\n",
       "    </tr>\n",
       "    <tr>\n",
       "      <th>3</th>\n",
       "      <td>50734A22C0C63768</td>\n",
       "      <td>2020-12-07</td>\n",
       "      <td>EU</td>\n",
       "      <td>iPhone</td>\n",
       "    </tr>\n",
       "    <tr>\n",
       "      <th>4</th>\n",
       "      <td>E1BDDCE0DAFA2679</td>\n",
       "      <td>2020-12-07</td>\n",
       "      <td>N.America</td>\n",
       "      <td>iPhone</td>\n",
       "    </tr>\n",
       "  </tbody>\n",
       "</table>\n",
       "</div>"
      ],
      "text/plain": [
       "            user_id  first_date     region   device\n",
       "0  D72A72121175D8BE  2020-12-07         EU       PC\n",
       "1  F1C668619DFE6E65  2020-12-07  N.America  Android\n",
       "2  2E1BF1D4C37EA01F  2020-12-07         EU       PC\n",
       "3  50734A22C0C63768  2020-12-07         EU   iPhone\n",
       "4  E1BDDCE0DAFA2679  2020-12-07  N.America   iPhone"
      ]
     },
     "metadata": {},
     "output_type": "display_data"
    },
    {
     "name": "stdout",
     "output_type": "stream",
     "text": [
      "<class 'pandas.core.frame.DataFrame'>\n",
      "RangeIndex: 61733 entries, 0 to 61732\n",
      "Data columns (total 4 columns):\n",
      " #   Column      Non-Null Count  Dtype \n",
      "---  ------      --------------  ----- \n",
      " 0   user_id     61733 non-null  object\n",
      " 1   first_date  61733 non-null  object\n",
      " 2   region      61733 non-null  object\n",
      " 3   device      61733 non-null  object\n",
      "dtypes: object(4)\n",
      "memory usage: 1.9+ MB\n"
     ]
    },
    {
     "data": {
      "text/plain": [
       "None"
      ]
     },
     "metadata": {},
     "output_type": "display_data"
    },
    {
     "data": {
      "text/html": [
       "<div>\n",
       "<style scoped>\n",
       "    .dataframe tbody tr th:only-of-type {\n",
       "        vertical-align: middle;\n",
       "    }\n",
       "\n",
       "    .dataframe tbody tr th {\n",
       "        vertical-align: top;\n",
       "    }\n",
       "\n",
       "    .dataframe thead th {\n",
       "        text-align: right;\n",
       "    }\n",
       "</style>\n",
       "<table border=\"1\" class=\"dataframe\">\n",
       "  <thead>\n",
       "    <tr style=\"text-align: right;\">\n",
       "      <th></th>\n",
       "      <th>user_id</th>\n",
       "      <th>first_date</th>\n",
       "      <th>region</th>\n",
       "      <th>device</th>\n",
       "    </tr>\n",
       "  </thead>\n",
       "  <tbody>\n",
       "    <tr>\n",
       "      <th>count</th>\n",
       "      <td>61733</td>\n",
       "      <td>61733</td>\n",
       "      <td>61733</td>\n",
       "      <td>61733</td>\n",
       "    </tr>\n",
       "    <tr>\n",
       "      <th>unique</th>\n",
       "      <td>61733</td>\n",
       "      <td>17</td>\n",
       "      <td>4</td>\n",
       "      <td>4</td>\n",
       "    </tr>\n",
       "    <tr>\n",
       "      <th>top</th>\n",
       "      <td>CB766C67709D15CB</td>\n",
       "      <td>2020-12-21</td>\n",
       "      <td>EU</td>\n",
       "      <td>Android</td>\n",
       "    </tr>\n",
       "    <tr>\n",
       "      <th>freq</th>\n",
       "      <td>1</td>\n",
       "      <td>6290</td>\n",
       "      <td>46270</td>\n",
       "      <td>27520</td>\n",
       "    </tr>\n",
       "  </tbody>\n",
       "</table>\n",
       "</div>"
      ],
      "text/plain": [
       "                 user_id  first_date region   device\n",
       "count              61733       61733  61733    61733\n",
       "unique             61733          17      4        4\n",
       "top     CB766C67709D15CB  2020-12-21     EU  Android\n",
       "freq                   1        6290  46270    27520"
      ]
     },
     "metadata": {},
     "output_type": "display_data"
    },
    {
     "name": "stdout",
     "output_type": "stream",
     "text": [
      "Количество пропусков в таблице:  0\n",
      "Количество полных дубликатов строк в таблице:  0\n"
     ]
    }
   ],
   "source": [
    "# изучаю основную информацию о наборе данных\n",
    "display(final_ab_new_users.head())\n",
    "display(final_ab_new_users.info())\n",
    "display(final_ab_new_users.describe())\n",
    "print('Количество пропусков в таблице: ', final_ab_new_users.isnull().sum().sum()) \n",
    "print('Количество полных дубликатов строк в таблице: ', final_ab_new_users.duplicated().sum())"
   ]
  },
  {
   "cell_type": "markdown",
   "metadata": {},
   "source": [
    "В таблице нет дубликатов и пропусков, нужно привести поле first_date к типу дататайм."
   ]
  },
  {
   "cell_type": "code",
   "execution_count": 8,
   "metadata": {},
   "outputs": [],
   "source": [
    "# привожу поле к типу дататайм\n",
    "final_ab_new_users['first_date'] = pd.to_datetime(final_ab_new_users['first_date'])"
   ]
  },
  {
   "cell_type": "markdown",
   "metadata": {},
   "source": [
    "## Предобработка final_ab_participants\n",
    "\n",
    "таблица участников тестов.\n",
    "\n",
    "Структура файла:\n",
    "\n",
    "- `user_id` — идентификатор пользователя;\n",
    "- `ab_test` — название теста;\n",
    "- `group` — группа пользователя."
   ]
  },
  {
   "cell_type": "code",
   "execution_count": 9,
   "metadata": {},
   "outputs": [
    {
     "data": {
      "text/html": [
       "<div>\n",
       "<style scoped>\n",
       "    .dataframe tbody tr th:only-of-type {\n",
       "        vertical-align: middle;\n",
       "    }\n",
       "\n",
       "    .dataframe tbody tr th {\n",
       "        vertical-align: top;\n",
       "    }\n",
       "\n",
       "    .dataframe thead th {\n",
       "        text-align: right;\n",
       "    }\n",
       "</style>\n",
       "<table border=\"1\" class=\"dataframe\">\n",
       "  <thead>\n",
       "    <tr style=\"text-align: right;\">\n",
       "      <th></th>\n",
       "      <th>user_id</th>\n",
       "      <th>group</th>\n",
       "      <th>ab_test</th>\n",
       "    </tr>\n",
       "  </thead>\n",
       "  <tbody>\n",
       "    <tr>\n",
       "      <th>0</th>\n",
       "      <td>D1ABA3E2887B6A73</td>\n",
       "      <td>A</td>\n",
       "      <td>recommender_system_test</td>\n",
       "    </tr>\n",
       "    <tr>\n",
       "      <th>1</th>\n",
       "      <td>A7A3664BD6242119</td>\n",
       "      <td>A</td>\n",
       "      <td>recommender_system_test</td>\n",
       "    </tr>\n",
       "    <tr>\n",
       "      <th>2</th>\n",
       "      <td>DABC14FDDFADD29E</td>\n",
       "      <td>A</td>\n",
       "      <td>recommender_system_test</td>\n",
       "    </tr>\n",
       "    <tr>\n",
       "      <th>3</th>\n",
       "      <td>04988C5DF189632E</td>\n",
       "      <td>A</td>\n",
       "      <td>recommender_system_test</td>\n",
       "    </tr>\n",
       "    <tr>\n",
       "      <th>4</th>\n",
       "      <td>482F14783456D21B</td>\n",
       "      <td>B</td>\n",
       "      <td>recommender_system_test</td>\n",
       "    </tr>\n",
       "  </tbody>\n",
       "</table>\n",
       "</div>"
      ],
      "text/plain": [
       "            user_id group                  ab_test\n",
       "0  D1ABA3E2887B6A73     A  recommender_system_test\n",
       "1  A7A3664BD6242119     A  recommender_system_test\n",
       "2  DABC14FDDFADD29E     A  recommender_system_test\n",
       "3  04988C5DF189632E     A  recommender_system_test\n",
       "4  482F14783456D21B     B  recommender_system_test"
      ]
     },
     "metadata": {},
     "output_type": "display_data"
    },
    {
     "name": "stdout",
     "output_type": "stream",
     "text": [
      "<class 'pandas.core.frame.DataFrame'>\n",
      "RangeIndex: 18268 entries, 0 to 18267\n",
      "Data columns (total 3 columns):\n",
      " #   Column   Non-Null Count  Dtype \n",
      "---  ------   --------------  ----- \n",
      " 0   user_id  18268 non-null  object\n",
      " 1   group    18268 non-null  object\n",
      " 2   ab_test  18268 non-null  object\n",
      "dtypes: object(3)\n",
      "memory usage: 428.3+ KB\n"
     ]
    },
    {
     "data": {
      "text/plain": [
       "None"
      ]
     },
     "metadata": {},
     "output_type": "display_data"
    },
    {
     "data": {
      "text/html": [
       "<div>\n",
       "<style scoped>\n",
       "    .dataframe tbody tr th:only-of-type {\n",
       "        vertical-align: middle;\n",
       "    }\n",
       "\n",
       "    .dataframe tbody tr th {\n",
       "        vertical-align: top;\n",
       "    }\n",
       "\n",
       "    .dataframe thead th {\n",
       "        text-align: right;\n",
       "    }\n",
       "</style>\n",
       "<table border=\"1\" class=\"dataframe\">\n",
       "  <thead>\n",
       "    <tr style=\"text-align: right;\">\n",
       "      <th></th>\n",
       "      <th>user_id</th>\n",
       "      <th>group</th>\n",
       "      <th>ab_test</th>\n",
       "    </tr>\n",
       "  </thead>\n",
       "  <tbody>\n",
       "    <tr>\n",
       "      <th>count</th>\n",
       "      <td>18268</td>\n",
       "      <td>18268</td>\n",
       "      <td>18268</td>\n",
       "    </tr>\n",
       "    <tr>\n",
       "      <th>unique</th>\n",
       "      <td>16666</td>\n",
       "      <td>2</td>\n",
       "      <td>2</td>\n",
       "    </tr>\n",
       "    <tr>\n",
       "      <th>top</th>\n",
       "      <td>41C7928F2ED27E66</td>\n",
       "      <td>A</td>\n",
       "      <td>interface_eu_test</td>\n",
       "    </tr>\n",
       "    <tr>\n",
       "      <th>freq</th>\n",
       "      <td>2</td>\n",
       "      <td>9655</td>\n",
       "      <td>11567</td>\n",
       "    </tr>\n",
       "  </tbody>\n",
       "</table>\n",
       "</div>"
      ],
      "text/plain": [
       "                 user_id  group            ab_test\n",
       "count              18268  18268              18268\n",
       "unique             16666      2                  2\n",
       "top     41C7928F2ED27E66      A  interface_eu_test\n",
       "freq                   2   9655              11567"
      ]
     },
     "metadata": {},
     "output_type": "display_data"
    },
    {
     "name": "stdout",
     "output_type": "stream",
     "text": [
      "Количество пропусков в таблице:  0\n",
      "Количество полных дубликатов строк в таблице:  0\n"
     ]
    }
   ],
   "source": [
    "# изучаю основную информацию о наборе данных\n",
    "display(final_ab_participants.head())\n",
    "display(final_ab_participants.info())\n",
    "display(final_ab_participants.describe())\n",
    "print('Количество пропусков в таблице: ', final_ab_participants.isnull().sum().sum()) \n",
    "print('Количество полных дубликатов строк в таблице: ', final_ab_participants.duplicated().sum())"
   ]
  },
  {
   "cell_type": "markdown",
   "metadata": {},
   "source": [
    "В таблице нет дубликатов и пропусков, все поля имеют верный тип данных. Один или часть user_id встречается дважды, это будет проверено на этапе проверки соответствия данных ТЗ."
   ]
  },
  {
   "cell_type": "markdown",
   "metadata": {},
   "source": [
    "# Оценка корректности проведения теста"
   ]
  },
  {
   "cell_type": "markdown",
   "metadata": {},
   "source": [
    "## Соответствие данных требованиям технического задания\n",
    "\n",
    "Проверьте корректность всех пунктов технического задания."
   ]
  },
  {
   "cell_type": "code",
   "execution_count": 10,
   "metadata": {},
   "outputs": [
    {
     "name": "stdout",
     "output_type": "stream",
     "text": [
      "Ранняя регистрация пользователя: 2020-12-07 00:00:00\n",
      "Поздняя регистрация пользователя: 2020-12-23 00:00:00\n",
      "Раннее действие: 2020-12-07 00:00:33\n",
      "Позднее действие: 2020-12-30 23:36:33\n"
     ]
    }
   ],
   "source": [
    "# создаю срез участников по названию теста\n",
    "recommender_system_test_participants = final_ab_participants.query('ab_test == \"recommender_system_test\"')\n",
    "\n",
    "# Сроки приема новых пользователей\n",
    "print('Ранняя регистрация пользователя:', final_ab_new_users['first_date'].min())\n",
    "print('Поздняя регистрация пользователя:', final_ab_new_users['first_date'].max())\n",
    "\n",
    "# Сроки логирования подтестовых событий\n",
    "print('Раннее действие:', final_ab_events['event_dt'].min())\n",
    "print('Позднее действие:', final_ab_events['event_dt'].max())"
   ]
  },
  {
   "cell_type": "code",
   "execution_count": 11,
   "metadata": {},
   "outputs": [
    {
     "name": "stdout",
     "output_type": "stream",
     "text": [
      "Ранняя регистрация пользователя: 2020-12-07 00:00:00\n",
      "Поздняя регистрация пользователя: 2020-12-21 00:00:00\n"
     ]
    }
   ],
   "source": [
    "temp_3 = final_ab_new_users.merge(\n",
    "                    right=final_ab_participants.query('ab_test == \"recommender_system_test\"'),\n",
    "                    how='right',\n",
    "                    on='user_id'\n",
    ")\n",
    "temp_3\n",
    "\n",
    "# Сроки приема новых пользователей\n",
    "print('Ранняя регистрация пользователя:', temp_3['first_date'].min())\n",
    "print('Поздняя регистрация пользователя:', temp_3['first_date'].max())"
   ]
  },
  {
   "cell_type": "markdown",
   "metadata": {},
   "source": [
    "Начало приема пользователей и останов приема пользователей соответствует ТЗ."
   ]
  },
  {
   "cell_type": "markdown",
   "metadata": {},
   "source": [
    "Дата запуска набора пользователей и логирования событий соответствует ТЗ. Логирование событий остановилось до предполагаемой даты так, что пользователям, привлеченным в последний день недели, не хватило времени до 14 дней. Нужно проверить распределение действий пользователей, и если они активны на протяжении всех 14 дней, то придеться убрать пользователей с 16 января."
   ]
  },
  {
   "cell_type": "code",
   "execution_count": 12,
   "metadata": {},
   "outputs": [
    {
     "name": "stdout",
     "output_type": "stream",
     "text": [
      "Количество участников теста 6701 пользователей\n",
      "Процент пользователей из EU 15.0 %\n"
     ]
    }
   ],
   "source": [
    "# создаю срез пользователей по нужной дате и участию в нужном тесте\n",
    "recommender_system_test_users = final_ab_new_users.query('first_date < \"2020-12-22 00:00:00\" and user_id in @recommender_system_test_participants[\"user_id\"]')\n",
    "\n",
    "# Проверяю количество участников теста\n",
    "n_participants = len(recommender_system_test_users)\n",
    "eu_share = len(recommender_system_test_users.query('region == \"EU\"'))/len(final_ab_new_users.query('first_date < \"2020-12-22 00:00:00\" and region == \"EU\"'))*100\n",
    "print(f'Количество участников теста {n_participants} пользователей')\n",
    "print(f'Процент пользователей из EU {eu_share} %')\n",
    "\n"
   ]
  },
  {
   "cell_type": "markdown",
   "metadata": {},
   "source": [
    "Требования ТЗ соблюдены"
   ]
  },
  {
   "cell_type": "markdown",
   "metadata": {},
   "source": [
    "## Время проведения теста\n",
    "\n",
    "Убедитесь, что оно не совпадает с маркетинговыми и другими активностями."
   ]
  },
  {
   "cell_type": "code",
   "execution_count": 13,
   "metadata": {},
   "outputs": [
    {
     "name": "stdout",
     "output_type": "stream",
     "text": [
      "Christmas&New Year Promo\n",
      "CIS New Year Gift Lottery\n"
     ]
    }
   ],
   "source": [
    "start_date = final_ab_events['event_dt'].min()\n",
    "finish_date = final_ab_events['event_dt'].max()\n",
    "\n",
    "for i in range(len(ab_project_marketing_events)):\n",
    "    if (\n",
    "        (ab_project_marketing_events.at[i, 'finish_dt'] > start_date and ab_project_marketing_events.at[i, 'finish_dt'] < finish_date) or\n",
    "        (ab_project_marketing_events.at[i, 'start_dt'] > start_date and ab_project_marketing_events.at[i, 'start_dt'] < finish_date) or\n",
    "        (ab_project_marketing_events.at[i, 'start_dt'] > start_date and ab_project_marketing_events.at[i, 'finish_dt'] < finish_date)):\n",
    "        print(ab_project_marketing_events.at[i, 'name'])"
   ]
  },
  {
   "cell_type": "markdown",
   "metadata": {},
   "source": [
    "Время проведения теста совпадает с маркетинговыми активностями Christmas&New Year Promo и CIS New Year Gift Lottery. С одной стороны, они могут повлиять на результаты теста, с другой - они повлияют на обе группы теста и вряд ли значительно изменят величины исследуемых метрик между группами"
   ]
  },
  {
   "cell_type": "markdown",
   "metadata": {},
   "source": [
    "## Аудитория теста"
   ]
  },
  {
   "cell_type": "markdown",
   "metadata": {},
   "source": [
    "### Удостоверьтесь, что нет пересечений с конкурирующим тестом"
   ]
  },
  {
   "cell_type": "code",
   "execution_count": 14,
   "metadata": {},
   "outputs": [
    {
     "data": {
      "text/plain": [
       "783"
      ]
     },
     "execution_count": 14,
     "metadata": {},
     "output_type": "execute_result"
    }
   ],
   "source": [
    "# среди участников теста не должно быть пользователей, которые есть в группах B других тестов\n",
    "users_id_another_tests = final_ab_participants.query('ab_test != \"recommender_system_test\" and group == \"B\"')['user_id'].to_list()\n",
    "wrong_users = []\n",
    "for i in recommender_system_test_users['user_id']:\n",
    "    if i in users_id_another_tests:\n",
    "        wrong_users.append(i)\n",
    "\n",
    "len(wrong_users)"
   ]
  },
  {
   "cell_type": "markdown",
   "metadata": {},
   "source": [
    "Среди участников теста обнаружилось 783 пользователя, которые участвовали в группах B других тестов, то есть на них оказывали влияние другие эксперименты. Их нужно исключить"
   ]
  },
  {
   "cell_type": "code",
   "execution_count": 15,
   "metadata": {},
   "outputs": [],
   "source": [
    "# исключаю пользователей, которые встречаются в группах B других экспериментов\n",
    "recommender_system_test_participants = recommender_system_test_participants[~recommender_system_test_participants['user_id'].isin(wrong_users)]\n",
    "recommender_system_test_users = recommender_system_test_users[~recommender_system_test_users['user_id'].isin(wrong_users)]"
   ]
  },
  {
   "cell_type": "markdown",
   "metadata": {},
   "source": [
    "### Удостоверьтесь, что нет пользователей, участвующих в двух группах теста одновременно."
   ]
  },
  {
   "cell_type": "code",
   "execution_count": 16,
   "metadata": {},
   "outputs": [
    {
     "data": {
      "text/plain": [
       "0"
      ]
     },
     "execution_count": 16,
     "metadata": {},
     "output_type": "execute_result"
    }
   ],
   "source": [
    "# в группе B не должно быть участников из группы А\n",
    "users_a = recommender_system_test_participants.query('group == \"A\"')['user_id'].to_list()\n",
    "users_b = recommender_system_test_participants.query('group == \"B\"')['user_id'].to_list()\n",
    "users_test = recommender_system_test_participants['user_id'].to_list()\n",
    "a_b_wrong_users = []\n",
    "for i in users_b:\n",
    "    if i in users_a:\n",
    "        a_b_wrong_users.append(i)\n",
    "\n",
    "len(a_b_wrong_users)"
   ]
  },
  {
   "cell_type": "markdown",
   "metadata": {},
   "source": [
    "Пользователи из одного теста распределены по группам корректно"
   ]
  },
  {
   "cell_type": "markdown",
   "metadata": {},
   "source": [
    "## Проверка пользователей по активности"
   ]
  },
  {
   "cell_type": "code",
   "execution_count": 17,
   "metadata": {},
   "outputs": [
    {
     "name": "stdout",
     "output_type": "stream",
     "text": [
      "3244\n",
      "3244\n"
     ]
    }
   ],
   "source": [
    "# Список пользователей с действиями\n",
    "users_w_activity = final_ab_events['user_id'].unique().tolist()\n",
    "\n",
    "# исключаю из таблиц пользователей в случае отсутствия в списке\n",
    "recommender_system_test_participants = recommender_system_test_participants[recommender_system_test_participants['user_id'].isin(users_w_activity)]\n",
    "recommender_system_test_users = recommender_system_test_users[recommender_system_test_users['user_id'].isin(users_w_activity)]\n",
    "users_test = recommender_system_test_participants['user_id'].to_list()\n",
    "\n",
    "print(len(recommender_system_test_participants))\n",
    "print(len(recommender_system_test_users))"
   ]
  },
  {
   "cell_type": "code",
   "execution_count": 18,
   "metadata": {},
   "outputs": [],
   "source": [
    "# в логах оставлю отобранных пользователей\n",
    "final_ab_events = final_ab_events[final_ab_events['user_id'].isin(users_test)]"
   ]
  },
  {
   "cell_type": "markdown",
   "metadata": {},
   "source": [
    "В тесте после чисток осталось 3244 пользователя"
   ]
  },
  {
   "cell_type": "markdown",
   "metadata": {},
   "source": [
    "Проверка равномерности распределения и правильности формирования групп\n",
    "\n",
    "Проверять равномерность буду по количеству событий между днями привлечения и группой a/b"
   ]
  },
  {
   "cell_type": "code",
   "execution_count": 19,
   "metadata": {},
   "outputs": [],
   "source": [
    "# По пользователям присоединю дату привлечения и подгруппу теста\n",
    "final_ab_events = final_ab_events.merge(\n",
    "                                        recommender_system_test_users[['user_id', 'first_date']],\n",
    "                                        how='left',\n",
    "                                        on='user_id'\n",
    ")\n",
    "\n",
    "# по пользователям из другой таблицы присоединю подгруппу\n",
    "final_ab_events = final_ab_events.merge(\n",
    "                                        recommender_system_test_participants[['user_id', 'group']],\n",
    "                                        how='left',\n",
    "                                        on='user_id'\n",
    ")"
   ]
  },
  {
   "cell_type": "markdown",
   "metadata": {},
   "source": [
    "По ТЗ лайфтайм должен быть 14 дней. Считаю разницу между событием и регистрацией пользователя, перевожу в дни и исключаю строки по условию > 14"
   ]
  },
  {
   "cell_type": "code",
   "execution_count": 20,
   "metadata": {},
   "outputs": [
    {
     "data": {
      "text/html": [
       "<div>\n",
       "<style scoped>\n",
       "    .dataframe tbody tr th:only-of-type {\n",
       "        vertical-align: middle;\n",
       "    }\n",
       "\n",
       "    .dataframe tbody tr th {\n",
       "        vertical-align: top;\n",
       "    }\n",
       "\n",
       "    .dataframe thead th {\n",
       "        text-align: right;\n",
       "    }\n",
       "</style>\n",
       "<table border=\"1\" class=\"dataframe\">\n",
       "  <thead>\n",
       "    <tr style=\"text-align: right;\">\n",
       "      <th></th>\n",
       "      <th>user_id</th>\n",
       "      <th>event_dt</th>\n",
       "      <th>event_name</th>\n",
       "      <th>details</th>\n",
       "      <th>first_date</th>\n",
       "      <th>group</th>\n",
       "      <th>lifetime</th>\n",
       "    </tr>\n",
       "  </thead>\n",
       "  <tbody>\n",
       "    <tr>\n",
       "      <th>0</th>\n",
       "      <td>831887FE7F2D6CBA</td>\n",
       "      <td>2020-12-07 06:50:29</td>\n",
       "      <td>purchase</td>\n",
       "      <td>4.99</td>\n",
       "      <td>2020-12-07</td>\n",
       "      <td>A</td>\n",
       "      <td>0</td>\n",
       "    </tr>\n",
       "    <tr>\n",
       "      <th>1</th>\n",
       "      <td>3C5DD0288AC4FE23</td>\n",
       "      <td>2020-12-07 19:42:40</td>\n",
       "      <td>purchase</td>\n",
       "      <td>4.99</td>\n",
       "      <td>2020-12-07</td>\n",
       "      <td>A</td>\n",
       "      <td>0</td>\n",
       "    </tr>\n",
       "    <tr>\n",
       "      <th>2</th>\n",
       "      <td>49EA242586C87836</td>\n",
       "      <td>2020-12-07 06:31:24</td>\n",
       "      <td>purchase</td>\n",
       "      <td>99.99</td>\n",
       "      <td>2020-12-07</td>\n",
       "      <td>B</td>\n",
       "      <td>0</td>\n",
       "    </tr>\n",
       "    <tr>\n",
       "      <th>3</th>\n",
       "      <td>2B06EB547B7AAD08</td>\n",
       "      <td>2020-12-07 21:36:38</td>\n",
       "      <td>purchase</td>\n",
       "      <td>4.99</td>\n",
       "      <td>2020-12-07</td>\n",
       "      <td>A</td>\n",
       "      <td>0</td>\n",
       "    </tr>\n",
       "    <tr>\n",
       "      <th>4</th>\n",
       "      <td>A640F31CAC7823A6</td>\n",
       "      <td>2020-12-07 18:48:26</td>\n",
       "      <td>purchase</td>\n",
       "      <td>4.99</td>\n",
       "      <td>2020-12-07</td>\n",
       "      <td>B</td>\n",
       "      <td>0</td>\n",
       "    </tr>\n",
       "    <tr>\n",
       "      <th>...</th>\n",
       "      <td>...</td>\n",
       "      <td>...</td>\n",
       "      <td>...</td>\n",
       "      <td>...</td>\n",
       "      <td>...</td>\n",
       "      <td>...</td>\n",
       "      <td>...</td>\n",
       "    </tr>\n",
       "    <tr>\n",
       "      <th>21835</th>\n",
       "      <td>930EACAE048DFF45</td>\n",
       "      <td>2020-12-29 06:56:00</td>\n",
       "      <td>login</td>\n",
       "      <td>NaN</td>\n",
       "      <td>2020-12-20</td>\n",
       "      <td>A</td>\n",
       "      <td>9</td>\n",
       "    </tr>\n",
       "    <tr>\n",
       "      <th>21836</th>\n",
       "      <td>36EDA624DB7B7F90</td>\n",
       "      <td>2020-12-29 20:54:25</td>\n",
       "      <td>login</td>\n",
       "      <td>NaN</td>\n",
       "      <td>2020-12-20</td>\n",
       "      <td>A</td>\n",
       "      <td>9</td>\n",
       "    </tr>\n",
       "    <tr>\n",
       "      <th>21837</th>\n",
       "      <td>E5589EAE02ACD150</td>\n",
       "      <td>2020-12-29 22:17:08</td>\n",
       "      <td>login</td>\n",
       "      <td>NaN</td>\n",
       "      <td>2020-12-20</td>\n",
       "      <td>A</td>\n",
       "      <td>9</td>\n",
       "    </tr>\n",
       "    <tr>\n",
       "      <th>21838</th>\n",
       "      <td>D21F0D4FDCD82DB2</td>\n",
       "      <td>2020-12-29 02:17:00</td>\n",
       "      <td>login</td>\n",
       "      <td>NaN</td>\n",
       "      <td>2020-12-20</td>\n",
       "      <td>A</td>\n",
       "      <td>9</td>\n",
       "    </tr>\n",
       "    <tr>\n",
       "      <th>21839</th>\n",
       "      <td>553BAE96C6EB6240</td>\n",
       "      <td>2020-12-29 14:09:14</td>\n",
       "      <td>login</td>\n",
       "      <td>NaN</td>\n",
       "      <td>2020-12-20</td>\n",
       "      <td>A</td>\n",
       "      <td>9</td>\n",
       "    </tr>\n",
       "  </tbody>\n",
       "</table>\n",
       "<p>21276 rows × 7 columns</p>\n",
       "</div>"
      ],
      "text/plain": [
       "                user_id            event_dt event_name  details first_date  \\\n",
       "0      831887FE7F2D6CBA 2020-12-07 06:50:29   purchase     4.99 2020-12-07   \n",
       "1      3C5DD0288AC4FE23 2020-12-07 19:42:40   purchase     4.99 2020-12-07   \n",
       "2      49EA242586C87836 2020-12-07 06:31:24   purchase    99.99 2020-12-07   \n",
       "3      2B06EB547B7AAD08 2020-12-07 21:36:38   purchase     4.99 2020-12-07   \n",
       "4      A640F31CAC7823A6 2020-12-07 18:48:26   purchase     4.99 2020-12-07   \n",
       "...                 ...                 ...        ...      ...        ...   \n",
       "21835  930EACAE048DFF45 2020-12-29 06:56:00      login      NaN 2020-12-20   \n",
       "21836  36EDA624DB7B7F90 2020-12-29 20:54:25      login      NaN 2020-12-20   \n",
       "21837  E5589EAE02ACD150 2020-12-29 22:17:08      login      NaN 2020-12-20   \n",
       "21838  D21F0D4FDCD82DB2 2020-12-29 02:17:00      login      NaN 2020-12-20   \n",
       "21839  553BAE96C6EB6240 2020-12-29 14:09:14      login      NaN 2020-12-20   \n",
       "\n",
       "      group  lifetime  \n",
       "0         A         0  \n",
       "1         A         0  \n",
       "2         B         0  \n",
       "3         A         0  \n",
       "4         B         0  \n",
       "...     ...       ...  \n",
       "21835     A         9  \n",
       "21836     A         9  \n",
       "21837     A         9  \n",
       "21838     A         9  \n",
       "21839     A         9  \n",
       "\n",
       "[21276 rows x 7 columns]"
      ]
     },
     "execution_count": 20,
     "metadata": {},
     "output_type": "execute_result"
    }
   ],
   "source": [
    "\n",
    "final_ab_events['lifetime'] = final_ab_events['event_dt'] - final_ab_events['first_date']\n",
    "final_ab_events['lifetime'] = final_ab_events['lifetime'].dt.days\n",
    "final_ab_events = final_ab_events.query('lifetime <= 14')\n",
    "final_ab_events"
   ]
  },
  {
   "cell_type": "code",
   "execution_count": 21,
   "metadata": {},
   "outputs": [
    {
     "data": {
      "text/plain": [
       "Text(0, 0.5, 'Кол-во действий на пользователя')"
      ]
     },
     "execution_count": 21,
     "metadata": {},
     "output_type": "execute_result"
    },
    {
     "data": {
      "image/png": "[encoded data removed]",
      "text/plain": [
       "<Figure size 432x288 with 1 Axes>"
      ]
     },
     "metadata": {
      "needs_background": "light"
     },
     "output_type": "display_data"
    }
   ],
   "source": [
    "# группирую по дате привлечения и подгруппам\n",
    "temp_1 = final_ab_events.groupby(['first_date', 'group'], as_index=False).agg({'user_id': 'nunique', 'event_name': 'count'})\n",
    "temp_1.rename(columns={'user_id': 'n_users', 'event_name': 'n_events'}, inplace=True)\n",
    "temp_1['mean_n_events'] = temp_1['n_events'] / temp_1['n_users'] \n",
    "temp_1['first_date'] = temp_1['first_date'].dt.date\n",
    "\n",
    "# визуализирую\n",
    "ax = sns.barplot(data=temp_1, x='mean_n_events', y='first_date', hue='group')\n",
    "ax.set_title('Дата привлечения')\n",
    "ax.set_xlabel('Среднее кол-во действий')\n",
    "ax.set_ylabel('Кол-во действий на пользователя')"
   ]
  },
  {
   "cell_type": "markdown",
   "metadata": {},
   "source": [
    "Среднее количество действий пользователей подгруппы A почти во всех случаях значительно больше, чем группы B. Это может быть обусловлено влиянием эксперимента. В целом распределение событий между пользователями по подгруппам и дням распределено достаточно равномерно."
   ]
  },
  {
   "cell_type": "markdown",
   "metadata": {},
   "source": [
    "## Выводы по корректности проведения теста\n",
    "\n",
    "- Данные частично соответсвтуют требованиям ТЗ: начало и окончание сбора пользователей соответствует ТЗ, сбор событий завершился раньше запланированного на 5 дней раньше. Это должно одинаково повлиять на обе группы теста\n",
    "- Время проведения теста совпадает с двумя маркетинговыми активностями, но, скорее всего, они воздействуют на пользователей обеих групп одинаково\n",
    "- Часть аудитории теста участвовали в других экспериментах в группах B и были исключены\n",
    "- Активность групп распределена неравномерно по времени\n",
    "\n",
    "Исходя из приведенных выше замечаний, тест проведен некорректно и не стоит полагаться на его результаты без проведения дополнительного теста с исправлением замечаний."
   ]
  },
  {
   "cell_type": "markdown",
   "metadata": {},
   "source": [
    "# Исследовательский анализ данных"
   ]
  },
  {
   "cell_type": "markdown",
   "metadata": {},
   "source": [
    "## Количество событий на пользователя одинаково распределены в выборках?"
   ]
  },
  {
   "cell_type": "code",
   "execution_count": 22,
   "metadata": {},
   "outputs": [
    {
     "data": {
      "text/plain": [
       "Text(0, 0.5, 'Кол-во действий на пользователя')"
      ]
     },
     "execution_count": 22,
     "metadata": {},
     "output_type": "execute_result"
    },
    {
     "data": {
      "image/png": "[encoded data removed]",
      "text/plain": [
       "<Figure size 432x288 with 1 Axes>"
      ]
     },
     "metadata": {
      "needs_background": "light"
     },
     "output_type": "display_data"
    }
   ],
   "source": [
    "# группирую по подгруппам\n",
    "temp_1 = final_ab_events.groupby('group', as_index=False).agg({'user_id': 'nunique', 'event_name': 'count'})\n",
    "temp_1.rename(columns={'user_id': 'n_users', 'event_name': 'n_events'}, inplace=True)\n",
    "temp_1['mean_n_events'] = temp_1['n_events'] / temp_1['n_users'] \n",
    "\n",
    "# визуализирую\n",
    "ax = sns.barplot(data=temp_1, x='group', y='mean_n_events')\n",
    "ax.set_title('Среднее кол-во действий')\n",
    "ax.set_xlabel('Подгруппа')\n",
    "ax.set_ylabel('Кол-во действий на пользователя')"
   ]
  },
  {
   "cell_type": "markdown",
   "metadata": {},
   "source": [
    "Количество среднего количества действий на пользователя между группами отличается - пользователь из группы А совершает на 1-1,5 действий больше. Это может быть связано с влиянием нововведения"
   ]
  },
  {
   "cell_type": "markdown",
   "metadata": {},
   "source": [
    "## Как число событий в выборках распределено по дням?"
   ]
  },
  {
   "cell_type": "code",
   "execution_count": 23,
   "metadata": {},
   "outputs": [
    {
     "data": {
      "text/plain": [
       "Text(0, 0.5, 'Дата привлечения')"
      ]
     },
     "execution_count": 23,
     "metadata": {},
     "output_type": "execute_result"
    },
    {
     "data": {
      "image/png": "[encoded data removed]",
      "text/plain": [
       "<Figure size 432x288 with 1 Axes>"
      ]
     },
     "metadata": {
      "needs_background": "light"
     },
     "output_type": "display_data"
    }
   ],
   "source": [
    "# группирую по дате привлечения и подгруппам\n",
    "temp_1 = final_ab_events.groupby(['first_date', 'group'], as_index=False).agg({'user_id': 'nunique', 'event_name': 'count'})\n",
    "temp_1.rename(columns={'user_id': 'n_users', 'event_name': 'n_events'}, inplace=True)\n",
    "temp_1['first_date'] = temp_1['first_date'].dt.date\n",
    "\n",
    "# визуализирую\n",
    "ax = sns.barplot(data=temp_1, x='n_events', y='first_date', hue='group')\n",
    "ax.set_title('Кол-во событий')\n",
    "ax.set_xlabel('Кол-во событий')\n",
    "ax.set_ylabel('Дата привлечения')"
   ]
  },
  {
   "cell_type": "markdown",
   "metadata": {},
   "source": [
    "Абсолютное количество событий по дням распределено более-менее равномерно у группы B, и неравномерно у группы А: начиная с 14 декабря количество действий увеличилось почти в два раза. Маркетинговые активности в этот день не начинались."
   ]
  },
  {
   "cell_type": "markdown",
   "metadata": {},
   "source": [
    "Рост абсолютного числа событий может быть связан с ростом количества пользователей в эти дни. Исследуем"
   ]
  },
  {
   "cell_type": "code",
   "execution_count": 24,
   "metadata": {},
   "outputs": [
    {
     "data": {
      "text/plain": [
       "Text(0, 0.5, 'Дата привлечения')"
      ]
     },
     "execution_count": 24,
     "metadata": {},
     "output_type": "execute_result"
    },
    {
     "data": {
      "image/png": "[encoded data removed]",
      "text/plain": [
       "<Figure size 432x288 with 1 Axes>"
      ]
     },
     "metadata": {
      "needs_background": "light"
     },
     "output_type": "display_data"
    }
   ],
   "source": [
    "# визуализирую\n",
    "ax = sns.barplot(data=temp_1, x='n_users', y='first_date', hue='group')\n",
    "ax.set_title('Кол-во пользователей')\n",
    "ax.set_xlabel('Кол-во пользователей')\n",
    "ax.set_ylabel('Дата привлечения')"
   ]
  },
  {
   "cell_type": "markdown",
   "metadata": {},
   "source": [
    "Действительно, рост активности в эти дни связан с темпом набора пользователей в тест."
   ]
  },
  {
   "cell_type": "markdown",
   "metadata": {},
   "source": [
    "## Как меняется конверсия в воронке в выборках на разных этапах?"
   ]
  },
  {
   "cell_type": "code",
   "execution_count": 25,
   "metadata": {},
   "outputs": [
    {
     "data": {
      "text/html": [
       "<div>\n",
       "<style scoped>\n",
       "    .dataframe tbody tr th:only-of-type {\n",
       "        vertical-align: middle;\n",
       "    }\n",
       "\n",
       "    .dataframe tbody tr th {\n",
       "        vertical-align: top;\n",
       "    }\n",
       "\n",
       "    .dataframe thead th {\n",
       "        text-align: right;\n",
       "    }\n",
       "</style>\n",
       "<table border=\"1\" class=\"dataframe\">\n",
       "  <thead>\n",
       "    <tr style=\"text-align: right;\">\n",
       "      <th></th>\n",
       "      <th>first_date</th>\n",
       "      <th>group</th>\n",
       "      <th>event_name</th>\n",
       "      <th>n_iteractions</th>\n",
       "    </tr>\n",
       "  </thead>\n",
       "  <tbody>\n",
       "    <tr>\n",
       "      <th>0</th>\n",
       "      <td>2020-12-07</td>\n",
       "      <td>A</td>\n",
       "      <td>login</td>\n",
       "      <td>393</td>\n",
       "    </tr>\n",
       "    <tr>\n",
       "      <th>1</th>\n",
       "      <td>2020-12-07</td>\n",
       "      <td>A</td>\n",
       "      <td>product_cart</td>\n",
       "      <td>95</td>\n",
       "    </tr>\n",
       "    <tr>\n",
       "      <th>2</th>\n",
       "      <td>2020-12-07</td>\n",
       "      <td>A</td>\n",
       "      <td>product_page</td>\n",
       "      <td>248</td>\n",
       "    </tr>\n",
       "    <tr>\n",
       "      <th>3</th>\n",
       "      <td>2020-12-07</td>\n",
       "      <td>A</td>\n",
       "      <td>purchase</td>\n",
       "      <td>109</td>\n",
       "    </tr>\n",
       "    <tr>\n",
       "      <th>4</th>\n",
       "      <td>2020-12-07</td>\n",
       "      <td>B</td>\n",
       "      <td>login</td>\n",
       "      <td>472</td>\n",
       "    </tr>\n",
       "  </tbody>\n",
       "</table>\n",
       "</div>"
      ],
      "text/plain": [
       "  first_date group    event_name  n_iteractions\n",
       "0 2020-12-07     A         login            393\n",
       "1 2020-12-07     A  product_cart             95\n",
       "2 2020-12-07     A  product_page            248\n",
       "3 2020-12-07     A      purchase            109\n",
       "4 2020-12-07     B         login            472"
      ]
     },
     "execution_count": 25,
     "metadata": {},
     "output_type": "execute_result"
    }
   ],
   "source": [
    "# строю сводную таблицу для определения этапов вовронки\n",
    "temp_1 = final_ab_events.groupby(['first_date', 'group', 'event_name'], as_index=False).agg({'event_dt': 'count'})\n",
    "temp_1.rename(columns={'event_dt': 'n_iteractions'}, inplace=True)\n",
    "temp_1.head()"
   ]
  },
  {
   "cell_type": "markdown",
   "metadata": {},
   "source": [
    "Судя по распределению количества действий на разных этапах, воронка выглядит следующим образом: логин -> просмотр карточки товара -> покупка. Есть необязательное действие добавление товара в корзину: так как кол-во покупок больше чем добавлений в корзину, товар можно купить сразу с карточки. Так как действия с корзиной не являются предметом исследования данного теста и не являются обязательным шагом в воронке, то это событие можно исключить."
   ]
  },
  {
   "cell_type": "code",
   "execution_count": 26,
   "metadata": {},
   "outputs": [
    {
     "data": {
      "text/html": [
       "<div>\n",
       "<style scoped>\n",
       "    .dataframe tbody tr th:only-of-type {\n",
       "        vertical-align: middle;\n",
       "    }\n",
       "\n",
       "    .dataframe tbody tr th {\n",
       "        vertical-align: top;\n",
       "    }\n",
       "\n",
       "    .dataframe thead th {\n",
       "        text-align: right;\n",
       "    }\n",
       "</style>\n",
       "<table border=\"1\" class=\"dataframe\">\n",
       "  <thead>\n",
       "    <tr style=\"text-align: right;\">\n",
       "      <th></th>\n",
       "      <th>first_date</th>\n",
       "      <th>group</th>\n",
       "      <th>event_name</th>\n",
       "      <th>n_iteractions</th>\n",
       "      <th>n_iteractions_shifted</th>\n",
       "      <th>share</th>\n",
       "    </tr>\n",
       "  </thead>\n",
       "  <tbody>\n",
       "    <tr>\n",
       "      <th>0</th>\n",
       "      <td>2020-12-07</td>\n",
       "      <td>A</td>\n",
       "      <td>login</td>\n",
       "      <td>393</td>\n",
       "      <td>NaN</td>\n",
       "      <td>NaN</td>\n",
       "    </tr>\n",
       "    <tr>\n",
       "      <th>1</th>\n",
       "      <td>2020-12-07</td>\n",
       "      <td>A</td>\n",
       "      <td>product_page</td>\n",
       "      <td>248</td>\n",
       "      <td>393.0</td>\n",
       "      <td>63.104326</td>\n",
       "    </tr>\n",
       "    <tr>\n",
       "      <th>2</th>\n",
       "      <td>2020-12-07</td>\n",
       "      <td>A</td>\n",
       "      <td>purchase</td>\n",
       "      <td>109</td>\n",
       "      <td>248.0</td>\n",
       "      <td>43.951613</td>\n",
       "    </tr>\n",
       "    <tr>\n",
       "      <th>3</th>\n",
       "      <td>2020-12-07</td>\n",
       "      <td>B</td>\n",
       "      <td>login</td>\n",
       "      <td>472</td>\n",
       "      <td>NaN</td>\n",
       "      <td>NaN</td>\n",
       "    </tr>\n",
       "    <tr>\n",
       "      <th>4</th>\n",
       "      <td>2020-12-07</td>\n",
       "      <td>B</td>\n",
       "      <td>product_page</td>\n",
       "      <td>300</td>\n",
       "      <td>472.0</td>\n",
       "      <td>63.559322</td>\n",
       "    </tr>\n",
       "    <tr>\n",
       "      <th>...</th>\n",
       "      <td>...</td>\n",
       "      <td>...</td>\n",
       "      <td>...</td>\n",
       "      <td>...</td>\n",
       "      <td>...</td>\n",
       "      <td>...</td>\n",
       "    </tr>\n",
       "    <tr>\n",
       "      <th>85</th>\n",
       "      <td>2020-12-21</td>\n",
       "      <td>A</td>\n",
       "      <td>product_page</td>\n",
       "      <td>700</td>\n",
       "      <td>1069.0</td>\n",
       "      <td>65.481759</td>\n",
       "    </tr>\n",
       "    <tr>\n",
       "      <th>86</th>\n",
       "      <td>2020-12-21</td>\n",
       "      <td>A</td>\n",
       "      <td>purchase</td>\n",
       "      <td>340</td>\n",
       "      <td>700.0</td>\n",
       "      <td>48.571429</td>\n",
       "    </tr>\n",
       "    <tr>\n",
       "      <th>87</th>\n",
       "      <td>2020-12-21</td>\n",
       "      <td>B</td>\n",
       "      <td>login</td>\n",
       "      <td>202</td>\n",
       "      <td>NaN</td>\n",
       "      <td>NaN</td>\n",
       "    </tr>\n",
       "    <tr>\n",
       "      <th>88</th>\n",
       "      <td>2020-12-21</td>\n",
       "      <td>B</td>\n",
       "      <td>product_page</td>\n",
       "      <td>108</td>\n",
       "      <td>202.0</td>\n",
       "      <td>53.465347</td>\n",
       "    </tr>\n",
       "    <tr>\n",
       "      <th>89</th>\n",
       "      <td>2020-12-21</td>\n",
       "      <td>B</td>\n",
       "      <td>purchase</td>\n",
       "      <td>58</td>\n",
       "      <td>108.0</td>\n",
       "      <td>53.703704</td>\n",
       "    </tr>\n",
       "  </tbody>\n",
       "</table>\n",
       "<p>90 rows × 6 columns</p>\n",
       "</div>"
      ],
      "text/plain": [
       "    first_date group    event_name  n_iteractions  n_iteractions_shifted  \\\n",
       "0   2020-12-07     A         login            393                    NaN   \n",
       "1   2020-12-07     A  product_page            248                  393.0   \n",
       "2   2020-12-07     A      purchase            109                  248.0   \n",
       "3   2020-12-07     B         login            472                    NaN   \n",
       "4   2020-12-07     B  product_page            300                  472.0   \n",
       "..         ...   ...           ...            ...                    ...   \n",
       "85  2020-12-21     A  product_page            700                 1069.0   \n",
       "86  2020-12-21     A      purchase            340                  700.0   \n",
       "87  2020-12-21     B         login            202                    NaN   \n",
       "88  2020-12-21     B  product_page            108                  202.0   \n",
       "89  2020-12-21     B      purchase             58                  108.0   \n",
       "\n",
       "        share  \n",
       "0         NaN  \n",
       "1   63.104326  \n",
       "2   43.951613  \n",
       "3         NaN  \n",
       "4   63.559322  \n",
       "..        ...  \n",
       "85  65.481759  \n",
       "86  48.571429  \n",
       "87        NaN  \n",
       "88  53.465347  \n",
       "89  53.703704  \n",
       "\n",
       "[90 rows x 6 columns]"
      ]
     },
     "execution_count": 26,
     "metadata": {},
     "output_type": "execute_result"
    }
   ],
   "source": [
    "# исключаю необязательный шаг\n",
    "final_ab_events_no_pc = final_ab_events.query('event_name != \"product_cart\"')\n",
    "\n",
    "# собираю сводную таблицу для ответа на вопрос\n",
    "temp_1 = final_ab_events_no_pc.groupby(['first_date', 'group', 'event_name'], as_index=False).agg({'event_dt': 'count'})\n",
    "temp_1.rename(columns={'event_dt': 'n_iteractions'}, inplace=True)\n",
    "temp_1['n_iteractions_shifted'] = temp_1.groupby(['first_date', 'group'], as_index=False)['n_iteractions'].shift(1)\n",
    "temp_1['share'] = temp_1['n_iteractions'] / temp_1['n_iteractions_shifted'] *100\n",
    "temp_1['first_date'] = temp_1['first_date'].dt.date\n",
    "temp_1"
   ]
  },
  {
   "cell_type": "code",
   "execution_count": 27,
   "metadata": {},
   "outputs": [
    {
     "data": {
      "text/plain": [
       "Text(0, 0.5, 'Дата привлечения')"
      ]
     },
     "execution_count": 27,
     "metadata": {},
     "output_type": "execute_result"
    },
    {
     "data": {
      "image/png": "[encoded data removed]",
      "text/plain": [
       "<Figure size 432x288 with 1 Axes>"
      ]
     },
     "metadata": {
      "needs_background": "light"
     },
     "output_type": "display_data"
    }
   ],
   "source": [
    "# визуализирую конверсию группы А\n",
    "temp_a = temp_1.query('group == \"A\"')\n",
    "ax = sns.barplot(data=temp_a, x='share', y='first_date', hue='event_name')\n",
    "ax.set_title('Конверсия между этапами по дням, %')\n",
    "ax.set_xlabel('Процент конверсии')\n",
    "ax.set_ylabel('Дата привлечения')"
   ]
  },
  {
   "cell_type": "markdown",
   "metadata": {},
   "source": [
    "В группе А во все дни процент конверсии из логинов в просмотр карточки товара составляет около 65-70%. Конверсия в покупки из просмотров карточек менее стабильная и составляет около 50% в среднем. Есть провалы 11-13 декабря."
   ]
  },
  {
   "cell_type": "code",
   "execution_count": 28,
   "metadata": {},
   "outputs": [
    {
     "data": {
      "text/plain": [
       "Text(0, 0.5, 'Дата привлечения')"
      ]
     },
     "execution_count": 28,
     "metadata": {},
     "output_type": "execute_result"
    },
    {
     "data": {
      "image/png": "[encoded data removed]",
      "text/plain": [
       "<Figure size 432x288 with 1 Axes>"
      ]
     },
     "metadata": {
      "needs_background": "light"
     },
     "output_type": "display_data"
    }
   ],
   "source": [
    "# визуализирую конверсию группы B\n",
    "temp_b = temp_1.query('group == \"B\"')\n",
    "ax = sns.barplot(data=temp_b, x='share', y='first_date', hue='event_name')\n",
    "ax.set_title('Конверсия между этапами по дням, %')\n",
    "ax.set_xlabel('Процент конверсии')\n",
    "ax.set_ylabel('Дата привлечения')"
   ]
  },
  {
   "cell_type": "markdown",
   "metadata": {},
   "source": [
    "В группе B конверсия из логинов в просмотры карточек снизилась до 40-50%, а конверсия в покупки относительно просмотров карточек осталась примерно такой же. Возможно, новая рекомендательная система привела к тому, что карточки товаров теперь открывают реже, а покупают из них - так же. Стоит посмотреть средние значения по группам без разбивки по дням."
   ]
  },
  {
   "cell_type": "code",
   "execution_count": 29,
   "metadata": {},
   "outputs": [
    {
     "data": {
      "text/html": [
       "<div>\n",
       "<style scoped>\n",
       "    .dataframe tbody tr th:only-of-type {\n",
       "        vertical-align: middle;\n",
       "    }\n",
       "\n",
       "    .dataframe tbody tr th {\n",
       "        vertical-align: top;\n",
       "    }\n",
       "\n",
       "    .dataframe thead th {\n",
       "        text-align: right;\n",
       "    }\n",
       "</style>\n",
       "<table border=\"1\" class=\"dataframe\">\n",
       "  <thead>\n",
       "    <tr style=\"text-align: right;\">\n",
       "      <th></th>\n",
       "      <th>group</th>\n",
       "      <th>event_name</th>\n",
       "      <th>n_iteractions</th>\n",
       "      <th>n_iteractions_shifted</th>\n",
       "      <th>share</th>\n",
       "    </tr>\n",
       "  </thead>\n",
       "  <tbody>\n",
       "    <tr>\n",
       "      <th>0</th>\n",
       "      <td>A</td>\n",
       "      <td>login</td>\n",
       "      <td>7450</td>\n",
       "      <td>NaN</td>\n",
       "      <td>NaN</td>\n",
       "    </tr>\n",
       "    <tr>\n",
       "      <th>1</th>\n",
       "      <td>A</td>\n",
       "      <td>product_page</td>\n",
       "      <td>4804</td>\n",
       "      <td>7450.0</td>\n",
       "      <td>64.483221</td>\n",
       "    </tr>\n",
       "    <tr>\n",
       "      <th>2</th>\n",
       "      <td>A</td>\n",
       "      <td>purchase</td>\n",
       "      <td>2319</td>\n",
       "      <td>4804.0</td>\n",
       "      <td>48.272273</td>\n",
       "    </tr>\n",
       "    <tr>\n",
       "      <th>3</th>\n",
       "      <td>B</td>\n",
       "      <td>login</td>\n",
       "      <td>2184</td>\n",
       "      <td>NaN</td>\n",
       "      <td>NaN</td>\n",
       "    </tr>\n",
       "    <tr>\n",
       "      <th>4</th>\n",
       "      <td>B</td>\n",
       "      <td>product_page</td>\n",
       "      <td>1148</td>\n",
       "      <td>2184.0</td>\n",
       "      <td>52.564103</td>\n",
       "    </tr>\n",
       "    <tr>\n",
       "      <th>5</th>\n",
       "      <td>B</td>\n",
       "      <td>purchase</td>\n",
       "      <td>547</td>\n",
       "      <td>1148.0</td>\n",
       "      <td>47.648084</td>\n",
       "    </tr>\n",
       "  </tbody>\n",
       "</table>\n",
       "</div>"
      ],
      "text/plain": [
       "  group    event_name  n_iteractions  n_iteractions_shifted      share\n",
       "0     A         login           7450                    NaN        NaN\n",
       "1     A  product_page           4804                 7450.0  64.483221\n",
       "2     A      purchase           2319                 4804.0  48.272273\n",
       "3     B         login           2184                    NaN        NaN\n",
       "4     B  product_page           1148                 2184.0  52.564103\n",
       "5     B      purchase            547                 1148.0  47.648084"
      ]
     },
     "execution_count": 29,
     "metadata": {},
     "output_type": "execute_result"
    }
   ],
   "source": [
    "# без разбивки по датам\n",
    "temp_1 = final_ab_events_no_pc.groupby(['group', 'event_name'], as_index=False).agg({'event_dt': 'count'})\n",
    "temp_1.rename(columns={'event_dt': 'n_iteractions'}, inplace=True)\n",
    "temp_1['n_iteractions_shifted'] = temp_1.groupby(['group'], as_index=False)['n_iteractions'].shift(1)\n",
    "temp_1['share'] = temp_1['n_iteractions'] / temp_1['n_iteractions_shifted'] *100\n",
    "temp_1"
   ]
  },
  {
   "cell_type": "markdown",
   "metadata": {},
   "source": [
    "Выводы подверждаются: снизилась конверсия логинов в просмотры товаров, уровень оплат из просмотра товаров остался тем же. Пока нельзя однозначно сказать, как повлияла рекомендательная система на работу магазина. Может быть, пользователям приходится меньше заходить в приложение, так как они быстрее находят нужный товар? Нужно посмотреть конверсию логин -> покупка и долю пользователей с покупками "
   ]
  },
  {
   "cell_type": "code",
   "execution_count": 30,
   "metadata": {},
   "outputs": [
    {
     "data": {
      "text/html": [
       "<div>\n",
       "<style scoped>\n",
       "    .dataframe tbody tr th:only-of-type {\n",
       "        vertical-align: middle;\n",
       "    }\n",
       "\n",
       "    .dataframe tbody tr th {\n",
       "        vertical-align: top;\n",
       "    }\n",
       "\n",
       "    .dataframe thead th {\n",
       "        text-align: right;\n",
       "    }\n",
       "</style>\n",
       "<table border=\"1\" class=\"dataframe\">\n",
       "  <thead>\n",
       "    <tr style=\"text-align: right;\">\n",
       "      <th></th>\n",
       "      <th>group</th>\n",
       "      <th>event_name</th>\n",
       "      <th>n_iteractions</th>\n",
       "      <th>n_iteractions_shifted</th>\n",
       "      <th>share</th>\n",
       "    </tr>\n",
       "  </thead>\n",
       "  <tbody>\n",
       "    <tr>\n",
       "      <th>0</th>\n",
       "      <td>A</td>\n",
       "      <td>login</td>\n",
       "      <td>7450</td>\n",
       "      <td>NaN</td>\n",
       "      <td>NaN</td>\n",
       "    </tr>\n",
       "    <tr>\n",
       "      <th>1</th>\n",
       "      <td>A</td>\n",
       "      <td>purchase</td>\n",
       "      <td>2319</td>\n",
       "      <td>7450.0</td>\n",
       "      <td>31.127517</td>\n",
       "    </tr>\n",
       "    <tr>\n",
       "      <th>2</th>\n",
       "      <td>B</td>\n",
       "      <td>login</td>\n",
       "      <td>2184</td>\n",
       "      <td>NaN</td>\n",
       "      <td>NaN</td>\n",
       "    </tr>\n",
       "    <tr>\n",
       "      <th>3</th>\n",
       "      <td>B</td>\n",
       "      <td>purchase</td>\n",
       "      <td>547</td>\n",
       "      <td>2184.0</td>\n",
       "      <td>25.045788</td>\n",
       "    </tr>\n",
       "  </tbody>\n",
       "</table>\n",
       "</div>"
      ],
      "text/plain": [
       "  group event_name  n_iteractions  n_iteractions_shifted      share\n",
       "0     A      login           7450                    NaN        NaN\n",
       "1     A   purchase           2319                 7450.0  31.127517\n",
       "2     B      login           2184                    NaN        NaN\n",
       "3     B   purchase            547                 2184.0  25.045788"
      ]
     },
     "execution_count": 30,
     "metadata": {},
     "output_type": "execute_result"
    }
   ],
   "source": [
    "# конверсия логин-> покупка\n",
    "temp_1 = final_ab_events_no_pc.query('event_name != \"product_page\"')\n",
    "temp_1 = temp_1.groupby(['group', 'event_name'], as_index=False).agg({'event_dt': 'count'})\n",
    "temp_1.rename(columns={'event_dt': 'n_iteractions'}, inplace=True)\n",
    "temp_1['n_iteractions_shifted'] = temp_1.groupby(['group'], as_index=False)['n_iteractions'].shift(1)\n",
    "temp_1['share'] = temp_1['n_iteractions'] / temp_1['n_iteractions_shifted'] *100\n",
    "temp_1\n"
   ]
  },
  {
   "cell_type": "markdown",
   "metadata": {},
   "source": [
    "Нет, конверсия логин -> покупка тоже снизилась."
   ]
  },
  {
   "cell_type": "code",
   "execution_count": 31,
   "metadata": {},
   "outputs": [
    {
     "name": "stdout",
     "output_type": "stream",
     "text": [
      "Доля платящих пользователей A 0.3191577208918249\n",
      "Доля платящих пользователей B 0.2749391727493917\n"
     ]
    }
   ],
   "source": [
    "# доля платящих пользователей в группах\n",
    "print('Доля платящих пользователей A', len(final_ab_events.query('event_name == \"purchase\" and group == \"A\"')['user_id'].unique()) / len(recommender_system_test_participants.query('group == \"A\"')['user_id'].unique()))\n",
    "print('Доля платящих пользователей B', len(final_ab_events.query('event_name == \"purchase\" and group == \"B\"')['user_id'].unique()) / len(recommender_system_test_participants.query('group == \"B\"')['user_id'].unique()))"
   ]
  },
  {
   "cell_type": "markdown",
   "metadata": {},
   "source": [
    "Строю интерактивную воронку по группам"
   ]
  },
  {
   "cell_type": "code",
   "execution_count": 39,
   "metadata": {},
   "outputs": [
    {
     "data": {
      "application/vnd.plotly.v1+json": {
       "config": {
        "plotlyServerURL": "https://plot.ly"
       },
       "data": [
        {
         "name": "A",
         "textinfo": "value+percent previous",
         "textposition": "inside",
         "type": "funnel",
         "x": [
          7450,
          4804,
          2319
         ],
         "y": [
          "login",
          "product_page",
          "purchase"
         ]
        },
        {
         "name": "B",
         "orientation": "h",
         "textinfo": "value+percent previous",
         "textposition": "inside",
         "type": "funnel",
         "x": [
          2184,
          1148,
          547
         ],
         "y": [
          "login",
          "product_page",
          "purchase"
         ]
        }
       ],
       "layout": {
        "template": {
         "data": {
          "bar": [
           {
            "error_x": {
             "color": "#2a3f5f"
            },
            "error_y": {
             "color": "#2a3f5f"
            },
            "marker": {
             "line": {
              "color": "#E5ECF6",
              "width": 0.5
             },
             "pattern": {
              "fillmode": "overlay",
              "size": 10,
              "solidity": 0.2
             }
            },
            "type": "bar"
           }
          ],
          "barpolar": [
           {
            "marker": {
             "line": {
              "color": "#E5ECF6",
              "width": 0.5
             },
             "pattern": {
              "fillmode": "overlay",
              "size": 10,
              "solidity": 0.2
             }
            },
            "type": "barpolar"
           }
          ],
          "carpet": [
           {
            "aaxis": {
             "endlinecolor": "#2a3f5f",
             "gridcolor": "white",
             "linecolor": "white",
             "minorgridcolor": "white",
             "startlinecolor": "#2a3f5f"
            },
            "baxis": {
             "endlinecolor": "#2a3f5f",
             "gridcolor": "white",
             "linecolor": "white",
             "minorgridcolor": "white",
             "startlinecolor": "#2a3f5f"
            },
            "type": "carpet"
           }
          ],
          "choropleth": [
           {
            "colorbar": {
             "outlinewidth": 0,
             "ticks": ""
            },
            "type": "choropleth"
           }
          ],
          "contour": [
           {
            "colorbar": {
             "outlinewidth": 0,
             "ticks": ""
            },
            "colorscale": [
             [
              0,
              "#0d0887"
             ],
             [
              0.1111111111111111,
              "#46039f"
             ],
             [
              0.2222222222222222,
              "#7201a8"
             ],
             [
              0.3333333333333333,
              "#9c179e"
             ],
             [
              0.4444444444444444,
              "#bd3786"
             ],
             [
              0.5555555555555556,
              "#d8576b"
             ],
             [
              0.6666666666666666,
              "#ed7953"
             ],
             [
              0.7777777777777778,
              "#fb9f3a"
             ],
             [
              0.8888888888888888,
              "#fdca26"
             ],
             [
              1,
              "#f0f921"
             ]
            ],
            "type": "contour"
           }
          ],
          "contourcarpet": [
           {
            "colorbar": {
             "outlinewidth": 0,
             "ticks": ""
            },
            "type": "contourcarpet"
           }
          ],
          "heatmap": [
           {
            "colorbar": {
             "outlinewidth": 0,
             "ticks": ""
            },
            "colorscale": [
             [
              0,
              "#0d0887"
             ],
             [
              0.1111111111111111,
              "#46039f"
             ],
             [
              0.2222222222222222,
              "#7201a8"
             ],
             [
              0.3333333333333333,
              "#9c179e"
             ],
             [
              0.4444444444444444,
              "#bd3786"
             ],
             [
              0.5555555555555556,
              "#d8576b"
             ],
             [
              0.6666666666666666,
              "#ed7953"
             ],
             [
              0.7777777777777778,
              "#fb9f3a"
             ],
             [
              0.8888888888888888,
              "#fdca26"
             ],
             [
              1,
              "#f0f921"
             ]
            ],
            "type": "heatmap"
           }
          ],
          "heatmapgl": [
           {
            "colorbar": {
             "outlinewidth": 0,
             "ticks": ""
            },
            "colorscale": [
             [
              0,
              "#0d0887"
             ],
             [
              0.1111111111111111,
              "#46039f"
             ],
             [
              0.2222222222222222,
              "#7201a8"
             ],
             [
              0.3333333333333333,
              "#9c179e"
             ],
             [
              0.4444444444444444,
              "#bd3786"
             ],
             [
              0.5555555555555556,
              "#d8576b"
             ],
             [
              0.6666666666666666,
              "#ed7953"
             ],
             [
              0.7777777777777778,
              "#fb9f3a"
             ],
             [
              0.8888888888888888,
              "#fdca26"
             ],
             [
              1,
              "#f0f921"
             ]
            ],
            "type": "heatmapgl"
           }
          ],
          "histogram": [
           {
            "marker": {
             "pattern": {
              "fillmode": "overlay",
              "size": 10,
              "solidity": 0.2
             }
            },
            "type": "histogram"
           }
          ],
          "histogram2d": [
           {
            "colorbar": {
             "outlinewidth": 0,
             "ticks": ""
            },
            "colorscale": [
             [
              0,
              "#0d0887"
             ],
             [
              0.1111111111111111,
              "#46039f"
             ],
             [
              0.2222222222222222,
              "#7201a8"
             ],
             [
              0.3333333333333333,
              "#9c179e"
             ],
             [
              0.4444444444444444,
              "#bd3786"
             ],
             [
              0.5555555555555556,
              "#d8576b"
             ],
             [
              0.6666666666666666,
              "#ed7953"
             ],
             [
              0.7777777777777778,
              "#fb9f3a"
             ],
             [
              0.8888888888888888,
              "#fdca26"
             ],
             [
              1,
              "#f0f921"
             ]
            ],
            "type": "histogram2d"
           }
          ],
          "histogram2dcontour": [
           {
            "colorbar": {
             "outlinewidth": 0,
             "ticks": ""
            },
            "colorscale": [
             [
              0,
              "#0d0887"
             ],
             [
              0.1111111111111111,
              "#46039f"
             ],
             [
              0.2222222222222222,
              "#7201a8"
             ],
             [
              0.3333333333333333,
              "#9c179e"
             ],
             [
              0.4444444444444444,
              "#bd3786"
             ],
             [
              0.5555555555555556,
              "#d8576b"
             ],
             [
              0.6666666666666666,
              "#ed7953"
             ],
             [
              0.7777777777777778,
              "#fb9f3a"
             ],
             [
              0.8888888888888888,
              "#fdca26"
             ],
             [
              1,
              "#f0f921"
             ]
            ],
            "type": "histogram2dcontour"
           }
          ],
          "mesh3d": [
           {
            "colorbar": {
             "outlinewidth": 0,
             "ticks": ""
            },
            "type": "mesh3d"
           }
          ],
          "parcoords": [
           {
            "line": {
             "colorbar": {
              "outlinewidth": 0,
              "ticks": ""
             }
            },
            "type": "parcoords"
           }
          ],
          "pie": [
           {
            "automargin": true,
            "type": "pie"
           }
          ],
          "scatter": [
           {
            "marker": {
             "colorbar": {
              "outlinewidth": 0,
              "ticks": ""
             }
            },
            "type": "scatter"
           }
          ],
          "scatter3d": [
           {
            "line": {
             "colorbar": {
              "outlinewidth": 0,
              "ticks": ""
             }
            },
            "marker": {
             "colorbar": {
              "outlinewidth": 0,
              "ticks": ""
             }
            },
            "type": "scatter3d"
           }
          ],
          "scattercarpet": [
           {
            "marker": {
             "colorbar": {
              "outlinewidth": 0,
              "ticks": ""
             }
            },
            "type": "scattercarpet"
           }
          ],
          "scattergeo": [
           {
            "marker": {
             "colorbar": {
              "outlinewidth": 0,
              "ticks": ""
             }
            },
            "type": "scattergeo"
           }
          ],
          "scattergl": [
           {
            "marker": {
             "colorbar": {
              "outlinewidth": 0,
              "ticks": ""
             }
            },
            "type": "scattergl"
           }
          ],
          "scattermapbox": [
           {
            "marker": {
             "colorbar": {
              "outlinewidth": 0,
              "ticks": ""
             }
            },
            "type": "scattermapbox"
           }
          ],
          "scatterpolar": [
           {
            "marker": {
             "colorbar": {
              "outlinewidth": 0,
              "ticks": ""
             }
            },
            "type": "scatterpolar"
           }
          ],
          "scatterpolargl": [
           {
            "marker": {
             "colorbar": {
              "outlinewidth": 0,
              "ticks": ""
             }
            },
            "type": "scatterpolargl"
           }
          ],
          "scatterternary": [
           {
            "marker": {
             "colorbar": {
              "outlinewidth": 0,
              "ticks": ""
             }
            },
            "type": "scatterternary"
           }
          ],
          "surface": [
           {
            "colorbar": {
             "outlinewidth": 0,
             "ticks": ""
            },
            "colorscale": [
             [
              0,
              "#0d0887"
             ],
             [
              0.1111111111111111,
              "#46039f"
             ],
             [
              0.2222222222222222,
              "#7201a8"
             ],
             [
              0.3333333333333333,
              "#9c179e"
             ],
             [
              0.4444444444444444,
              "#bd3786"
             ],
             [
              0.5555555555555556,
              "#d8576b"
             ],
             [
              0.6666666666666666,
              "#ed7953"
             ],
             [
              0.7777777777777778,
              "#fb9f3a"
             ],
             [
              0.8888888888888888,
              "#fdca26"
             ],
             [
              1,
              "#f0f921"
             ]
            ],
            "type": "surface"
           }
          ],
          "table": [
           {
            "cells": {
             "fill": {
              "color": "#EBF0F8"
             },
             "line": {
              "color": "white"
             }
            },
            "header": {
             "fill": {
              "color": "#C8D4E3"
             },
             "line": {
              "color": "white"
             }
            },
            "type": "table"
           }
          ]
         },
         "layout": {
          "annotationdefaults": {
           "arrowcolor": "#2a3f5f",
           "arrowhead": 0,
           "arrowwidth": 1
          },
          "autotypenumbers": "strict",
          "coloraxis": {
           "colorbar": {
            "outlinewidth": 0,
            "ticks": ""
           }
          },
          "colorscale": {
           "diverging": [
            [
             0,
             "#8e0152"
            ],
            [
             0.1,
             "#c51b7d"
            ],
            [
             0.2,
             "#de77ae"
            ],
            [
             0.3,
             "#f1b6da"
            ],
            [
             0.4,
             "#fde0ef"
            ],
            [
             0.5,
             "#f7f7f7"
            ],
            [
             0.6,
             "#e6f5d0"
            ],
            [
             0.7,
             "#b8e186"
            ],
            [
             0.8,
             "#7fbc41"
            ],
            [
             0.9,
             "#4d9221"
            ],
            [
             1,
             "#276419"
            ]
           ],
           "sequential": [
            [
             0,
             "#0d0887"
            ],
            [
             0.1111111111111111,
             "#46039f"
            ],
            [
             0.2222222222222222,
             "#7201a8"
            ],
            [
             0.3333333333333333,
             "#9c179e"
            ],
            [
             0.4444444444444444,
             "#bd3786"
            ],
            [
             0.5555555555555556,
             "#d8576b"
            ],
            [
             0.6666666666666666,
             "#ed7953"
            ],
            [
             0.7777777777777778,
             "#fb9f3a"
            ],
            [
             0.8888888888888888,
             "#fdca26"
            ],
            [
             1,
             "#f0f921"
            ]
           ],
           "sequentialminus": [
            [
             0,
             "#0d0887"
            ],
            [
             0.1111111111111111,
             "#46039f"
            ],
            [
             0.2222222222222222,
             "#7201a8"
            ],
            [
             0.3333333333333333,
             "#9c179e"
            ],
            [
             0.4444444444444444,
             "#bd3786"
            ],
            [
             0.5555555555555556,
             "#d8576b"
            ],
            [
             0.6666666666666666,
             "#ed7953"
            ],
            [
             0.7777777777777778,
             "#fb9f3a"
            ],
            [
             0.8888888888888888,
             "#fdca26"
            ],
            [
             1,
             "#f0f921"
            ]
           ]
          },
          "colorway": [
           "#636efa",
           "#EF553B",
           "#00cc96",
           "#ab63fa",
           "#FFA15A",
           "#19d3f3",
           "#FF6692",
           "#B6E880",
           "#FF97FF",
           "#FECB52"
          ],
          "font": {
           "color": "#2a3f5f"
          },
          "geo": {
           "bgcolor": "white",
           "lakecolor": "white",
           "landcolor": "#E5ECF6",
           "showlakes": true,
           "showland": true,
           "subunitcolor": "white"
          },
          "hoverlabel": {
           "align": "left"
          },
          "hovermode": "closest",
          "mapbox": {
           "style": "light"
          },
          "paper_bgcolor": "white",
          "plot_bgcolor": "#E5ECF6",
          "polar": {
           "angularaxis": {
            "gridcolor": "white",
            "linecolor": "white",
            "ticks": ""
           },
           "bgcolor": "#E5ECF6",
           "radialaxis": {
            "gridcolor": "white",
            "linecolor": "white",
            "ticks": ""
           }
          },
          "scene": {
           "xaxis": {
            "backgroundcolor": "#E5ECF6",
            "gridcolor": "white",
            "gridwidth": 2,
            "linecolor": "white",
            "showbackground": true,
            "ticks": "",
            "zerolinecolor": "white"
           },
           "yaxis": {
            "backgroundcolor": "#E5ECF6",
            "gridcolor": "white",
            "gridwidth": 2,
            "linecolor": "white",
            "showbackground": true,
            "ticks": "",
            "zerolinecolor": "white"
           },
           "zaxis": {
            "backgroundcolor": "#E5ECF6",
            "gridcolor": "white",
            "gridwidth": 2,
            "linecolor": "white",
            "showbackground": true,
            "ticks": "",
            "zerolinecolor": "white"
           }
          },
          "shapedefaults": {
           "line": {
            "color": "#2a3f5f"
           }
          },
          "ternary": {
           "aaxis": {
            "gridcolor": "white",
            "linecolor": "white",
            "ticks": ""
           },
           "baxis": {
            "gridcolor": "white",
            "linecolor": "white",
            "ticks": ""
           },
           "bgcolor": "#E5ECF6",
           "caxis": {
            "gridcolor": "white",
            "linecolor": "white",
            "ticks": ""
           }
          },
          "title": {
           "x": 0.05
          },
          "xaxis": {
           "automargin": true,
           "gridcolor": "white",
           "linecolor": "white",
           "ticks": "",
           "title": {
            "standoff": 15
           },
           "zerolinecolor": "white",
           "zerolinewidth": 2
          },
          "yaxis": {
           "automargin": true,
           "gridcolor": "white",
           "linecolor": "white",
           "ticks": "",
           "title": {
            "standoff": 15
           },
           "zerolinecolor": "white",
           "zerolinewidth": 2
          }
         }
        }
       }
      },
      "text/html": [
       "<div>                            <div id=\"e26f4ae7-9ad2-4a6d-9b5d-0dec5f9f63e9\" class=\"plotly-graph-div\" style=\"height:525px; width:100%;\"></div>            <script type=\"text/javascript\">                require([\"plotly\"], function(Plotly) {                    window.PLOTLYENV=window.PLOTLYENV || {};                                    if (document.getElementById(\"e26f4ae7-9ad2-4a6d-9b5d-0dec5f9f63e9\")) {                    Plotly.newPlot(                        \"e26f4ae7-9ad2-4a6d-9b5d-0dec5f9f63e9\",                        [{\"name\":\"A\",\"textinfo\":\"value+percent previous\",\"textposition\":\"inside\",\"x\":[7450,4804,2319],\"y\":[\"login\",\"product_page\",\"purchase\"],\"type\":\"funnel\"},{\"name\":\"B\",\"orientation\":\"h\",\"textinfo\":\"value+percent previous\",\"textposition\":\"inside\",\"x\":[2184,1148,547],\"y\":[\"login\",\"product_page\",\"purchase\"],\"type\":\"funnel\"}],                        {\"template\":{\"data\":{\"bar\":[{\"error_x\":{\"color\":\"#2a3f5f\"},\"error_y\":{\"color\":\"#2a3f5f\"},\"marker\":{\"line\":{\"color\":\"#E5ECF6\",\"width\":0.5},\"pattern\":{\"fillmode\":\"overlay\",\"size\":10,\"solidity\":0.2}},\"type\":\"bar\"}],\"barpolar\":[{\"marker\":{\"line\":{\"color\":\"#E5ECF6\",\"width\":0.5},\"pattern\":{\"fillmode\":\"overlay\",\"size\":10,\"solidity\":0.2}},\"type\":\"barpolar\"}],\"carpet\":[{\"aaxis\":{\"endlinecolor\":\"#2a3f5f\",\"gridcolor\":\"white\",\"linecolor\":\"white\",\"minorgridcolor\":\"white\",\"startlinecolor\":\"#2a3f5f\"},\"baxis\":{\"endlinecolor\":\"#2a3f5f\",\"gridcolor\":\"white\",\"linecolor\":\"white\",\"minorgridcolor\":\"white\",\"startlinecolor\":\"#2a3f5f\"},\"type\":\"carpet\"}],\"choropleth\":[{\"colorbar\":{\"outlinewidth\":0,\"ticks\":\"\"},\"type\":\"choropleth\"}],\"contour\":[{\"colorbar\":{\"outlinewidth\":0,\"ticks\":\"\"},\"colorscale\":[[0.0,\"#0d0887\"],[0.1111111111111111,\"#46039f\"],[0.2222222222222222,\"#7201a8\"],[0.3333333333333333,\"#9c179e\"],[0.4444444444444444,\"#bd3786\"],[0.5555555555555556,\"#d8576b\"],[0.6666666666666666,\"#ed7953\"],[0.7777777777777778,\"#fb9f3a\"],[0.8888888888888888,\"#fdca26\"],[1.0,\"#f0f921\"]],\"type\":\"contour\"}],\"contourcarpet\":[{\"colorbar\":{\"outlinewidth\":0,\"ticks\":\"\"},\"type\":\"contourcarpet\"}],\"heatmap\":[{\"colorbar\":{\"outlinewidth\":0,\"ticks\":\"\"},\"colorscale\":[[0.0,\"#0d0887\"],[0.1111111111111111,\"#46039f\"],[0.2222222222222222,\"#7201a8\"],[0.3333333333333333,\"#9c179e\"],[0.4444444444444444,\"#bd3786\"],[0.5555555555555556,\"#d8576b\"],[0.6666666666666666,\"#ed7953\"],[0.7777777777777778,\"#fb9f3a\"],[0.8888888888888888,\"#fdca26\"],[1.0,\"#f0f921\"]],\"type\":\"heatmap\"}],\"heatmapgl\":[{\"colorbar\":{\"outlinewidth\":0,\"ticks\":\"\"},\"colorscale\":[[0.0,\"#0d0887\"],[0.1111111111111111,\"#46039f\"],[0.2222222222222222,\"#7201a8\"],[0.3333333333333333,\"#9c179e\"],[0.4444444444444444,\"#bd3786\"],[0.5555555555555556,\"#d8576b\"],[0.6666666666666666,\"#ed7953\"],[0.7777777777777778,\"#fb9f3a\"],[0.8888888888888888,\"#fdca26\"],[1.0,\"#f0f921\"]],\"type\":\"heatmapgl\"}],\"histogram\":[{\"marker\":{\"pattern\":{\"fillmode\":\"overlay\",\"size\":10,\"solidity\":0.2}},\"type\":\"histogram\"}],\"histogram2d\":[{\"colorbar\":{\"outlinewidth\":0,\"ticks\":\"\"},\"colorscale\":[[0.0,\"#0d0887\"],[0.1111111111111111,\"#46039f\"],[0.2222222222222222,\"#7201a8\"],[0.3333333333333333,\"#9c179e\"],[0.4444444444444444,\"#bd3786\"],[0.5555555555555556,\"#d8576b\"],[0.6666666666666666,\"#ed7953\"],[0.7777777777777778,\"#fb9f3a\"],[0.8888888888888888,\"#fdca26\"],[1.0,\"#f0f921\"]],\"type\":\"histogram2d\"}],\"histogram2dcontour\":[{\"colorbar\":{\"outlinewidth\":0,\"ticks\":\"\"},\"colorscale\":[[0.0,\"#0d0887\"],[0.1111111111111111,\"#46039f\"],[0.2222222222222222,\"#7201a8\"],[0.3333333333333333,\"#9c179e\"],[0.4444444444444444,\"#bd3786\"],[0.5555555555555556,\"#d8576b\"],[0.6666666666666666,\"#ed7953\"],[0.7777777777777778,\"#fb9f3a\"],[0.8888888888888888,\"#fdca26\"],[1.0,\"#f0f921\"]],\"type\":\"histogram2dcontour\"}],\"mesh3d\":[{\"colorbar\":{\"outlinewidth\":0,\"ticks\":\"\"},\"type\":\"mesh3d\"}],\"parcoords\":[{\"line\":{\"colorbar\":{\"outlinewidth\":0,\"ticks\":\"\"}},\"type\":\"parcoords\"}],\"pie\":[{\"automargin\":true,\"type\":\"pie\"}],\"scatter\":[{\"marker\":{\"colorbar\":{\"outlinewidth\":0,\"ticks\":\"\"}},\"type\":\"scatter\"}],\"scatter3d\":[{\"line\":{\"colorbar\":{\"outlinewidth\":0,\"ticks\":\"\"}},\"marker\":{\"colorbar\":{\"outlinewidth\":0,\"ticks\":\"\"}},\"type\":\"scatter3d\"}],\"scattercarpet\":[{\"marker\":{\"colorbar\":{\"outlinewidth\":0,\"ticks\":\"\"}},\"type\":\"scattercarpet\"}],\"scattergeo\":[{\"marker\":{\"colorbar\":{\"outlinewidth\":0,\"ticks\":\"\"}},\"type\":\"scattergeo\"}],\"scattergl\":[{\"marker\":{\"colorbar\":{\"outlinewidth\":0,\"ticks\":\"\"}},\"type\":\"scattergl\"}],\"scattermapbox\":[{\"marker\":{\"colorbar\":{\"outlinewidth\":0,\"ticks\":\"\"}},\"type\":\"scattermapbox\"}],\"scatterpolar\":[{\"marker\":{\"colorbar\":{\"outlinewidth\":0,\"ticks\":\"\"}},\"type\":\"scatterpolar\"}],\"scatterpolargl\":[{\"marker\":{\"colorbar\":{\"outlinewidth\":0,\"ticks\":\"\"}},\"type\":\"scatterpolargl\"}],\"scatterternary\":[{\"marker\":{\"colorbar\":{\"outlinewidth\":0,\"ticks\":\"\"}},\"type\":\"scatterternary\"}],\"surface\":[{\"colorbar\":{\"outlinewidth\":0,\"ticks\":\"\"},\"colorscale\":[[0.0,\"#0d0887\"],[0.1111111111111111,\"#46039f\"],[0.2222222222222222,\"#7201a8\"],[0.3333333333333333,\"#9c179e\"],[0.4444444444444444,\"#bd3786\"],[0.5555555555555556,\"#d8576b\"],[0.6666666666666666,\"#ed7953\"],[0.7777777777777778,\"#fb9f3a\"],[0.8888888888888888,\"#fdca26\"],[1.0,\"#f0f921\"]],\"type\":\"surface\"}],\"table\":[{\"cells\":{\"fill\":{\"color\":\"#EBF0F8\"},\"line\":{\"color\":\"white\"}},\"header\":{\"fill\":{\"color\":\"#C8D4E3\"},\"line\":{\"color\":\"white\"}},\"type\":\"table\"}]},\"layout\":{\"annotationdefaults\":{\"arrowcolor\":\"#2a3f5f\",\"arrowhead\":0,\"arrowwidth\":1},\"autotypenumbers\":\"strict\",\"coloraxis\":{\"colorbar\":{\"outlinewidth\":0,\"ticks\":\"\"}},\"colorscale\":{\"diverging\":[[0,\"#8e0152\"],[0.1,\"#c51b7d\"],[0.2,\"#de77ae\"],[0.3,\"#f1b6da\"],[0.4,\"#fde0ef\"],[0.5,\"#f7f7f7\"],[0.6,\"#e6f5d0\"],[0.7,\"#b8e186\"],[0.8,\"#7fbc41\"],[0.9,\"#4d9221\"],[1,\"#276419\"]],\"sequential\":[[0.0,\"#0d0887\"],[0.1111111111111111,\"#46039f\"],[0.2222222222222222,\"#7201a8\"],[0.3333333333333333,\"#9c179e\"],[0.4444444444444444,\"#bd3786\"],[0.5555555555555556,\"#d8576b\"],[0.6666666666666666,\"#ed7953\"],[0.7777777777777778,\"#fb9f3a\"],[0.8888888888888888,\"#fdca26\"],[1.0,\"#f0f921\"]],\"sequentialminus\":[[0.0,\"#0d0887\"],[0.1111111111111111,\"#46039f\"],[0.2222222222222222,\"#7201a8\"],[0.3333333333333333,\"#9c179e\"],[0.4444444444444444,\"#bd3786\"],[0.5555555555555556,\"#d8576b\"],[0.6666666666666666,\"#ed7953\"],[0.7777777777777778,\"#fb9f3a\"],[0.8888888888888888,\"#fdca26\"],[1.0,\"#f0f921\"]]},\"colorway\":[\"#636efa\",\"#EF553B\",\"#00cc96\",\"#ab63fa\",\"#FFA15A\",\"#19d3f3\",\"#FF6692\",\"#B6E880\",\"#FF97FF\",\"#FECB52\"],\"font\":{\"color\":\"#2a3f5f\"},\"geo\":{\"bgcolor\":\"white\",\"lakecolor\":\"white\",\"landcolor\":\"#E5ECF6\",\"showlakes\":true,\"showland\":true,\"subunitcolor\":\"white\"},\"hoverlabel\":{\"align\":\"left\"},\"hovermode\":\"closest\",\"mapbox\":{\"style\":\"light\"},\"paper_bgcolor\":\"white\",\"plot_bgcolor\":\"#E5ECF6\",\"polar\":{\"angularaxis\":{\"gridcolor\":\"white\",\"linecolor\":\"white\",\"ticks\":\"\"},\"bgcolor\":\"#E5ECF6\",\"radialaxis\":{\"gridcolor\":\"white\",\"linecolor\":\"white\",\"ticks\":\"\"}},\"scene\":{\"xaxis\":{\"backgroundcolor\":\"#E5ECF6\",\"gridcolor\":\"white\",\"gridwidth\":2,\"linecolor\":\"white\",\"showbackground\":true,\"ticks\":\"\",\"zerolinecolor\":\"white\"},\"yaxis\":{\"backgroundcolor\":\"#E5ECF6\",\"gridcolor\":\"white\",\"gridwidth\":2,\"linecolor\":\"white\",\"showbackground\":true,\"ticks\":\"\",\"zerolinecolor\":\"white\"},\"zaxis\":{\"backgroundcolor\":\"#E5ECF6\",\"gridcolor\":\"white\",\"gridwidth\":2,\"linecolor\":\"white\",\"showbackground\":true,\"ticks\":\"\",\"zerolinecolor\":\"white\"}},\"shapedefaults\":{\"line\":{\"color\":\"#2a3f5f\"}},\"ternary\":{\"aaxis\":{\"gridcolor\":\"white\",\"linecolor\":\"white\",\"ticks\":\"\"},\"baxis\":{\"gridcolor\":\"white\",\"linecolor\":\"white\",\"ticks\":\"\"},\"bgcolor\":\"#E5ECF6\",\"caxis\":{\"gridcolor\":\"white\",\"linecolor\":\"white\",\"ticks\":\"\"}},\"title\":{\"x\":0.05},\"xaxis\":{\"automargin\":true,\"gridcolor\":\"white\",\"linecolor\":\"white\",\"ticks\":\"\",\"title\":{\"standoff\":15},\"zerolinecolor\":\"white\",\"zerolinewidth\":2},\"yaxis\":{\"automargin\":true,\"gridcolor\":\"white\",\"linecolor\":\"white\",\"ticks\":\"\",\"title\":{\"standoff\":15},\"zerolinecolor\":\"white\",\"zerolinewidth\":2}}}},                        {\"responsive\": true}                    ).then(function(){\n",
       "                            \n",
       "var gd = document.getElementById('e26f4ae7-9ad2-4a6d-9b5d-0dec5f9f63e9');\n",
       "var x = new MutationObserver(function (mutations, observer) {{\n",
       "        var display = window.getComputedStyle(gd).display;\n",
       "        if (!display || display === 'none') {{\n",
       "            console.log([gd, 'removed!']);\n",
       "            Plotly.purge(gd);\n",
       "            observer.disconnect();\n",
       "        }}\n",
       "}});\n",
       "\n",
       "// Listen for the removal of the full notebook cells\n",
       "var notebookContainer = gd.closest('#notebook-container');\n",
       "if (notebookContainer) {{\n",
       "    x.observe(notebookContainer, {childList: true});\n",
       "}}\n",
       "\n",
       "// Listen for the clearing of the current output cell\n",
       "var outputEl = gd.closest('.output');\n",
       "if (outputEl) {{\n",
       "    x.observe(outputEl, {childList: true});\n",
       "}}\n",
       "\n",
       "                        })                };                });            </script>        </div>"
      ]
     },
     "metadata": {},
     "output_type": "display_data"
    }
   ],
   "source": [
    "# без разбивки по датам\n",
    "temp_1 = final_ab_events_no_pc.groupby(['group', 'event_name'], as_index=False).agg({'event_dt': 'count'})\n",
    "temp_1.rename(columns={'event_dt': 'n_iteractions'}, inplace=True)\n",
    "temp_1['n_iteractions_shifted'] = temp_1.groupby(['group'], as_index=False)['n_iteractions'].shift(1)\n",
    "temp_1['share'] = temp_1['n_iteractions'] / temp_1['n_iteractions_shifted'] *100\n",
    "\n",
    "fig = go.Figure()\n",
    "\n",
    "fig.add_trace(go.Funnel(\n",
    "    name = 'A',\n",
    "    y = temp_1.query('group == \"A\"')['event_name'],\n",
    "    x = temp_1.query('group == \"A\"')['n_iteractions'],\n",
    "    textposition = \"inside\",\n",
    "    textinfo = \"value+percent previous\"))\n",
    "\n",
    "fig.add_trace(go.Funnel(\n",
    "    name = 'B',\n",
    "    orientation = \"h\",\n",
    "    y =  temp_1.query('group == \"B\"')['event_name'],\n",
    "    x = temp_1.query('group == \"B\"')['n_iteractions'],\n",
    "    textposition = \"inside\",\n",
    "    textinfo = \"value+percent previous\"))\n",
    "fig.show()"
   ]
  },
  {
   "cell_type": "code",
   "execution_count": 33,
   "metadata": {},
   "outputs": [
    {
     "data": {
      "application/vnd.plotly.v1+json": {
       "config": {
        "plotlyServerURL": "https://plot.ly"
       },
       "data": [
        {
         "name": "A",
         "textinfo": "value+percent previous",
         "textposition": "inside",
         "type": "funnel",
         "x": [
          7450,
          4804,
          2248,
          2319
         ],
         "y": [
          "login",
          "product_page",
          "product_cart",
          "purchase"
         ]
        },
        {
         "name": "B",
         "orientation": "h",
         "textinfo": "value+percent previous",
         "textposition": "inside",
         "type": "funnel",
         "x": [
          2184,
          1148,
          576,
          547
         ],
         "y": [
          "login",
          "product_page",
          "product_cart",
          "purchase"
         ]
        }
       ],
       "layout": {
        "template": {
         "data": {
          "bar": [
           {
            "error_x": {
             "color": "#2a3f5f"
            },
            "error_y": {
             "color": "#2a3f5f"
            },
            "marker": {
             "line": {
              "color": "#E5ECF6",
              "width": 0.5
             },
             "pattern": {
              "fillmode": "overlay",
              "size": 10,
              "solidity": 0.2
             }
            },
            "type": "bar"
           }
          ],
          "barpolar": [
           {
            "marker": {
             "line": {
              "color": "#E5ECF6",
              "width": 0.5
             },
             "pattern": {
              "fillmode": "overlay",
              "size": 10,
              "solidity": 0.2
             }
            },
            "type": "barpolar"
           }
          ],
          "carpet": [
           {
            "aaxis": {
             "endlinecolor": "#2a3f5f",
             "gridcolor": "white",
             "linecolor": "white",
             "minorgridcolor": "white",
             "startlinecolor": "#2a3f5f"
            },
            "baxis": {
             "endlinecolor": "#2a3f5f",
             "gridcolor": "white",
             "linecolor": "white",
             "minorgridcolor": "white",
             "startlinecolor": "#2a3f5f"
            },
            "type": "carpet"
           }
          ],
          "choropleth": [
           {
            "colorbar": {
             "outlinewidth": 0,
             "ticks": ""
            },
            "type": "choropleth"
           }
          ],
          "contour": [
           {
            "colorbar": {
             "outlinewidth": 0,
             "ticks": ""
            },
            "colorscale": [
             [
              0,
              "#0d0887"
             ],
             [
              0.1111111111111111,
              "#46039f"
             ],
             [
              0.2222222222222222,
              "#7201a8"
             ],
             [
              0.3333333333333333,
              "#9c179e"
             ],
             [
              0.4444444444444444,
              "#bd3786"
             ],
             [
              0.5555555555555556,
              "#d8576b"
             ],
             [
              0.6666666666666666,
              "#ed7953"
             ],
             [
              0.7777777777777778,
              "#fb9f3a"
             ],
             [
              0.8888888888888888,
              "#fdca26"
             ],
             [
              1,
              "#f0f921"
             ]
            ],
            "type": "contour"
           }
          ],
          "contourcarpet": [
           {
            "colorbar": {
             "outlinewidth": 0,
             "ticks": ""
            },
            "type": "contourcarpet"
           }
          ],
          "heatmap": [
           {
            "colorbar": {
             "outlinewidth": 0,
             "ticks": ""
            },
            "colorscale": [
             [
              0,
              "#0d0887"
             ],
             [
              0.1111111111111111,
              "#46039f"
             ],
             [
              0.2222222222222222,
              "#7201a8"
             ],
             [
              0.3333333333333333,
              "#9c179e"
             ],
             [
              0.4444444444444444,
              "#bd3786"
             ],
             [
              0.5555555555555556,
              "#d8576b"
             ],
             [
              0.6666666666666666,
              "#ed7953"
             ],
             [
              0.7777777777777778,
              "#fb9f3a"
             ],
             [
              0.8888888888888888,
              "#fdca26"
             ],
             [
              1,
              "#f0f921"
             ]
            ],
            "type": "heatmap"
           }
          ],
          "heatmapgl": [
           {
            "colorbar": {
             "outlinewidth": 0,
             "ticks": ""
            },
            "colorscale": [
             [
              0,
              "#0d0887"
             ],
             [
              0.1111111111111111,
              "#46039f"
             ],
             [
              0.2222222222222222,
              "#7201a8"
             ],
             [
              0.3333333333333333,
              "#9c179e"
             ],
             [
              0.4444444444444444,
              "#bd3786"
             ],
             [
              0.5555555555555556,
              "#d8576b"
             ],
             [
              0.6666666666666666,
              "#ed7953"
             ],
             [
              0.7777777777777778,
              "#fb9f3a"
             ],
             [
              0.8888888888888888,
              "#fdca26"
             ],
             [
              1,
              "#f0f921"
             ]
            ],
            "type": "heatmapgl"
           }
          ],
          "histogram": [
           {
            "marker": {
             "pattern": {
              "fillmode": "overlay",
              "size": 10,
              "solidity": 0.2
             }
            },
            "type": "histogram"
           }
          ],
          "histogram2d": [
           {
            "colorbar": {
             "outlinewidth": 0,
             "ticks": ""
            },
            "colorscale": [
             [
              0,
              "#0d0887"
             ],
             [
              0.1111111111111111,
              "#46039f"
             ],
             [
              0.2222222222222222,
              "#7201a8"
             ],
             [
              0.3333333333333333,
              "#9c179e"
             ],
             [
              0.4444444444444444,
              "#bd3786"
             ],
             [
              0.5555555555555556,
              "#d8576b"
             ],
             [
              0.6666666666666666,
              "#ed7953"
             ],
             [
              0.7777777777777778,
              "#fb9f3a"
             ],
             [
              0.8888888888888888,
              "#fdca26"
             ],
             [
              1,
              "#f0f921"
             ]
            ],
            "type": "histogram2d"
           }
          ],
          "histogram2dcontour": [
           {
            "colorbar": {
             "outlinewidth": 0,
             "ticks": ""
            },
            "colorscale": [
             [
              0,
              "#0d0887"
             ],
             [
              0.1111111111111111,
              "#46039f"
             ],
             [
              0.2222222222222222,
              "#7201a8"
             ],
             [
              0.3333333333333333,
              "#9c179e"
             ],
             [
              0.4444444444444444,
              "#bd3786"
             ],
             [
              0.5555555555555556,
              "#d8576b"
             ],
             [
              0.6666666666666666,
              "#ed7953"
             ],
             [
              0.7777777777777778,
              "#fb9f3a"
             ],
             [
              0.8888888888888888,
              "#fdca26"
             ],
             [
              1,
              "#f0f921"
             ]
            ],
            "type": "histogram2dcontour"
           }
          ],
          "mesh3d": [
           {
            "colorbar": {
             "outlinewidth": 0,
             "ticks": ""
            },
            "type": "mesh3d"
           }
          ],
          "parcoords": [
           {
            "line": {
             "colorbar": {
              "outlinewidth": 0,
              "ticks": ""
             }
            },
            "type": "parcoords"
           }
          ],
          "pie": [
           {
            "automargin": true,
            "type": "pie"
           }
          ],
          "scatter": [
           {
            "marker": {
             "colorbar": {
              "outlinewidth": 0,
              "ticks": ""
             }
            },
            "type": "scatter"
           }
          ],
          "scatter3d": [
           {
            "line": {
             "colorbar": {
              "outlinewidth": 0,
              "ticks": ""
             }
            },
            "marker": {
             "colorbar": {
              "outlinewidth": 0,
              "ticks": ""
             }
            },
            "type": "scatter3d"
           }
          ],
          "scattercarpet": [
           {
            "marker": {
             "colorbar": {
              "outlinewidth": 0,
              "ticks": ""
             }
            },
            "type": "scattercarpet"
           }
          ],
          "scattergeo": [
           {
            "marker": {
             "colorbar": {
              "outlinewidth": 0,
              "ticks": ""
             }
            },
            "type": "scattergeo"
           }
          ],
          "scattergl": [
           {
            "marker": {
             "colorbar": {
              "outlinewidth": 0,
              "ticks": ""
             }
            },
            "type": "scattergl"
           }
          ],
          "scattermapbox": [
           {
            "marker": {
             "colorbar": {
              "outlinewidth": 0,
              "ticks": ""
             }
            },
            "type": "scattermapbox"
           }
          ],
          "scatterpolar": [
           {
            "marker": {
             "colorbar": {
              "outlinewidth": 0,
              "ticks": ""
             }
            },
            "type": "scatterpolar"
           }
          ],
          "scatterpolargl": [
           {
            "marker": {
             "colorbar": {
              "outlinewidth": 0,
              "ticks": ""
             }
            },
            "type": "scatterpolargl"
           }
          ],
          "scatterternary": [
           {
            "marker": {
             "colorbar": {
              "outlinewidth": 0,
              "ticks": ""
             }
            },
            "type": "scatterternary"
           }
          ],
          "surface": [
           {
            "colorbar": {
             "outlinewidth": 0,
             "ticks": ""
            },
            "colorscale": [
             [
              0,
              "#0d0887"
             ],
             [
              0.1111111111111111,
              "#46039f"
             ],
             [
              0.2222222222222222,
              "#7201a8"
             ],
             [
              0.3333333333333333,
              "#9c179e"
             ],
             [
              0.4444444444444444,
              "#bd3786"
             ],
             [
              0.5555555555555556,
              "#d8576b"
             ],
             [
              0.6666666666666666,
              "#ed7953"
             ],
             [
              0.7777777777777778,
              "#fb9f3a"
             ],
             [
              0.8888888888888888,
              "#fdca26"
             ],
             [
              1,
              "#f0f921"
             ]
            ],
            "type": "surface"
           }
          ],
          "table": [
           {
            "cells": {
             "fill": {
              "color": "#EBF0F8"
             },
             "line": {
              "color": "white"
             }
            },
            "header": {
             "fill": {
              "color": "#C8D4E3"
             },
             "line": {
              "color": "white"
             }
            },
            "type": "table"
           }
          ]
         },
         "layout": {
          "annotationdefaults": {
           "arrowcolor": "#2a3f5f",
           "arrowhead": 0,
           "arrowwidth": 1
          },
          "autotypenumbers": "strict",
          "coloraxis": {
           "colorbar": {
            "outlinewidth": 0,
            "ticks": ""
           }
          },
          "colorscale": {
           "diverging": [
            [
             0,
             "#8e0152"
            ],
            [
             0.1,
             "#c51b7d"
            ],
            [
             0.2,
             "#de77ae"
            ],
            [
             0.3,
             "#f1b6da"
            ],
            [
             0.4,
             "#fde0ef"
            ],
            [
             0.5,
             "#f7f7f7"
            ],
            [
             0.6,
             "#e6f5d0"
            ],
            [
             0.7,
             "#b8e186"
            ],
            [
             0.8,
             "#7fbc41"
            ],
            [
             0.9,
             "#4d9221"
            ],
            [
             1,
             "#276419"
            ]
           ],
           "sequential": [
            [
             0,
             "#0d0887"
            ],
            [
             0.1111111111111111,
             "#46039f"
            ],
            [
             0.2222222222222222,
             "#7201a8"
            ],
            [
             0.3333333333333333,
             "#9c179e"
            ],
            [
             0.4444444444444444,
             "#bd3786"
            ],
            [
             0.5555555555555556,
             "#d8576b"
            ],
            [
             0.6666666666666666,
             "#ed7953"
            ],
            [
             0.7777777777777778,
             "#fb9f3a"
            ],
            [
             0.8888888888888888,
             "#fdca26"
            ],
            [
             1,
             "#f0f921"
            ]
           ],
           "sequentialminus": [
            [
             0,
             "#0d0887"
            ],
            [
             0.1111111111111111,
             "#46039f"
            ],
            [
             0.2222222222222222,
             "#7201a8"
            ],
            [
             0.3333333333333333,
             "#9c179e"
            ],
            [
             0.4444444444444444,
             "#bd3786"
            ],
            [
             0.5555555555555556,
             "#d8576b"
            ],
            [
             0.6666666666666666,
             "#ed7953"
            ],
            [
             0.7777777777777778,
             "#fb9f3a"
            ],
            [
             0.8888888888888888,
             "#fdca26"
            ],
            [
             1,
             "#f0f921"
            ]
           ]
          },
          "colorway": [
           "#636efa",
           "#EF553B",
           "#00cc96",
           "#ab63fa",
           "#FFA15A",
           "#19d3f3",
           "#FF6692",
           "#B6E880",
           "#FF97FF",
           "#FECB52"
          ],
          "font": {
           "color": "#2a3f5f"
          },
          "geo": {
           "bgcolor": "white",
           "lakecolor": "white",
           "landcolor": "#E5ECF6",
           "showlakes": true,
           "showland": true,
           "subunitcolor": "white"
          },
          "hoverlabel": {
           "align": "left"
          },
          "hovermode": "closest",
          "mapbox": {
           "style": "light"
          },
          "paper_bgcolor": "white",
          "plot_bgcolor": "#E5ECF6",
          "polar": {
           "angularaxis": {
            "gridcolor": "white",
            "linecolor": "white",
            "ticks": ""
           },
           "bgcolor": "#E5ECF6",
           "radialaxis": {
            "gridcolor": "white",
            "linecolor": "white",
            "ticks": ""
           }
          },
          "scene": {
           "xaxis": {
            "backgroundcolor": "#E5ECF6",
            "gridcolor": "white",
            "gridwidth": 2,
            "linecolor": "white",
            "showbackground": true,
            "ticks": "",
            "zerolinecolor": "white"
           },
           "yaxis": {
            "backgroundcolor": "#E5ECF6",
            "gridcolor": "white",
            "gridwidth": 2,
            "linecolor": "white",
            "showbackground": true,
            "ticks": "",
            "zerolinecolor": "white"
           },
           "zaxis": {
            "backgroundcolor": "#E5ECF6",
            "gridcolor": "white",
            "gridwidth": 2,
            "linecolor": "white",
            "showbackground": true,
            "ticks": "",
            "zerolinecolor": "white"
           }
          },
          "shapedefaults": {
           "line": {
            "color": "#2a3f5f"
           }
          },
          "ternary": {
           "aaxis": {
            "gridcolor": "white",
            "linecolor": "white",
            "ticks": ""
           },
           "baxis": {
            "gridcolor": "white",
            "linecolor": "white",
            "ticks": ""
           },
           "bgcolor": "#E5ECF6",
           "caxis": {
            "gridcolor": "white",
            "linecolor": "white",
            "ticks": ""
           }
          },
          "title": {
           "x": 0.05
          },
          "xaxis": {
           "automargin": true,
           "gridcolor": "white",
           "linecolor": "white",
           "ticks": "",
           "title": {
            "standoff": 15
           },
           "zerolinecolor": "white",
           "zerolinewidth": 2
          },
          "yaxis": {
           "automargin": true,
           "gridcolor": "white",
           "linecolor": "white",
           "ticks": "",
           "title": {
            "standoff": 15
           },
           "zerolinecolor": "white",
           "zerolinewidth": 2
          }
         }
        },
        "title": {
         "text": "Воронка по этапам магазина"
        }
       }
      },
      "text/html": [
       "<div>                            <div id=\"e5a9fbd2-557a-40c5-ab0f-0383ee75d724\" class=\"plotly-graph-div\" style=\"height:525px; width:100%;\"></div>            <script type=\"text/javascript\">                require([\"plotly\"], function(Plotly) {                    window.PLOTLYENV=window.PLOTLYENV || {};                                    if (document.getElementById(\"e5a9fbd2-557a-40c5-ab0f-0383ee75d724\")) {                    Plotly.newPlot(                        \"e5a9fbd2-557a-40c5-ab0f-0383ee75d724\",                        [{\"name\":\"A\",\"textinfo\":\"value+percent previous\",\"textposition\":\"inside\",\"x\":[7450,4804,2248,2319],\"y\":[\"login\",\"product_page\",\"product_cart\",\"purchase\"],\"type\":\"funnel\"},{\"name\":\"B\",\"orientation\":\"h\",\"textinfo\":\"value+percent previous\",\"textposition\":\"inside\",\"x\":[2184,1148,576,547],\"y\":[\"login\",\"product_page\",\"product_cart\",\"purchase\"],\"type\":\"funnel\"}],                        {\"template\":{\"data\":{\"bar\":[{\"error_x\":{\"color\":\"#2a3f5f\"},\"error_y\":{\"color\":\"#2a3f5f\"},\"marker\":{\"line\":{\"color\":\"#E5ECF6\",\"width\":0.5},\"pattern\":{\"fillmode\":\"overlay\",\"size\":10,\"solidity\":0.2}},\"type\":\"bar\"}],\"barpolar\":[{\"marker\":{\"line\":{\"color\":\"#E5ECF6\",\"width\":0.5},\"pattern\":{\"fillmode\":\"overlay\",\"size\":10,\"solidity\":0.2}},\"type\":\"barpolar\"}],\"carpet\":[{\"aaxis\":{\"endlinecolor\":\"#2a3f5f\",\"gridcolor\":\"white\",\"linecolor\":\"white\",\"minorgridcolor\":\"white\",\"startlinecolor\":\"#2a3f5f\"},\"baxis\":{\"endlinecolor\":\"#2a3f5f\",\"gridcolor\":\"white\",\"linecolor\":\"white\",\"minorgridcolor\":\"white\",\"startlinecolor\":\"#2a3f5f\"},\"type\":\"carpet\"}],\"choropleth\":[{\"colorbar\":{\"outlinewidth\":0,\"ticks\":\"\"},\"type\":\"choropleth\"}],\"contour\":[{\"colorbar\":{\"outlinewidth\":0,\"ticks\":\"\"},\"colorscale\":[[0.0,\"#0d0887\"],[0.1111111111111111,\"#46039f\"],[0.2222222222222222,\"#7201a8\"],[0.3333333333333333,\"#9c179e\"],[0.4444444444444444,\"#bd3786\"],[0.5555555555555556,\"#d8576b\"],[0.6666666666666666,\"#ed7953\"],[0.7777777777777778,\"#fb9f3a\"],[0.8888888888888888,\"#fdca26\"],[1.0,\"#f0f921\"]],\"type\":\"contour\"}],\"contourcarpet\":[{\"colorbar\":{\"outlinewidth\":0,\"ticks\":\"\"},\"type\":\"contourcarpet\"}],\"heatmap\":[{\"colorbar\":{\"outlinewidth\":0,\"ticks\":\"\"},\"colorscale\":[[0.0,\"#0d0887\"],[0.1111111111111111,\"#46039f\"],[0.2222222222222222,\"#7201a8\"],[0.3333333333333333,\"#9c179e\"],[0.4444444444444444,\"#bd3786\"],[0.5555555555555556,\"#d8576b\"],[0.6666666666666666,\"#ed7953\"],[0.7777777777777778,\"#fb9f3a\"],[0.8888888888888888,\"#fdca26\"],[1.0,\"#f0f921\"]],\"type\":\"heatmap\"}],\"heatmapgl\":[{\"colorbar\":{\"outlinewidth\":0,\"ticks\":\"\"},\"colorscale\":[[0.0,\"#0d0887\"],[0.1111111111111111,\"#46039f\"],[0.2222222222222222,\"#7201a8\"],[0.3333333333333333,\"#9c179e\"],[0.4444444444444444,\"#bd3786\"],[0.5555555555555556,\"#d8576b\"],[0.6666666666666666,\"#ed7953\"],[0.7777777777777778,\"#fb9f3a\"],[0.8888888888888888,\"#fdca26\"],[1.0,\"#f0f921\"]],\"type\":\"heatmapgl\"}],\"histogram\":[{\"marker\":{\"pattern\":{\"fillmode\":\"overlay\",\"size\":10,\"solidity\":0.2}},\"type\":\"histogram\"}],\"histogram2d\":[{\"colorbar\":{\"outlinewidth\":0,\"ticks\":\"\"},\"colorscale\":[[0.0,\"#0d0887\"],[0.1111111111111111,\"#46039f\"],[0.2222222222222222,\"#7201a8\"],[0.3333333333333333,\"#9c179e\"],[0.4444444444444444,\"#bd3786\"],[0.5555555555555556,\"#d8576b\"],[0.6666666666666666,\"#ed7953\"],[0.7777777777777778,\"#fb9f3a\"],[0.8888888888888888,\"#fdca26\"],[1.0,\"#f0f921\"]],\"type\":\"histogram2d\"}],\"histogram2dcontour\":[{\"colorbar\":{\"outlinewidth\":0,\"ticks\":\"\"},\"colorscale\":[[0.0,\"#0d0887\"],[0.1111111111111111,\"#46039f\"],[0.2222222222222222,\"#7201a8\"],[0.3333333333333333,\"#9c179e\"],[0.4444444444444444,\"#bd3786\"],[0.5555555555555556,\"#d8576b\"],[0.6666666666666666,\"#ed7953\"],[0.7777777777777778,\"#fb9f3a\"],[0.8888888888888888,\"#fdca26\"],[1.0,\"#f0f921\"]],\"type\":\"histogram2dcontour\"}],\"mesh3d\":[{\"colorbar\":{\"outlinewidth\":0,\"ticks\":\"\"},\"type\":\"mesh3d\"}],\"parcoords\":[{\"line\":{\"colorbar\":{\"outlinewidth\":0,\"ticks\":\"\"}},\"type\":\"parcoords\"}],\"pie\":[{\"automargin\":true,\"type\":\"pie\"}],\"scatter\":[{\"marker\":{\"colorbar\":{\"outlinewidth\":0,\"ticks\":\"\"}},\"type\":\"scatter\"}],\"scatter3d\":[{\"line\":{\"colorbar\":{\"outlinewidth\":0,\"ticks\":\"\"}},\"marker\":{\"colorbar\":{\"outlinewidth\":0,\"ticks\":\"\"}},\"type\":\"scatter3d\"}],\"scattercarpet\":[{\"marker\":{\"colorbar\":{\"outlinewidth\":0,\"ticks\":\"\"}},\"type\":\"scattercarpet\"}],\"scattergeo\":[{\"marker\":{\"colorbar\":{\"outlinewidth\":0,\"ticks\":\"\"}},\"type\":\"scattergeo\"}],\"scattergl\":[{\"marker\":{\"colorbar\":{\"outlinewidth\":0,\"ticks\":\"\"}},\"type\":\"scattergl\"}],\"scattermapbox\":[{\"marker\":{\"colorbar\":{\"outlinewidth\":0,\"ticks\":\"\"}},\"type\":\"scattermapbox\"}],\"scatterpolar\":[{\"marker\":{\"colorbar\":{\"outlinewidth\":0,\"ticks\":\"\"}},\"type\":\"scatterpolar\"}],\"scatterpolargl\":[{\"marker\":{\"colorbar\":{\"outlinewidth\":0,\"ticks\":\"\"}},\"type\":\"scatterpolargl\"}],\"scatterternary\":[{\"marker\":{\"colorbar\":{\"outlinewidth\":0,\"ticks\":\"\"}},\"type\":\"scatterternary\"}],\"surface\":[{\"colorbar\":{\"outlinewidth\":0,\"ticks\":\"\"},\"colorscale\":[[0.0,\"#0d0887\"],[0.1111111111111111,\"#46039f\"],[0.2222222222222222,\"#7201a8\"],[0.3333333333333333,\"#9c179e\"],[0.4444444444444444,\"#bd3786\"],[0.5555555555555556,\"#d8576b\"],[0.6666666666666666,\"#ed7953\"],[0.7777777777777778,\"#fb9f3a\"],[0.8888888888888888,\"#fdca26\"],[1.0,\"#f0f921\"]],\"type\":\"surface\"}],\"table\":[{\"cells\":{\"fill\":{\"color\":\"#EBF0F8\"},\"line\":{\"color\":\"white\"}},\"header\":{\"fill\":{\"color\":\"#C8D4E3\"},\"line\":{\"color\":\"white\"}},\"type\":\"table\"}]},\"layout\":{\"annotationdefaults\":{\"arrowcolor\":\"#2a3f5f\",\"arrowhead\":0,\"arrowwidth\":1},\"autotypenumbers\":\"strict\",\"coloraxis\":{\"colorbar\":{\"outlinewidth\":0,\"ticks\":\"\"}},\"colorscale\":{\"diverging\":[[0,\"#8e0152\"],[0.1,\"#c51b7d\"],[0.2,\"#de77ae\"],[0.3,\"#f1b6da\"],[0.4,\"#fde0ef\"],[0.5,\"#f7f7f7\"],[0.6,\"#e6f5d0\"],[0.7,\"#b8e186\"],[0.8,\"#7fbc41\"],[0.9,\"#4d9221\"],[1,\"#276419\"]],\"sequential\":[[0.0,\"#0d0887\"],[0.1111111111111111,\"#46039f\"],[0.2222222222222222,\"#7201a8\"],[0.3333333333333333,\"#9c179e\"],[0.4444444444444444,\"#bd3786\"],[0.5555555555555556,\"#d8576b\"],[0.6666666666666666,\"#ed7953\"],[0.7777777777777778,\"#fb9f3a\"],[0.8888888888888888,\"#fdca26\"],[1.0,\"#f0f921\"]],\"sequentialminus\":[[0.0,\"#0d0887\"],[0.1111111111111111,\"#46039f\"],[0.2222222222222222,\"#7201a8\"],[0.3333333333333333,\"#9c179e\"],[0.4444444444444444,\"#bd3786\"],[0.5555555555555556,\"#d8576b\"],[0.6666666666666666,\"#ed7953\"],[0.7777777777777778,\"#fb9f3a\"],[0.8888888888888888,\"#fdca26\"],[1.0,\"#f0f921\"]]},\"colorway\":[\"#636efa\",\"#EF553B\",\"#00cc96\",\"#ab63fa\",\"#FFA15A\",\"#19d3f3\",\"#FF6692\",\"#B6E880\",\"#FF97FF\",\"#FECB52\"],\"font\":{\"color\":\"#2a3f5f\"},\"geo\":{\"bgcolor\":\"white\",\"lakecolor\":\"white\",\"landcolor\":\"#E5ECF6\",\"showlakes\":true,\"showland\":true,\"subunitcolor\":\"white\"},\"hoverlabel\":{\"align\":\"left\"},\"hovermode\":\"closest\",\"mapbox\":{\"style\":\"light\"},\"paper_bgcolor\":\"white\",\"plot_bgcolor\":\"#E5ECF6\",\"polar\":{\"angularaxis\":{\"gridcolor\":\"white\",\"linecolor\":\"white\",\"ticks\":\"\"},\"bgcolor\":\"#E5ECF6\",\"radialaxis\":{\"gridcolor\":\"white\",\"linecolor\":\"white\",\"ticks\":\"\"}},\"scene\":{\"xaxis\":{\"backgroundcolor\":\"#E5ECF6\",\"gridcolor\":\"white\",\"gridwidth\":2,\"linecolor\":\"white\",\"showbackground\":true,\"ticks\":\"\",\"zerolinecolor\":\"white\"},\"yaxis\":{\"backgroundcolor\":\"#E5ECF6\",\"gridcolor\":\"white\",\"gridwidth\":2,\"linecolor\":\"white\",\"showbackground\":true,\"ticks\":\"\",\"zerolinecolor\":\"white\"},\"zaxis\":{\"backgroundcolor\":\"#E5ECF6\",\"gridcolor\":\"white\",\"gridwidth\":2,\"linecolor\":\"white\",\"showbackground\":true,\"ticks\":\"\",\"zerolinecolor\":\"white\"}},\"shapedefaults\":{\"line\":{\"color\":\"#2a3f5f\"}},\"ternary\":{\"aaxis\":{\"gridcolor\":\"white\",\"linecolor\":\"white\",\"ticks\":\"\"},\"baxis\":{\"gridcolor\":\"white\",\"linecolor\":\"white\",\"ticks\":\"\"},\"bgcolor\":\"#E5ECF6\",\"caxis\":{\"gridcolor\":\"white\",\"linecolor\":\"white\",\"ticks\":\"\"}},\"title\":{\"x\":0.05},\"xaxis\":{\"automargin\":true,\"gridcolor\":\"white\",\"linecolor\":\"white\",\"ticks\":\"\",\"title\":{\"standoff\":15},\"zerolinecolor\":\"white\",\"zerolinewidth\":2},\"yaxis\":{\"automargin\":true,\"gridcolor\":\"white\",\"linecolor\":\"white\",\"ticks\":\"\",\"title\":{\"standoff\":15},\"zerolinecolor\":\"white\",\"zerolinewidth\":2}}},\"title\":{\"text\":\"\\u0412\\u043e\\u0440\\u043e\\u043d\\u043a\\u0430 \\u043f\\u043e \\u044d\\u0442\\u0430\\u043f\\u0430\\u043c \\u043c\\u0430\\u0433\\u0430\\u0437\\u0438\\u043d\\u0430\"}},                        {\"responsive\": true}                    ).then(function(){\n",
       "                            \n",
       "var gd = document.getElementById('e5a9fbd2-557a-40c5-ab0f-0383ee75d724');\n",
       "var x = new MutationObserver(function (mutations, observer) {{\n",
       "        var display = window.getComputedStyle(gd).display;\n",
       "        if (!display || display === 'none') {{\n",
       "            console.log([gd, 'removed!']);\n",
       "            Plotly.purge(gd);\n",
       "            observer.disconnect();\n",
       "        }}\n",
       "}});\n",
       "\n",
       "// Listen for the removal of the full notebook cells\n",
       "var notebookContainer = gd.closest('#notebook-container');\n",
       "if (notebookContainer) {{\n",
       "    x.observe(notebookContainer, {childList: true});\n",
       "}}\n",
       "\n",
       "// Listen for the clearing of the current output cell\n",
       "var outputEl = gd.closest('.output');\n",
       "if (outputEl) {{\n",
       "    x.observe(outputEl, {childList: true});\n",
       "}}\n",
       "\n",
       "                        })                };                });            </script>        </div>"
      ]
     },
     "metadata": {},
     "output_type": "display_data"
    }
   ],
   "source": [
    "# без разбивки по датам\n",
    "temp_1 = final_ab_events.groupby(['group', 'event_name'], as_index=False).agg({'event_dt': 'count'})\n",
    "temp_1.rename(columns={'event_dt': 'n_iteractions'}, inplace=True)\n",
    "temp_1['n_iteractions_shifted'] = temp_1.groupby(['group'], as_index=False)['n_iteractions'].shift(1)\n",
    "temp_1['share'] = temp_1['n_iteractions'] / temp_1['n_iteractions_shifted'] *100\n",
    "temp_1 = temp_1.reindex([0, 2, 1, 3, 4, 6, 5, 7])\n",
    "fig = go.Figure()\n",
    "\n",
    "fig.add_trace(go.Funnel(\n",
    "    name = 'A',\n",
    "    y = temp_1.query('group == \"A\"')['event_name'],\n",
    "    x = temp_1.query('group == \"A\"')['n_iteractions'],\n",
    "    textposition = \"inside\",\n",
    "    textinfo = \"value+percent previous\"))\n",
    "\n",
    "fig.add_trace(go.Funnel(\n",
    "    name = 'B',\n",
    "    orientation = \"h\",\n",
    "    y =  temp_1.query('group == \"B\"')['event_name'],\n",
    "    x = temp_1.query('group == \"B\"')['n_iteractions'],\n",
    "    textposition = \"inside\",\n",
    "    textinfo = \"value+percent previous\"))\n",
    "\n",
    "fig.update_layout(title='Воронка по этапам магазина')\n",
    "fig.show()"
   ]
  },
  {
   "cell_type": "markdown",
   "metadata": {},
   "source": [
    "Конверсия в просмотры товара снизилась почти на 10%, конверсия в покупки из предыдущего шага не изменилась."
   ]
  },
  {
   "cell_type": "markdown",
   "metadata": {},
   "source": [
    "## Какие особенности данных нужно учесть, прежде чем приступать к A/B-тестированию?\n",
    "\n",
    "* Количество событий распределено неравномерно не только между группами, но и во времени\n",
    "* Есть необязательный этап в воронке\n",
    "* На данные могли влиять маркетинговые активности и другие факторы"
   ]
  },
  {
   "cell_type": "markdown",
   "metadata": {},
   "source": [
    "## Выводы по EDA\n",
    "\n",
    "- Количество событий на пользователя распределено не равномерно: пользователь из группы А совершает на 1-1,5 действий больше.\n",
    "- Абсолютное кол-во событий по дням и группам распределено неравномерно: у группы B кол-во событий изменяется от 20-30 до 1200, у группы А с 7 декабря снижается с 1000 до 400, 14 декабря растет до 2500 и снова снижается до 1500.\n",
    "- В группе B снизилась конверсия логинов в просмотры товаров, уровень оплат из просмотра товаров остался тем же. Конверсия активных пользователей в покупателей тоже снизилась."
   ]
  },
  {
   "cell_type": "markdown",
   "metadata": {},
   "source": [
    "# Оценка результататов A/B-тестирования"
   ]
  },
  {
   "cell_type": "markdown",
   "metadata": {},
   "source": [
    "## Что можно сказать про результаты A/В-тестирования?\n",
    "\n",
    "Данные теста соответствуют тербованиям ТЗ к аудитории. Однако в самом тесте среднее количество событий между группами и по дням распределено неравномерно, в одно время с исследованием проходят маргетинговые активности. Ожидаемый эффект не достигается, метрики не только не выросли на 10%, но и снизились. Я бы предположил, что тест проведен неудовлетворительно и для оценки влияния новой рекоммендательной системы его стоит провести еще раз."
   ]
  },
  {
   "cell_type": "markdown",
   "metadata": {},
   "source": [
    "## Проверьте статистическую разницу долей z-критерием.\n",
    "\n",
    "нужно провести три теста о равенстве долей. Размеры выборок - кол-во активных (залогинившихся) пользователей в каждой группе, кол-во успехов - кол-во просмотров товара, корзины и оплаты для каждой группы\n",
    "\n",
    "Для каждого теста рабочая гипотеза: доли в выборках равны, группы не отличаются по поведению\n",
    "Основная гипотеза H0 - доли в выборках равны\n",
    "Альтернативная гипотеза H1 - между долями есть значительная разница\n",
    "\n",
    "Критический уровень значимости 0,05"
   ]
  },
  {
   "cell_type": "code",
   "execution_count": 34,
   "metadata": {},
   "outputs": [],
   "source": [
    "# задаю критический уровень значимости с поправкой на множественное сравнение (3)\n",
    "alpha = 0.05 / 3\n",
    "\n"
   ]
  },
  {
   "cell_type": "code",
   "execution_count": 35,
   "metadata": {},
   "outputs": [
    {
     "name": "stdout",
     "output_type": "stream",
     "text": [
      "p-значение:  3.8415005565450855e-06\n",
      "Отвергаем нулевую гипотезу, между долями есть значимая разница\n",
      "Разница между долями a и b:  9.024332909401044\n"
     ]
    }
   ],
   "source": [
    "# тест доли просмотров карточки товара\n",
    "\n",
    "trials = np.array([\n",
    "    len(recommender_system_test_participants.query('group == \"A\"')['user_id'].unique()),\n",
    "    len(recommender_system_test_participants.query('group == \"B\"')['user_id'].unique())\n",
    "])\n",
    "\n",
    "successes = np.array([\n",
    "    len(final_ab_events.query('event_name == \"product_page\" and group == \"A\"')['user_id'].unique()),\n",
    "    len(final_ab_events.query('event_name == \"product_page\" and group == \"B\"')['user_id'].unique())\n",
    "])\n",
    "\n",
    "# доля в группе A\n",
    "p1 = successes[0] / trials[0]\n",
    "\n",
    "# доля в группе B\n",
    "p2 = successes[1] / trials[1]\n",
    "\n",
    "\n",
    "\n",
    "# Пропорция в комбинированном датасете\n",
    "p_combined = (successes[0] + successes[1])/(trials[0] + trials[1])\n",
    "\n",
    "# Разница пропорций в датасетах\n",
    "difference = p1-p2\n",
    "\n",
    "# расчет статистики в ст. отклонениях ст. норм. распределения\n",
    "z_value = difference / mth.sqrt(p_combined*(1-p_combined)*(1/trials[0] + 1/trials[1]))\n",
    "\n",
    "# задаем стандартное распределение\n",
    "distr = st.norm(0, 1)\n",
    "\n",
    "# Рассчитываю p-value\n",
    "p_value = (1-distr.cdf(abs(z_value)))*2\n",
    "\n",
    "print('p-значение: ', p_value)\n",
    "\n",
    "if p_value < alpha:\n",
    "    print('Отвергаем нулевую гипотезу, между долями есть значимая разница')\n",
    "else:\n",
    "    print('Не получилось отвергнуть нулевую гипотезу, нет оснований считать доли разными')\n",
    "\n",
    "print('Разница между долями a и b: ', difference*100)"
   ]
  },
  {
   "cell_type": "markdown",
   "metadata": {},
   "source": [
    "Статистический тест свидетельствует о том, что доли в группах нельзя считать равными. Конверсия в просмотр карточек товаров на 9% выше у группы A!"
   ]
  },
  {
   "cell_type": "code",
   "execution_count": 36,
   "metadata": {},
   "outputs": [
    {
     "name": "stdout",
     "output_type": "stream",
     "text": [
      "728 225 2422 822\n",
      "p-значение:  0.14412076974264498\n",
      "Не получилось отвергнуть нулевую гипотезу, нет оснований считать доли разными\n",
      "Разница между долями a и b:  2.6855406944854665\n"
     ]
    }
   ],
   "source": [
    "# тест доли просмотров корзины\n",
    "\n",
    "trials = np.array([\n",
    "    len(recommender_system_test_participants.query('group == \"A\"')['user_id'].unique()),\n",
    "    len(recommender_system_test_participants.query('group == \"B\"')['user_id'].unique())\n",
    "])\n",
    "\n",
    "successes = np.array([\n",
    "    len(final_ab_events.query('event_name == \"product_cart\" and group == \"A\"')['user_id'].unique()),\n",
    "    len(final_ab_events.query('event_name == \"product_cart\" and group == \"B\"')['user_id'].unique())\n",
    "])\n",
    "\n",
    "# доля в группе A\n",
    "p1 = successes[0] / trials[0]\n",
    "\n",
    "# доля в группе B\n",
    "p2 = successes[1] / trials[1]\n",
    "\n",
    "print(successes[0], successes[1], trials[0], trials[1])\n",
    "\n",
    "# Пропорция в комбинированном датасете\n",
    "p_combined = (successes[0] + successes[1])/(trials[0] + trials[1])\n",
    "\n",
    "# Разница пропорций в датасетах\n",
    "difference = p1-p2\n",
    "\n",
    "# расчет статистики в ст. отклонениях ст. норм. распределения\n",
    "z_value = difference / mth.sqrt(p_combined*(1-p_combined)*(1/trials[0] + 1/trials[1]))\n",
    "\n",
    "# задаем стандартное распределение\n",
    "distr = st.norm(0, 1)\n",
    "\n",
    "# Рассчитываю p-value\n",
    "p_value = (1-distr.cdf(abs(z_value)))*2\n",
    "\n",
    "print('p-значение: ', p_value)\n",
    "\n",
    "if p_value < alpha:\n",
    "    print('Отвергаем нулевую гипотезу, между долями есть значимая разница')\n",
    "else:\n",
    "    print('Не получилось отвергнуть нулевую гипотезу, нет оснований считать доли разными')\n",
    "\n",
    "print('Разница между долями a и b: ', difference*100)"
   ]
  },
  {
   "cell_type": "markdown",
   "metadata": {},
   "source": [
    "Статистический тест свидетельствует о том, что доли в группах нельзя считать равными. Конверсия в просмотр корзины на 2% выше у группы A!"
   ]
  },
  {
   "cell_type": "code",
   "execution_count": 37,
   "metadata": {},
   "outputs": [
    {
     "name": "stdout",
     "output_type": "stream",
     "text": [
      "773 226 2422 822\n",
      "p-значение:  0.01764968717521609\n",
      "Не получилось отвергнуть нулевую гипотезу, нет оснований считать доли разными\n",
      "Разница между долями a и b:  4.42185481424332\n"
     ]
    }
   ],
   "source": [
    "# тест доли покупок\n",
    "\n",
    "trials = np.array([\n",
    "    len(recommender_system_test_participants.query('group == \"A\"')['user_id'].unique()),\n",
    "    len(recommender_system_test_participants.query('group == \"B\"')['user_id'].unique())\n",
    "])\n",
    "\n",
    "successes = np.array([\n",
    "    len(final_ab_events.query('event_name == \"purchase\" and group == \"A\"')['user_id'].unique()),\n",
    "    len(final_ab_events.query('event_name == \"purchase\" and group == \"B\"')['user_id'].unique())\n",
    "])\n",
    "\n",
    "# доля в группе A\n",
    "p1 = successes[0] / trials[0]\n",
    "\n",
    "# доля в группе B\n",
    "p2 = successes[1] / trials[1]\n",
    "\n",
    "print(successes[0], successes[1], trials[0], trials[1])\n",
    "\n",
    "# Пропорция в комбинированном датасете\n",
    "p_combined = (successes[0] + successes[1])/(trials[0] + trials[1])\n",
    "\n",
    "# Разница пропорций в датасетах\n",
    "difference = p1-p2\n",
    "\n",
    "# расчет статистики в ст. отклонениях ст. норм. распределения\n",
    "z_value = difference / mth.sqrt(p_combined*(1-p_combined)*(1/trials[0] + 1/trials[1]))\n",
    "\n",
    "# задаем стандартное распределение\n",
    "distr = st.norm(0, 1)\n",
    "\n",
    "# Рассчитываю p-value\n",
    "p_value = (1-distr.cdf(abs(z_value)))*2\n",
    "\n",
    "print('p-значение: ', p_value)\n",
    "\n",
    "if p_value < alpha:\n",
    "    print('Отвергаем нулевую гипотезу, между долями есть значимая разница')\n",
    "else:\n",
    "    print('Не получилось отвергнуть нулевую гипотезу, нет оснований считать доли разными')\n",
    "\n",
    "print('Разница между долями a и b: ', difference*100)"
   ]
  },
  {
   "cell_type": "markdown",
   "metadata": {},
   "source": [
    "Множественный статистический тест свидетельствует о том, что доли просмотров карточек в группах нельзя считать равными. Конверсия в просмотры карточки у группы B снизилась на 9%! Изменение конверсий в просмотр корзины и покупки статистически не значимо."
   ]
  },
  {
   "cell_type": "markdown",
   "metadata": {},
   "source": [
    "## Выводы по a/b тестам\n",
    "\n",
    "Как и предполагалось на этапе EDA, доли по просмотрам карточек в группах не равны, и группа A показывает результаты лучше, чем B. Я считаю, что негативные результаты теста принимать нельзя из-за неравномерности распределения событий между группами и днями. Для подтверждения или опровержения гипотезы о новой рекомендательной системе нужно провести новое исследование"
   ]
  },
  {
   "cell_type": "markdown",
   "metadata": {},
   "source": [
    "# Общие выводы\n",
    "\n",
    "В результате работы над проектом:\n",
    "1. Исходные данные теста проверены на соответствие техническому заданию. Основные требования соблюдены, но:\n",
    "    * обнаружены пользователи, участвовавшие в других тестах\n",
    "    * во время проведения теста проводились маркетинговые активности\n",
    "    * обнаружено значительное расхождение в количестве средних действий на человека между подгруппами в пользу группы A\n",
    "2. Проведен исследовательский анализ данных, который показал неравномерность распределения абсолютного количества действий между группами A и B, а также по дням (связано с неравномерным притоком пользователей в тест). Построены воронки для групп A и B. В группе B снизилась конверсия логинов в просмотры товаров, уровень оплат из просмотра товаров остался тем же. Конверсия активных пользователей в покупателей тоже снизилась.\n",
    "3. Проверены гипотезы о равенстве или росте конверсий активных пользователей в просмотры товаров, корзины и покупки:\n",
    "    * Конверсия в просмотр товаров в группе B снизилась на 9%, и это статистически значимо.\n",
    "    * Изменение конверсий в просмотр корзины и покупки между группами статистически не значимо.\n",
    "Эффект от внедрения рекомендательной системы оказался негативным.\n",
    "4. К данным теста есть много вопросов, исследование по ним может привести к неправильным выводам.\n",
    "\n",
    "Рекомендуется:\n",
    "1. Отложить внедрение рекомендательной системы.\n",
    "2. Провести тест заново с период, не пересекающийся с сезонными явлениями, праздниками и маркетинговыми активностями. Слеледить за схожестью участвующих пользователей."
   ]
  }
 ],
 "metadata": {
  "ExecuteTimeLog": [
   {
    "duration": 1161,
    "start_time": "2023-04-02T14:09:28.013Z"
   },
   {
    "duration": 662,
    "start_time": "2023-04-02T14:09:29.176Z"
   },
   {
    "duration": 24,
    "start_time": "2023-04-02T14:09:29.839Z"
   },
   {
    "duration": 32,
    "start_time": "2023-04-02T14:09:29.864Z"
   },
   {
    "duration": 494,
    "start_time": "2023-04-02T14:09:29.898Z"
   },
   {
    "duration": 137,
    "start_time": "2023-04-02T14:09:30.393Z"
   },
   {
    "duration": 140,
    "start_time": "2023-04-02T14:09:30.532Z"
   },
   {
    "duration": 14,
    "start_time": "2023-04-02T14:09:30.674Z"
   },
   {
    "duration": 83,
    "start_time": "2023-04-02T14:09:30.689Z"
   },
   {
    "duration": 18,
    "start_time": "2023-04-02T14:09:30.773Z"
   },
   {
    "duration": 150,
    "start_time": "2023-04-02T14:09:30.792Z"
   },
   {
    "duration": 6,
    "start_time": "2023-04-02T14:09:30.943Z"
   },
   {
    "duration": 506,
    "start_time": "2023-04-02T14:09:30.951Z"
   },
   {
    "duration": 6,
    "start_time": "2023-04-02T14:09:31.459Z"
   },
   {
    "duration": 153,
    "start_time": "2023-04-02T14:09:31.472Z"
   },
   {
    "duration": 81,
    "start_time": "2023-04-02T14:09:31.626Z"
   },
   {
    "duration": 30,
    "start_time": "2023-04-02T14:09:31.708Z"
   },
   {
    "duration": 40,
    "start_time": "2023-04-02T14:09:31.740Z"
   },
   {
    "duration": 341,
    "start_time": "2023-04-02T14:09:31.782Z"
   },
   {
    "duration": 113,
    "start_time": "2023-04-02T14:09:32.125Z"
   },
   {
    "duration": 267,
    "start_time": "2023-04-02T14:09:32.239Z"
   },
   {
    "duration": 12,
    "start_time": "2023-04-02T14:09:32.507Z"
   },
   {
    "duration": 22,
    "start_time": "2023-04-02T14:09:32.520Z"
   },
   {
    "duration": 524,
    "start_time": "2023-04-02T14:09:32.543Z"
   },
   {
    "duration": 395,
    "start_time": "2023-04-02T14:09:33.073Z"
   },
   {
    "duration": 19,
    "start_time": "2023-04-02T14:09:33.469Z"
   },
   {
    "duration": 18,
    "start_time": "2023-04-02T14:09:33.489Z"
   },
   {
    "duration": 14,
    "start_time": "2023-04-02T14:09:33.509Z"
   },
   {
    "duration": 2,
    "start_time": "2023-04-02T14:09:33.524Z"
   },
   {
    "duration": 18,
    "start_time": "2023-04-02T14:09:33.527Z"
   },
   {
    "duration": 43,
    "start_time": "2023-04-02T14:09:33.546Z"
   },
   {
    "duration": 23,
    "start_time": "2023-04-02T14:09:33.591Z"
   },
   {
    "duration": 14,
    "start_time": "2023-04-02T14:13:16.326Z"
   },
   {
    "duration": 19,
    "start_time": "2023-04-02T14:14:15.616Z"
   },
   {
    "duration": 18,
    "start_time": "2023-04-02T14:14:24.037Z"
   },
   {
    "duration": 18,
    "start_time": "2023-04-02T14:14:27.885Z"
   },
   {
    "duration": 1089,
    "start_time": "2023-04-02T21:52:31.755Z"
   },
   {
    "duration": 659,
    "start_time": "2023-04-02T21:52:32.846Z"
   },
   {
    "duration": 33,
    "start_time": "2023-04-02T21:52:33.507Z"
   },
   {
    "duration": 5,
    "start_time": "2023-04-02T21:52:33.542Z"
   },
   {
    "duration": 356,
    "start_time": "2023-04-02T21:52:33.548Z"
   },
   {
    "duration": 131,
    "start_time": "2023-04-02T21:52:33.905Z"
   },
   {
    "duration": 115,
    "start_time": "2023-04-02T21:52:34.038Z"
   },
   {
    "duration": 21,
    "start_time": "2023-04-02T21:52:34.154Z"
   },
   {
    "duration": 39,
    "start_time": "2023-04-02T21:52:34.176Z"
   },
   {
    "duration": 9,
    "start_time": "2023-04-02T21:52:34.218Z"
   },
   {
    "duration": 49,
    "start_time": "2023-04-02T21:52:34.228Z"
   },
   {
    "duration": 126,
    "start_time": "2023-04-02T21:52:34.279Z"
   },
   {
    "duration": 9,
    "start_time": "2023-04-02T21:52:34.406Z"
   },
   {
    "duration": 426,
    "start_time": "2023-04-02T21:52:34.417Z"
   },
   {
    "duration": 7,
    "start_time": "2023-04-02T21:52:34.844Z"
   },
   {
    "duration": 124,
    "start_time": "2023-04-02T21:52:34.852Z"
   },
   {
    "duration": 111,
    "start_time": "2023-04-02T21:52:34.978Z"
   },
   {
    "duration": 35,
    "start_time": "2023-04-02T21:52:35.091Z"
   },
   {
    "duration": 19,
    "start_time": "2023-04-02T21:52:35.128Z"
   },
   {
    "duration": 41,
    "start_time": "2023-04-02T21:52:35.148Z"
   },
   {
    "duration": 277,
    "start_time": "2023-04-02T21:52:35.190Z"
   },
   {
    "duration": 106,
    "start_time": "2023-04-02T21:52:35.472Z"
   },
   {
    "duration": 267,
    "start_time": "2023-04-02T21:52:35.580Z"
   },
   {
    "duration": 314,
    "start_time": "2023-04-02T21:52:35.849Z"
   },
   {
    "duration": 17,
    "start_time": "2023-04-02T21:52:36.165Z"
   },
   {
    "duration": 27,
    "start_time": "2023-04-02T21:52:36.183Z"
   },
   {
    "duration": 386,
    "start_time": "2023-04-02T21:52:36.211Z"
   },
   {
    "duration": 437,
    "start_time": "2023-04-02T21:52:36.600Z"
   },
   {
    "duration": 16,
    "start_time": "2023-04-02T21:52:37.038Z"
   },
   {
    "duration": 30,
    "start_time": "2023-04-02T21:52:37.056Z"
   },
   {
    "duration": 14,
    "start_time": "2023-04-02T21:52:37.088Z"
   },
   {
    "duration": 459,
    "start_time": "2023-04-02T21:52:37.104Z"
   },
   {
    "duration": 2,
    "start_time": "2023-04-02T21:52:37.564Z"
   },
   {
    "duration": 21,
    "start_time": "2023-04-02T21:52:37.568Z"
   },
   {
    "duration": 17,
    "start_time": "2023-04-02T21:52:37.590Z"
   },
   {
    "duration": 67,
    "start_time": "2023-04-02T21:52:37.609Z"
   },
   {
    "duration": 1326,
    "start_time": "2023-04-03T07:53:20.269Z"
   },
   {
    "duration": 1184,
    "start_time": "2023-04-03T07:53:21.597Z"
   },
   {
    "duration": 33,
    "start_time": "2023-04-03T07:53:22.782Z"
   },
   {
    "duration": 5,
    "start_time": "2023-04-03T07:53:22.816Z"
   },
   {
    "duration": 384,
    "start_time": "2023-04-03T07:53:22.824Z"
   },
   {
    "duration": 148,
    "start_time": "2023-04-03T07:53:23.210Z"
   },
   {
    "duration": 128,
    "start_time": "2023-04-03T07:53:23.359Z"
   },
   {
    "duration": 12,
    "start_time": "2023-04-03T07:53:23.488Z"
   },
   {
    "duration": 60,
    "start_time": "2023-04-03T07:53:23.501Z"
   },
   {
    "duration": 11,
    "start_time": "2023-04-03T07:53:23.562Z"
   },
   {
    "duration": 28,
    "start_time": "2023-04-03T07:53:23.574Z"
   },
   {
    "duration": 149,
    "start_time": "2023-04-03T07:53:23.604Z"
   },
   {
    "duration": 8,
    "start_time": "2023-04-03T07:53:23.755Z"
   },
   {
    "duration": 462,
    "start_time": "2023-04-03T07:53:23.766Z"
   },
   {
    "duration": 19,
    "start_time": "2023-04-03T07:53:24.230Z"
   },
   {
    "duration": 120,
    "start_time": "2023-04-03T07:53:24.251Z"
   },
   {
    "duration": 89,
    "start_time": "2023-04-03T07:53:24.373Z"
   },
   {
    "duration": 33,
    "start_time": "2023-04-03T07:53:24.463Z"
   },
   {
    "duration": 29,
    "start_time": "2023-04-03T07:53:24.498Z"
   },
   {
    "duration": 34,
    "start_time": "2023-04-03T07:53:24.540Z"
   },
   {
    "duration": 293,
    "start_time": "2023-04-03T07:53:24.576Z"
   },
   {
    "duration": 116,
    "start_time": "2023-04-03T07:53:24.870Z"
   },
   {
    "duration": 295,
    "start_time": "2023-04-03T07:53:24.988Z"
   },
   {
    "duration": 278,
    "start_time": "2023-04-03T07:53:25.284Z"
   },
   {
    "duration": 16,
    "start_time": "2023-04-03T07:53:25.564Z"
   },
   {
    "duration": 27,
    "start_time": "2023-04-03T07:53:25.582Z"
   },
   {
    "duration": 414,
    "start_time": "2023-04-03T07:53:25.610Z"
   },
   {
    "duration": 486,
    "start_time": "2023-04-03T07:53:26.025Z"
   },
   {
    "duration": 32,
    "start_time": "2023-04-03T07:53:26.513Z"
   },
   {
    "duration": 27,
    "start_time": "2023-04-03T07:53:26.546Z"
   },
   {
    "duration": 19,
    "start_time": "2023-04-03T07:53:26.575Z"
   },
   {
    "duration": 220,
    "start_time": "2023-04-03T07:53:26.597Z"
   },
   {
    "duration": 41,
    "start_time": "2023-04-03T07:53:26.819Z"
   },
   {
    "duration": 2,
    "start_time": "2023-04-03T07:53:26.862Z"
   },
   {
    "duration": 79,
    "start_time": "2023-04-03T07:53:26.866Z"
   },
   {
    "duration": 21,
    "start_time": "2023-04-03T07:53:26.947Z"
   },
   {
    "duration": 21,
    "start_time": "2023-04-03T07:53:26.970Z"
   },
   {
    "duration": 1099,
    "start_time": "2023-04-03T11:18:43.532Z"
   },
   {
    "duration": 738,
    "start_time": "2023-04-03T11:18:44.633Z"
   },
   {
    "duration": 27,
    "start_time": "2023-04-03T11:18:45.373Z"
   },
   {
    "duration": 3,
    "start_time": "2023-04-03T11:18:45.402Z"
   },
   {
    "duration": 323,
    "start_time": "2023-04-03T11:18:45.406Z"
   },
   {
    "duration": 131,
    "start_time": "2023-04-03T11:18:45.730Z"
   },
   {
    "duration": 106,
    "start_time": "2023-04-03T11:18:45.864Z"
   },
   {
    "duration": 10,
    "start_time": "2023-04-03T11:18:45.971Z"
   },
   {
    "duration": 56,
    "start_time": "2023-04-03T11:18:45.982Z"
   },
   {
    "duration": 18,
    "start_time": "2023-04-03T11:18:46.041Z"
   },
   {
    "duration": 23,
    "start_time": "2023-04-03T11:18:46.061Z"
   },
   {
    "duration": 121,
    "start_time": "2023-04-03T11:18:46.086Z"
   },
   {
    "duration": 6,
    "start_time": "2023-04-03T11:18:46.209Z"
   },
   {
    "duration": 455,
    "start_time": "2023-04-03T11:18:46.216Z"
   },
   {
    "duration": 6,
    "start_time": "2023-04-03T11:18:46.672Z"
   },
   {
    "duration": 116,
    "start_time": "2023-04-03T11:18:46.679Z"
   },
   {
    "duration": 76,
    "start_time": "2023-04-03T11:18:46.797Z"
   },
   {
    "duration": 26,
    "start_time": "2023-04-03T11:18:46.874Z"
   },
   {
    "duration": 18,
    "start_time": "2023-04-03T11:18:46.901Z"
   },
   {
    "duration": 40,
    "start_time": "2023-04-03T11:18:46.920Z"
   },
   {
    "duration": 280,
    "start_time": "2023-04-03T11:18:46.962Z"
   },
   {
    "duration": 111,
    "start_time": "2023-04-03T11:18:47.243Z"
   },
   {
    "duration": 255,
    "start_time": "2023-04-03T11:18:47.355Z"
   },
   {
    "duration": 260,
    "start_time": "2023-04-03T11:18:47.611Z"
   },
   {
    "duration": 14,
    "start_time": "2023-04-03T11:18:47.873Z"
   },
   {
    "duration": 34,
    "start_time": "2023-04-03T11:18:47.888Z"
   },
   {
    "duration": 384,
    "start_time": "2023-04-03T11:18:47.923Z"
   },
   {
    "duration": 429,
    "start_time": "2023-04-03T11:18:48.310Z"
   },
   {
    "duration": 26,
    "start_time": "2023-04-03T11:18:48.740Z"
   },
   {
    "duration": 20,
    "start_time": "2023-04-03T11:18:48.768Z"
   },
   {
    "duration": 24,
    "start_time": "2023-04-03T11:18:48.790Z"
   },
   {
    "duration": 516,
    "start_time": "2023-04-03T11:18:48.816Z"
   },
   {
    "duration": 29,
    "start_time": "2023-04-03T11:18:49.333Z"
   },
   {
    "duration": 3,
    "start_time": "2023-04-03T11:18:49.363Z"
   },
   {
    "duration": 19,
    "start_time": "2023-04-03T11:18:49.367Z"
   },
   {
    "duration": 68,
    "start_time": "2023-04-03T11:18:49.388Z"
   },
   {
    "duration": 24,
    "start_time": "2023-04-03T11:18:49.458Z"
   },
   {
    "duration": 2771,
    "start_time": "2023-04-03T11:19:15.258Z"
   },
   {
    "duration": 26,
    "start_time": "2023-04-03T11:19:24.991Z"
   }
  ],
  "kernelspec": {
   "display_name": "Python 3 (ipykernel)",
   "language": "python",
   "name": "python3"
  },
  "language_info": {
   "codemirror_mode": {
    "name": "ipython",
    "version": 3
   },
   "file_extension": ".py",
   "mimetype": "text/x-python",
   "name": "python",
   "nbconvert_exporter": "python",
   "pygments_lexer": "ipython3",
   "version": "3.9.5"
  },
  "toc": {
   "base_numbering": 1,
   "nav_menu": {},
   "number_sections": true,
   "sideBar": true,
   "skip_h1_title": true,
   "title_cell": "Table of Contents",
   "title_sidebar": "Contents",
   "toc_cell": false,
   "toc_position": {},
   "toc_section_display": true,
   "toc_window_display": true
  },
  "vscode": {
   "interpreter": {
    "hash": "52831304c5a360fb11cbe204bc0cbf49291ced572633dfbeabf2f026a0ed582b"
   }
  }
 },
 "nbformat": 4,
 "nbformat_minor": 2
}
