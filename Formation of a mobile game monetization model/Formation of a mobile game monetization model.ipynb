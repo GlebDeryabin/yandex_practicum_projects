{
 "cells": [
  {
   "cell_type": "markdown",
   "metadata": {},
   "source": [
    "# Формирование модели монетизации мобильной игры"
   ]
  },
  {
   "cell_type": "markdown",
   "metadata": {},
   "source": [
    "# Материалы\n",
    "\n",
    "[Ссылка](https://drive.google.com/file/d/1KJy2YXMHvb_pCWTs41xrZ_cp_LbCd6l0/view?usp=share_link) на презентацию с выводами по исследованию\n",
    "\n",
    "[Ссылка](https://public.tableau.com/views/Book3_16801811305550/sheet2?:language=en-US&publish=yes&:display_count=n&:origin=viz_share_link) на дашборд"
   ]
  },
  {
   "cell_type": "markdown",
   "metadata": {},
   "source": [
    "# Введение\n",
    "\n",
    "**Название проекта:** Формирование модели монетизации мобильной игры\n",
    "\n",
    "**Описание проекта:** Разработчики запустили мобильную игру \"Космические братья\". В ней пользователи строят свою космическую программу и пытаются преуспеть в нелёгком деле колонизации галактики. Первые пользователи уже играют, и их привлечение работает. Однако, пока не реализована основная монетизация игры: предполагается, что это будет показ рекламы на одном из экранов. В такой механике есть противоречие: если показать рекламу рано, то пользователь может разозлиться и уйти, если поздно - тем меньше игроков останется и принесут разработчикам меньше денег. Перед аналитиком стоит задача выбора оптимального времени для показа рекламы. Требования к решению: реклама должна окупать привлечение пользователей по достижению ими первого уровня, количество рекламы должно быть минимально.\n",
    "\n",
    "**Цель:** на основании минимальной окупаемости привлечения игроков определить оптимальное время для показа внутриигровой рекламы.\n",
    "\n",
    "**Гипотезы:**\n",
    "1. Время прохождения уровня между игроками, которые реализуют проект или побеждают игрока для перехода к следующему уровню, равно или отличается\n",
    "2. Количество построек не зависит от стиля игры, а значит строители и воины будут видеть одинаковое количество рекламы\n",
    "\n",
    "**Задачи:**\n",
    "1. Загрузить и преобработать данные\n",
    "    1. Типы данных\n",
    "    2. Дубликаты\n",
    "    3. Пропуски\n",
    "    4. Аномалии\n",
    "    5. Горизонт анализа (оставить актуальные данные)\n",
    "    6. Коррекция даты закупки рекламы (закупка на день опережает привлечение)\n",
    "2. Провести исследовательский анализ данных\n",
    "    1. Что влияет на целевое событие \"Игрок перешел на новый уровень\"?\n",
    "        1. Связь перехода на новый уровень и даты привлечения пользователя\n",
    "        2. Связь перехода на новый уровень и канала привлечения пользователя\n",
    "        3. Связь перехода на новый уровень и количества построенных объектов\n",
    "        4. Связь перехода на новый уровень и типов построенных объектов\n",
    "        5. Связь перехода на новый уровень и тип игры - строитель или воин\n",
    "    2. Какое событие выбрать для показа рекламы?\n",
    "        1. расчет затрат на привлечение пользователей по когортам\n",
    "        2. количество событий в датасете в разбивке по разным пользователям и когортам\n",
    "        3. расчет предполагаемых доходов от показов рекламы из расчета 0.07 у.е. за показ\n",
    "        4. выбор событий для показа рекламы\n",
    "3. Проверить статистические гипотезы\n",
    "    1. Подготовить данные\n",
    "    2. Правильно выбрать тест и проверить, нужна ли поправка\n",
    "4. Сформулировать выводы и рекомендации, подготовить презентацию\n",
    "\n",
    "**Исходные данные:** Исходные данные предоставлены разработчиками и содержат 3 таблицы:\n",
    "* game_actions.csv с логами внутриигровых событиях о построках, проектах и завершениях уровня, типах построек\n",
    "* ad_costs.csv с информацией о рекламных активностях: день, источник трафика, стоимость кликов\n",
    "* user_source.csv с информацией о пользователях и источниках их привлечения\n",
    "\n",
    "**Форма представления результатов:** по итогам исследования подготовить презентацию с обоснованием выбора оптимальной модели монетизации игры в формате pdf"
   ]
  },
  {
   "cell_type": "markdown",
   "metadata": {},
   "source": [
    "# Loading libraries and hard variables"
   ]
  },
  {
   "cell_type": "code",
   "execution_count": 1,
   "metadata": {},
   "outputs": [
    {
     "name": "stdout",
     "output_type": "stream",
     "text": [
      "Requirement already satisfied: matplotlib in /opt/conda/lib/python3.9/site-packages (3.3.4)\n",
      "Collecting matplotlib\n",
      "  Downloading matplotlib-3.7.1-cp39-cp39-manylinux_2_17_x86_64.manylinux2014_x86_64.whl (11.6 MB)\n",
      "\u001b[K     |████████████████████████████████| 11.6 MB 1.2 MB/s eta 0:00:01\n",
      "\u001b[?25hCollecting fonttools>=4.22.0\n",
      "  Downloading fonttools-4.39.3-py3-none-any.whl (1.0 MB)\n",
      "\u001b[K     |████████████████████████████████| 1.0 MB 68.1 MB/s eta 0:00:01\n",
      "\u001b[?25hRequirement already satisfied: pillow>=6.2.0 in /opt/conda/lib/python3.9/site-packages (from matplotlib) (8.4.0)\n",
      "Requirement already satisfied: kiwisolver>=1.0.1 in /opt/conda/lib/python3.9/site-packages (from matplotlib) (1.4.4)\n",
      "Collecting contourpy>=1.0.1\n",
      "  Downloading contourpy-1.0.7-cp39-cp39-manylinux_2_17_x86_64.manylinux2014_x86_64.whl (299 kB)\n",
      "\u001b[K     |████████████████████████████████| 299 kB 105.4 MB/s eta 0:00:01\n",
      "\u001b[?25hRequirement already satisfied: pyparsing>=2.3.1 in /opt/conda/lib/python3.9/site-packages (from matplotlib) (2.4.7)\n",
      "Requirement already satisfied: python-dateutil>=2.7 in /opt/conda/lib/python3.9/site-packages (from matplotlib) (2.8.1)\n",
      "Requirement already satisfied: cycler>=0.10 in /opt/conda/lib/python3.9/site-packages (from matplotlib) (0.11.0)\n",
      "Requirement already satisfied: packaging>=20.0 in /opt/conda/lib/python3.9/site-packages (from matplotlib) (21.3)\n",
      "Requirement already satisfied: numpy>=1.20 in /opt/conda/lib/python3.9/site-packages (from matplotlib) (1.21.1)\n",
      "Collecting importlib-resources>=3.2.0\n",
      "  Downloading importlib_resources-5.12.0-py3-none-any.whl (36 kB)\n",
      "Requirement already satisfied: zipp>=3.1.0 in /opt/conda/lib/python3.9/site-packages (from importlib-resources>=3.2.0->matplotlib) (3.5.0)\n",
      "Requirement already satisfied: six>=1.5 in /opt/conda/lib/python3.9/site-packages (from python-dateutil>=2.7->matplotlib) (1.16.0)\n",
      "Installing collected packages: importlib-resources, fonttools, contourpy, matplotlib\n",
      "  Attempting uninstall: matplotlib\n",
      "    Found existing installation: matplotlib 3.3.4\n",
      "    Uninstalling matplotlib-3.3.4:\n",
      "      Successfully uninstalled matplotlib-3.3.4\n",
      "Successfully installed contourpy-1.0.7 fonttools-4.39.3 importlib-resources-5.12.0 matplotlib-3.7.1\n",
      "Collecting pandas==1.3.2\n",
      "  Downloading pandas-1.3.2-cp39-cp39-manylinux_2_17_x86_64.manylinux2014_x86_64.whl (11.5 MB)\n",
      "\u001b[K     |████████████████████████████████| 11.5 MB 1.2 MB/s eta 0:00:01\n",
      "\u001b[?25hRequirement already satisfied: numpy>=1.17.3 in /opt/conda/lib/python3.9/site-packages (from pandas==1.3.2) (1.21.1)\n",
      "Requirement already satisfied: pytz>=2017.3 in /opt/conda/lib/python3.9/site-packages (from pandas==1.3.2) (2021.1)\n",
      "Requirement already satisfied: python-dateutil>=2.7.3 in /opt/conda/lib/python3.9/site-packages (from pandas==1.3.2) (2.8.1)\n",
      "Requirement already satisfied: six>=1.5 in /opt/conda/lib/python3.9/site-packages (from python-dateutil>=2.7.3->pandas==1.3.2) (1.16.0)\n",
      "Installing collected packages: pandas\n",
      "  Attempting uninstall: pandas\n",
      "    Found existing installation: pandas 1.2.4\n",
      "    Uninstalling pandas-1.2.4:\n",
      "      Successfully uninstalled pandas-1.2.4\n",
      "Successfully installed pandas-1.3.2\n"
     ]
    }
   ],
   "source": [
    "# # обновление библиотеки\n",
    "# !pip install matplotlib --upgrade\n",
    "# !pip install pandas==1.3.2"
   ]
  },
  {
   "cell_type": "code",
   "execution_count": 2,
   "metadata": {},
   "outputs": [],
   "source": [
    "# загрузка библиотек\n",
    "import pandas as pd\n",
    "import numpy as np\n",
    "import seaborn as sns\n",
    "import matplotlib.pyplot as plt\n",
    "import matplotlib\n",
    "import datetime\n",
    "import math\n",
    "import scipy.stats as stats\n",
    "\n",
    "\n",
    "\n",
    "\n",
    "# задание хард-переменных\n",
    "# выручка за один показ рекламы внутри игры\n",
    "inner_ad_price = 0.07"
   ]
  },
  {
   "cell_type": "markdown",
   "metadata": {},
   "source": [
    "# Загрузка и предобработка данных"
   ]
  },
  {
   "cell_type": "code",
   "execution_count": 3,
   "metadata": {},
   "outputs": [],
   "source": [
    "# датасет по маркетингу\n",
    "try:\n",
    "    try:\n",
    "        ad_costs = pd.read_csv('/Users/glebderabin/Мой диск/ЯПрактикум/финальный проект/проект/ad_costs.csv')\n",
    "    except:\n",
    "        ad_costs = pd.read_csv(r\"C:\\Users\\Gleb\\Мой диск\\ЯПрактикум\\финальный проект\\проект\\ad_costs.csv\")\n",
    "except:\n",
    "    ad_costs = pd.read_csv('/datasets/ad_costs.csv')\n",
    "\n",
    "# датасет с логами игры\n",
    "try:\n",
    "    try:\n",
    "        game_actions = pd.read_csv('/Users/glebderabin/Мой диск/ЯПрактикум/финальный проект/проект/game_actions.csv')\n",
    "    except:\n",
    "        game_actions = pd.read_csv(r\"C:\\Users\\Gleb\\Мой диск\\ЯПрактикум\\финальный проект\\проект\\game_actions.csv\")\n",
    "except:\n",
    "    game_actions = pd.read_csv('/datasets/game_actions.csv')\n",
    "\n",
    "# датасет с логами игры\n",
    "try:\n",
    "    try:\n",
    "        user_source = pd.read_csv('/Users/glebderabin/Мой диск/ЯПрактикум/финальный проект/проект/user_source.csv')\n",
    "    except:\n",
    "        user_source = pd.read_csv(r\"C:\\Users\\Gleb\\Мой диск\\ЯПрактикум\\финальный проект\\проект\\user_source.csv\")\n",
    "except:\n",
    "    user_source = pd.read_csv('/datasets/user_source.csv')"
   ]
  },
  {
   "cell_type": "markdown",
   "metadata": {},
   "source": [
    "## Предобработка таблицы ad_costs\n",
    "\n",
    "    1. Типы данных\n",
    "    2. Дубликаты\n",
    "    3. Пропуски\n",
    "    4. Аномалии\n",
    "    5. Горизонт анализа (оставить актуальные данные)\n",
    "    6. Коррекция даты закупки рекламы (закупка на день опережает привлечение)"
   ]
  },
  {
   "cell_type": "code",
   "execution_count": 4,
   "metadata": {},
   "outputs": [
    {
     "data": {
      "text/html": [
       "<div>\n",
       "<style scoped>\n",
       "    .dataframe tbody tr th:only-of-type {\n",
       "        vertical-align: middle;\n",
       "    }\n",
       "\n",
       "    .dataframe tbody tr th {\n",
       "        vertical-align: top;\n",
       "    }\n",
       "\n",
       "    .dataframe thead th {\n",
       "        text-align: right;\n",
       "    }\n",
       "</style>\n",
       "<table border=\"1\" class=\"dataframe\">\n",
       "  <thead>\n",
       "    <tr style=\"text-align: right;\">\n",
       "      <th></th>\n",
       "      <th>source</th>\n",
       "      <th>day</th>\n",
       "      <th>cost</th>\n",
       "    </tr>\n",
       "  </thead>\n",
       "  <tbody>\n",
       "    <tr>\n",
       "      <th>0</th>\n",
       "      <td>facebook_ads</td>\n",
       "      <td>2020-05-03</td>\n",
       "      <td>935.882786</td>\n",
       "    </tr>\n",
       "    <tr>\n",
       "      <th>1</th>\n",
       "      <td>facebook_ads</td>\n",
       "      <td>2020-05-04</td>\n",
       "      <td>548.354480</td>\n",
       "    </tr>\n",
       "    <tr>\n",
       "      <th>2</th>\n",
       "      <td>facebook_ads</td>\n",
       "      <td>2020-05-05</td>\n",
       "      <td>260.185754</td>\n",
       "    </tr>\n",
       "    <tr>\n",
       "      <th>3</th>\n",
       "      <td>facebook_ads</td>\n",
       "      <td>2020-05-06</td>\n",
       "      <td>177.982200</td>\n",
       "    </tr>\n",
       "    <tr>\n",
       "      <th>4</th>\n",
       "      <td>facebook_ads</td>\n",
       "      <td>2020-05-07</td>\n",
       "      <td>111.766796</td>\n",
       "    </tr>\n",
       "  </tbody>\n",
       "</table>\n",
       "</div>"
      ],
      "text/plain": [
       "         source         day        cost\n",
       "0  facebook_ads  2020-05-03  935.882786\n",
       "1  facebook_ads  2020-05-04  548.354480\n",
       "2  facebook_ads  2020-05-05  260.185754\n",
       "3  facebook_ads  2020-05-06  177.982200\n",
       "4  facebook_ads  2020-05-07  111.766796"
      ]
     },
     "metadata": {},
     "output_type": "display_data"
    },
    {
     "name": "stdout",
     "output_type": "stream",
     "text": [
      "<class 'pandas.core.frame.DataFrame'>\n",
      "RangeIndex: 28 entries, 0 to 27\n",
      "Data columns (total 3 columns):\n",
      " #   Column  Non-Null Count  Dtype  \n",
      "---  ------  --------------  -----  \n",
      " 0   source  28 non-null     object \n",
      " 1   day     28 non-null     object \n",
      " 2   cost    28 non-null     float64\n",
      "dtypes: float64(1), object(2)\n",
      "memory usage: 800.0+ bytes\n"
     ]
    },
    {
     "data": {
      "text/plain": [
       "None"
      ]
     },
     "metadata": {},
     "output_type": "display_data"
    },
    {
     "data": {
      "text/html": [
       "<div>\n",
       "<style scoped>\n",
       "    .dataframe tbody tr th:only-of-type {\n",
       "        vertical-align: middle;\n",
       "    }\n",
       "\n",
       "    .dataframe tbody tr th {\n",
       "        vertical-align: top;\n",
       "    }\n",
       "\n",
       "    .dataframe thead th {\n",
       "        text-align: right;\n",
       "    }\n",
       "</style>\n",
       "<table border=\"1\" class=\"dataframe\">\n",
       "  <thead>\n",
       "    <tr style=\"text-align: right;\">\n",
       "      <th></th>\n",
       "      <th>cost</th>\n",
       "    </tr>\n",
       "  </thead>\n",
       "  <tbody>\n",
       "    <tr>\n",
       "      <th>count</th>\n",
       "      <td>28.000000</td>\n",
       "    </tr>\n",
       "    <tr>\n",
       "      <th>mean</th>\n",
       "      <td>271.556321</td>\n",
       "    </tr>\n",
       "    <tr>\n",
       "      <th>std</th>\n",
       "      <td>286.867650</td>\n",
       "    </tr>\n",
       "    <tr>\n",
       "      <th>min</th>\n",
       "      <td>23.314669</td>\n",
       "    </tr>\n",
       "    <tr>\n",
       "      <th>25%</th>\n",
       "      <td>66.747365</td>\n",
       "    </tr>\n",
       "    <tr>\n",
       "      <th>50%</th>\n",
       "      <td>160.056443</td>\n",
       "    </tr>\n",
       "    <tr>\n",
       "      <th>75%</th>\n",
       "      <td>349.034473</td>\n",
       "    </tr>\n",
       "    <tr>\n",
       "      <th>max</th>\n",
       "      <td>969.139394</td>\n",
       "    </tr>\n",
       "  </tbody>\n",
       "</table>\n",
       "</div>"
      ],
      "text/plain": [
       "             cost\n",
       "count   28.000000\n",
       "mean   271.556321\n",
       "std    286.867650\n",
       "min     23.314669\n",
       "25%     66.747365\n",
       "50%    160.056443\n",
       "75%    349.034473\n",
       "max    969.139394"
      ]
     },
     "metadata": {},
     "output_type": "display_data"
    },
    {
     "name": "stdout",
     "output_type": "stream",
     "text": [
      "Количество пропусков в таблице:  0\n",
      "Количество полных дубликатов строк в таблице:  0\n"
     ]
    }
   ],
   "source": [
    "display(ad_costs.head())\n",
    "display(ad_costs.info())\n",
    "display(ad_costs.describe())\n",
    "print('Количество пропусков в таблице: ', ad_costs.isnull().sum().sum()) \n",
    "print('Количество полных дубликатов строк в таблице: ', ad_costs.duplicated().sum())"
   ]
  },
  {
   "cell_type": "markdown",
   "metadata": {},
   "source": [
    "В таблице 28 строк, описывающих маркетинговые затраты на привлечение пользователей в разбивке по дням и каналам. В таблице нет пропусков и дубликатов. На первый взгляд, аномалий тоже нет. Нужно привести поле day к правильному формату и добавить к значениям один день: от отдела маркетинга известно, что пользователи приходят на следующий день после оплаты рекламы"
   ]
  },
  {
   "cell_type": "code",
   "execution_count": 5,
   "metadata": {},
   "outputs": [],
   "source": [
    "# тип поля - метка времени\n",
    "ad_costs['day'] = pd.to_datetime(ad_costs['day'])\n",
    "# добавляю один день к каждой записи\n",
    "ad_costs['day'] = ad_costs['day'] + pd.Timedelta(days=1)"
   ]
  },
  {
   "cell_type": "markdown",
   "metadata": {},
   "source": [
    "## Предобработка таблицы game_actions"
   ]
  },
  {
   "cell_type": "code",
   "execution_count": 6,
   "metadata": {},
   "outputs": [
    {
     "data": {
      "text/html": [
       "<div>\n",
       "<style scoped>\n",
       "    .dataframe tbody tr th:only-of-type {\n",
       "        vertical-align: middle;\n",
       "    }\n",
       "\n",
       "    .dataframe tbody tr th {\n",
       "        vertical-align: top;\n",
       "    }\n",
       "\n",
       "    .dataframe thead th {\n",
       "        text-align: right;\n",
       "    }\n",
       "</style>\n",
       "<table border=\"1\" class=\"dataframe\">\n",
       "  <thead>\n",
       "    <tr style=\"text-align: right;\">\n",
       "      <th></th>\n",
       "      <th>event_datetime</th>\n",
       "      <th>event</th>\n",
       "      <th>building_type</th>\n",
       "      <th>user_id</th>\n",
       "      <th>project_type</th>\n",
       "    </tr>\n",
       "  </thead>\n",
       "  <tbody>\n",
       "    <tr>\n",
       "      <th>0</th>\n",
       "      <td>2020-05-04 00:00:01</td>\n",
       "      <td>building</td>\n",
       "      <td>assembly_shop</td>\n",
       "      <td>55e92310-cb8e-4754-b622-597e124b03de</td>\n",
       "      <td>NaN</td>\n",
       "    </tr>\n",
       "    <tr>\n",
       "      <th>1</th>\n",
       "      <td>2020-05-04 00:00:03</td>\n",
       "      <td>building</td>\n",
       "      <td>assembly_shop</td>\n",
       "      <td>c07b1c10-f477-44dc-81dc-ec82254b1347</td>\n",
       "      <td>NaN</td>\n",
       "    </tr>\n",
       "    <tr>\n",
       "      <th>2</th>\n",
       "      <td>2020-05-04 00:00:16</td>\n",
       "      <td>building</td>\n",
       "      <td>assembly_shop</td>\n",
       "      <td>6edd42cc-e753-4ff6-a947-2107cd560710</td>\n",
       "      <td>NaN</td>\n",
       "    </tr>\n",
       "    <tr>\n",
       "      <th>3</th>\n",
       "      <td>2020-05-04 00:00:16</td>\n",
       "      <td>building</td>\n",
       "      <td>assembly_shop</td>\n",
       "      <td>92c69003-d60a-444a-827f-8cc51bf6bf4c</td>\n",
       "      <td>NaN</td>\n",
       "    </tr>\n",
       "    <tr>\n",
       "      <th>4</th>\n",
       "      <td>2020-05-04 00:00:35</td>\n",
       "      <td>building</td>\n",
       "      <td>assembly_shop</td>\n",
       "      <td>cdc6bb92-0ccb-4490-9866-ef142f09139d</td>\n",
       "      <td>NaN</td>\n",
       "    </tr>\n",
       "  </tbody>\n",
       "</table>\n",
       "</div>"
      ],
      "text/plain": [
       "        event_datetime     event  building_type  \\\n",
       "0  2020-05-04 00:00:01  building  assembly_shop   \n",
       "1  2020-05-04 00:00:03  building  assembly_shop   \n",
       "2  2020-05-04 00:00:16  building  assembly_shop   \n",
       "3  2020-05-04 00:00:16  building  assembly_shop   \n",
       "4  2020-05-04 00:00:35  building  assembly_shop   \n",
       "\n",
       "                                user_id project_type  \n",
       "0  55e92310-cb8e-4754-b622-597e124b03de          NaN  \n",
       "1  c07b1c10-f477-44dc-81dc-ec82254b1347          NaN  \n",
       "2  6edd42cc-e753-4ff6-a947-2107cd560710          NaN  \n",
       "3  92c69003-d60a-444a-827f-8cc51bf6bf4c          NaN  \n",
       "4  cdc6bb92-0ccb-4490-9866-ef142f09139d          NaN  "
      ]
     },
     "metadata": {},
     "output_type": "display_data"
    },
    {
     "name": "stdout",
     "output_type": "stream",
     "text": [
      "<class 'pandas.core.frame.DataFrame'>\n",
      "RangeIndex: 135640 entries, 0 to 135639\n",
      "Data columns (total 5 columns):\n",
      " #   Column          Non-Null Count   Dtype \n",
      "---  ------          --------------   ----- \n",
      " 0   event_datetime  135640 non-null  object\n",
      " 1   event           135640 non-null  object\n",
      " 2   building_type   127957 non-null  object\n",
      " 3   user_id         135640 non-null  object\n",
      " 4   project_type    1866 non-null    object\n",
      "dtypes: object(5)\n",
      "memory usage: 5.2+ MB\n"
     ]
    },
    {
     "data": {
      "text/plain": [
       "None"
      ]
     },
     "metadata": {},
     "output_type": "display_data"
    },
    {
     "data": {
      "text/html": [
       "<div>\n",
       "<style scoped>\n",
       "    .dataframe tbody tr th:only-of-type {\n",
       "        vertical-align: middle;\n",
       "    }\n",
       "\n",
       "    .dataframe tbody tr th {\n",
       "        vertical-align: top;\n",
       "    }\n",
       "\n",
       "    .dataframe thead th {\n",
       "        text-align: right;\n",
       "    }\n",
       "</style>\n",
       "<table border=\"1\" class=\"dataframe\">\n",
       "  <thead>\n",
       "    <tr style=\"text-align: right;\">\n",
       "      <th></th>\n",
       "      <th>event_datetime</th>\n",
       "      <th>event</th>\n",
       "      <th>building_type</th>\n",
       "      <th>user_id</th>\n",
       "      <th>project_type</th>\n",
       "    </tr>\n",
       "  </thead>\n",
       "  <tbody>\n",
       "    <tr>\n",
       "      <th>count</th>\n",
       "      <td>135640</td>\n",
       "      <td>135640</td>\n",
       "      <td>127957</td>\n",
       "      <td>135640</td>\n",
       "      <td>1866</td>\n",
       "    </tr>\n",
       "    <tr>\n",
       "      <th>unique</th>\n",
       "      <td>128790</td>\n",
       "      <td>3</td>\n",
       "      <td>3</td>\n",
       "      <td>13576</td>\n",
       "      <td>1</td>\n",
       "    </tr>\n",
       "    <tr>\n",
       "      <th>top</th>\n",
       "      <td>2020-05-09 12:35:56</td>\n",
       "      <td>building</td>\n",
       "      <td>spaceport</td>\n",
       "      <td>bf542075-e3a2-4e79-82d8-3838e86d2a25</td>\n",
       "      <td>satellite_orbital_assembly</td>\n",
       "    </tr>\n",
       "    <tr>\n",
       "      <th>freq</th>\n",
       "      <td>4</td>\n",
       "      <td>127957</td>\n",
       "      <td>59325</td>\n",
       "      <td>22</td>\n",
       "      <td>1866</td>\n",
       "    </tr>\n",
       "  </tbody>\n",
       "</table>\n",
       "</div>"
      ],
      "text/plain": [
       "             event_datetime     event building_type  \\\n",
       "count                135640    135640        127957   \n",
       "unique               128790         3             3   \n",
       "top     2020-05-09 12:35:56  building     spaceport   \n",
       "freq                      4    127957         59325   \n",
       "\n",
       "                                     user_id                project_type  \n",
       "count                                 135640                        1866  \n",
       "unique                                 13576                           1  \n",
       "top     bf542075-e3a2-4e79-82d8-3838e86d2a25  satellite_orbital_assembly  \n",
       "freq                                      22                        1866  "
      ]
     },
     "metadata": {},
     "output_type": "display_data"
    },
    {
     "name": "stdout",
     "output_type": "stream",
     "text": [
      "Количество пропусков в таблице:  141457\n",
      "Количество полных дубликатов строк в таблице:  1\n"
     ]
    }
   ],
   "source": [
    "display(game_actions.head())\n",
    "display(game_actions.info())\n",
    "display(game_actions.describe())\n",
    "print('Количество пропусков в таблице: ', game_actions.isnull().sum().sum()) \n",
    "print('Количество полных дубликатов строк в таблице: ', game_actions.duplicated().sum())"
   ]
  },
  {
   "cell_type": "markdown",
   "metadata": {},
   "source": [
    "Таблица game_actions содержит в себе 135640 записей с полями времени, типе события, типе постройки, индентификаторе пользователя, постройке проекта.\n",
    "В поле building_type есть пропуски, нужно проверить, что они связаны с другими типами событий, а не с некорректным сбором данных. Пропуски в поле project_type связаны с тем, что для окончания уровня и в принципе для игры не обязательно строить проект. На первый взгляд аномалий нет.\n",
    "Самый активный пользователь сгенерировал 22 события. Поле event_datetime нужно привести к правильному типу. Обнаружен один полный дубликат."
   ]
  },
  {
   "cell_type": "code",
   "execution_count": 7,
   "metadata": {},
   "outputs": [
    {
     "data": {
      "text/plain": [
       "0"
      ]
     },
     "execution_count": 7,
     "metadata": {},
     "output_type": "execute_result"
    }
   ],
   "source": [
    "# привожу event_datetime к правильному типу\n",
    "game_actions['event_datetime'] = pd.to_datetime(game_actions['event_datetime'])\n",
    "\n",
    "# проверяю пропуски в поле building_type, если event == building\n",
    "game_actions[game_actions['event'] == 'building']['building_type'].isnull().sum()"
   ]
  },
  {
   "cell_type": "code",
   "execution_count": 8,
   "metadata": {},
   "outputs": [
    {
     "data": {
      "text/html": [
       "<div>\n",
       "<style scoped>\n",
       "    .dataframe tbody tr th:only-of-type {\n",
       "        vertical-align: middle;\n",
       "    }\n",
       "\n",
       "    .dataframe tbody tr th {\n",
       "        vertical-align: top;\n",
       "    }\n",
       "\n",
       "    .dataframe thead th {\n",
       "        text-align: right;\n",
       "    }\n",
       "</style>\n",
       "<table border=\"1\" class=\"dataframe\">\n",
       "  <thead>\n",
       "    <tr style=\"text-align: right;\">\n",
       "      <th></th>\n",
       "      <th>event_datetime</th>\n",
       "      <th>event</th>\n",
       "      <th>building_type</th>\n",
       "      <th>user_id</th>\n",
       "      <th>project_type</th>\n",
       "    </tr>\n",
       "  </thead>\n",
       "  <tbody>\n",
       "    <tr>\n",
       "      <th>74891</th>\n",
       "      <td>2020-05-10 18:41:56</td>\n",
       "      <td>building</td>\n",
       "      <td>research_center</td>\n",
       "      <td>c9af55d2-b0ae-4bb4-b3d5-f32aa9ac03af</td>\n",
       "      <td>NaN</td>\n",
       "    </tr>\n",
       "  </tbody>\n",
       "</table>\n",
       "</div>"
      ],
      "text/plain": [
       "           event_datetime     event    building_type  \\\n",
       "74891 2020-05-10 18:41:56  building  research_center   \n",
       "\n",
       "                                    user_id project_type  \n",
       "74891  c9af55d2-b0ae-4bb4-b3d5-f32aa9ac03af          NaN  "
      ]
     },
     "execution_count": 8,
     "metadata": {},
     "output_type": "execute_result"
    }
   ],
   "source": [
    "# проверяю полный дубликат\n",
    "game_actions[game_actions.duplicated()]"
   ]
  },
  {
   "cell_type": "markdown",
   "metadata": {},
   "source": [
    "Маловероятно, что пользователь построил два исследовательских центра в одну секунду. Хотя это не повлияет на исследование, отброшу дубликат"
   ]
  },
  {
   "cell_type": "code",
   "execution_count": 9,
   "metadata": {},
   "outputs": [],
   "source": [
    "game_actions.drop_duplicates(inplace=True, ignore_index=True)"
   ]
  },
  {
   "cell_type": "markdown",
   "metadata": {},
   "source": [
    "## Предобработка таблицы user_source\n",
    "\n",
    "    1. Типы данных\n",
    "    2. Дубликаты\n",
    "    3. Пропуски\n",
    "    4. Аномалии\n",
    "    5. Горизонт анализа (оставить актуальные данные)\n",
    "    6. Коррекция даты закупки рекламы (закупка на день опережает привлечение)"
   ]
  },
  {
   "cell_type": "code",
   "execution_count": 10,
   "metadata": {},
   "outputs": [
    {
     "data": {
      "text/html": [
       "<div>\n",
       "<style scoped>\n",
       "    .dataframe tbody tr th:only-of-type {\n",
       "        vertical-align: middle;\n",
       "    }\n",
       "\n",
       "    .dataframe tbody tr th {\n",
       "        vertical-align: top;\n",
       "    }\n",
       "\n",
       "    .dataframe thead th {\n",
       "        text-align: right;\n",
       "    }\n",
       "</style>\n",
       "<table border=\"1\" class=\"dataframe\">\n",
       "  <thead>\n",
       "    <tr style=\"text-align: right;\">\n",
       "      <th></th>\n",
       "      <th>user_id</th>\n",
       "      <th>source</th>\n",
       "    </tr>\n",
       "  </thead>\n",
       "  <tbody>\n",
       "    <tr>\n",
       "      <th>0</th>\n",
       "      <td>0001f83c-c6ac-4621-b7f0-8a28b283ac30</td>\n",
       "      <td>facebook_ads</td>\n",
       "    </tr>\n",
       "    <tr>\n",
       "      <th>1</th>\n",
       "      <td>00151b4f-ba38-44a8-a650-d7cf130a0105</td>\n",
       "      <td>yandex_direct</td>\n",
       "    </tr>\n",
       "    <tr>\n",
       "      <th>2</th>\n",
       "      <td>001aaea6-3d14-43f1-8ca8-7f48820f17aa</td>\n",
       "      <td>youtube_channel_reklama</td>\n",
       "    </tr>\n",
       "    <tr>\n",
       "      <th>3</th>\n",
       "      <td>001d39dc-366c-4021-9604-6a3b9ff01e25</td>\n",
       "      <td>instagram_new_adverts</td>\n",
       "    </tr>\n",
       "    <tr>\n",
       "      <th>4</th>\n",
       "      <td>002f508f-67b6-479f-814b-b05f00d4e995</td>\n",
       "      <td>facebook_ads</td>\n",
       "    </tr>\n",
       "  </tbody>\n",
       "</table>\n",
       "</div>"
      ],
      "text/plain": [
       "                                user_id                   source\n",
       "0  0001f83c-c6ac-4621-b7f0-8a28b283ac30             facebook_ads\n",
       "1  00151b4f-ba38-44a8-a650-d7cf130a0105            yandex_direct\n",
       "2  001aaea6-3d14-43f1-8ca8-7f48820f17aa  youtube_channel_reklama\n",
       "3  001d39dc-366c-4021-9604-6a3b9ff01e25    instagram_new_adverts\n",
       "4  002f508f-67b6-479f-814b-b05f00d4e995             facebook_ads"
      ]
     },
     "metadata": {},
     "output_type": "display_data"
    },
    {
     "name": "stdout",
     "output_type": "stream",
     "text": [
      "<class 'pandas.core.frame.DataFrame'>\n",
      "RangeIndex: 13576 entries, 0 to 13575\n",
      "Data columns (total 2 columns):\n",
      " #   Column   Non-Null Count  Dtype \n",
      "---  ------   --------------  ----- \n",
      " 0   user_id  13576 non-null  object\n",
      " 1   source   13576 non-null  object\n",
      "dtypes: object(2)\n",
      "memory usage: 212.2+ KB\n"
     ]
    },
    {
     "data": {
      "text/plain": [
       "None"
      ]
     },
     "metadata": {},
     "output_type": "display_data"
    },
    {
     "data": {
      "text/html": [
       "<div>\n",
       "<style scoped>\n",
       "    .dataframe tbody tr th:only-of-type {\n",
       "        vertical-align: middle;\n",
       "    }\n",
       "\n",
       "    .dataframe tbody tr th {\n",
       "        vertical-align: top;\n",
       "    }\n",
       "\n",
       "    .dataframe thead th {\n",
       "        text-align: right;\n",
       "    }\n",
       "</style>\n",
       "<table border=\"1\" class=\"dataframe\">\n",
       "  <thead>\n",
       "    <tr style=\"text-align: right;\">\n",
       "      <th></th>\n",
       "      <th>user_id</th>\n",
       "      <th>source</th>\n",
       "    </tr>\n",
       "  </thead>\n",
       "  <tbody>\n",
       "    <tr>\n",
       "      <th>count</th>\n",
       "      <td>13576</td>\n",
       "      <td>13576</td>\n",
       "    </tr>\n",
       "    <tr>\n",
       "      <th>unique</th>\n",
       "      <td>13576</td>\n",
       "      <td>4</td>\n",
       "    </tr>\n",
       "    <tr>\n",
       "      <th>top</th>\n",
       "      <td>0001f83c-c6ac-4621-b7f0-8a28b283ac30</td>\n",
       "      <td>yandex_direct</td>\n",
       "    </tr>\n",
       "    <tr>\n",
       "      <th>freq</th>\n",
       "      <td>1</td>\n",
       "      <td>4817</td>\n",
       "    </tr>\n",
       "  </tbody>\n",
       "</table>\n",
       "</div>"
      ],
      "text/plain": [
       "                                     user_id         source\n",
       "count                                  13576          13576\n",
       "unique                                 13576              4\n",
       "top     0001f83c-c6ac-4621-b7f0-8a28b283ac30  yandex_direct\n",
       "freq                                       1           4817"
      ]
     },
     "metadata": {},
     "output_type": "display_data"
    },
    {
     "name": "stdout",
     "output_type": "stream",
     "text": [
      "Количество пропусков в таблице:  0\n",
      "Количество полных дубликатов строк в таблице:  0\n"
     ]
    }
   ],
   "source": [
    "display(user_source.head())\n",
    "display(user_source.info())\n",
    "display(user_source.describe())\n",
    "print('Количество пропусков в таблице: ', user_source.isnull().sum().sum()) \n",
    "print('Количество полных дубликатов строк в таблице: ', user_source.duplicated().sum())"
   ]
  },
  {
   "cell_type": "markdown",
   "metadata": {},
   "source": [
    "В таблице собрана информация о том, из каких источников пришли пользователи. Пропусков нет, все типы данных верные. Каждый пользователь встречается один раз. Каналов всего 4. В игру привлекли 13576 пользователей, а с этой таблицей все в порядке"
   ]
  },
  {
   "cell_type": "markdown",
   "metadata": {},
   "source": [
    "## Выводы по предобработке\n",
    "\n",
    "Данные в порядке. Изменен тип временных данных, удален один дубликат. Большая предобработка не требуется"
   ]
  },
  {
   "cell_type": "markdown",
   "metadata": {},
   "source": [
    "# Исследовательский анализ данных"
   ]
  },
  {
   "cell_type": "markdown",
   "metadata": {},
   "source": [
    "## Что влияет на целевое событие \"Игрок перешел на новый уровень\"?"
   ]
  },
  {
   "cell_type": "markdown",
   "metadata": {},
   "source": [
    "Для начала узнаем, сколько всего игроков привлекли, сколько совершили хотя бы одной действие и сколько закончили первый уровень, то есть получили событие finished_stage_1"
   ]
  },
  {
   "cell_type": "code",
   "execution_count": 11,
   "metadata": {},
   "outputs": [
    {
     "name": "stdout",
     "output_type": "stream",
     "text": [
      "Кол-во привлеченных игроков:  13576\n",
      "Кол-во игроков, зарегистрировавших хотя бы одно событие:  13576\n",
      "Кол-во игроков, закончивших первый уровень:  5817\n"
     ]
    }
   ],
   "source": [
    "print('Кол-во привлеченных игроков: ', len(user_source['user_id'].unique()))\n",
    "print('Кол-во игроков, зарегистрировавших хотя бы одно событие: ', len(game_actions['user_id'].unique()))\n",
    "print('Кол-во игроков, закончивших первый уровень: ', len(game_actions[game_actions['event']=='finished_stage_1']['user_id'].unique()))"
   ]
  },
  {
   "cell_type": "markdown",
   "metadata": {},
   "source": [
    "Каждый, кого отдел маркетинга привел в игру, совершил в ней хоть какое-то действие. Отлично! А почти 6000 игроков закончили первый уровень. Чтобы изучить влияние разных факторов на совершение целевого действия (завершение уровня), создам специальную таблицу для исследования"
   ]
  },
  {
   "cell_type": "code",
   "execution_count": 12,
   "metadata": {},
   "outputs": [
    {
     "data": {
      "text/html": [
       "<div>\n",
       "<style scoped>\n",
       "    .dataframe tbody tr th:only-of-type {\n",
       "        vertical-align: middle;\n",
       "    }\n",
       "\n",
       "    .dataframe tbody tr th {\n",
       "        vertical-align: top;\n",
       "    }\n",
       "\n",
       "    .dataframe thead th {\n",
       "        text-align: right;\n",
       "    }\n",
       "</style>\n",
       "<table border=\"1\" class=\"dataframe\">\n",
       "  <thead>\n",
       "    <tr style=\"text-align: right;\">\n",
       "      <th></th>\n",
       "      <th>user_id</th>\n",
       "      <th>source</th>\n",
       "      <th>min_dt</th>\n",
       "      <th>min_day</th>\n",
       "      <th>max_dt</th>\n",
       "      <th>max_day</th>\n",
       "      <th>is_level_finished</th>\n",
       "      <th>dt_level_finished</th>\n",
       "      <th>time_for_level</th>\n",
       "      <th>n_builded</th>\n",
       "      <th>game_style</th>\n",
       "    </tr>\n",
       "  </thead>\n",
       "  <tbody>\n",
       "    <tr>\n",
       "      <th>0</th>\n",
       "      <td>0001f83c-c6ac-4621-b7f0-8a28b283ac30</td>\n",
       "      <td>facebook_ads</td>\n",
       "      <td>2020-05-06 01:07:37</td>\n",
       "      <td>2020-05-06</td>\n",
       "      <td>2020-05-20 11:26:06</td>\n",
       "      <td>2020-05-20</td>\n",
       "      <td>False</td>\n",
       "      <td>NaT</td>\n",
       "      <td>NaN</td>\n",
       "      <td>13</td>\n",
       "      <td>not_finished</td>\n",
       "    </tr>\n",
       "    <tr>\n",
       "      <th>1</th>\n",
       "      <td>00151b4f-ba38-44a8-a650-d7cf130a0105</td>\n",
       "      <td>yandex_direct</td>\n",
       "      <td>2020-05-06 03:09:12</td>\n",
       "      <td>2020-05-06</td>\n",
       "      <td>2020-05-18 10:46:52</td>\n",
       "      <td>2020-05-18</td>\n",
       "      <td>False</td>\n",
       "      <td>NaT</td>\n",
       "      <td>NaN</td>\n",
       "      <td>9</td>\n",
       "      <td>not_finished</td>\n",
       "    </tr>\n",
       "    <tr>\n",
       "      <th>2</th>\n",
       "      <td>001aaea6-3d14-43f1-8ca8-7f48820f17aa</td>\n",
       "      <td>youtube_channel_reklama</td>\n",
       "      <td>2020-05-05 18:08:52</td>\n",
       "      <td>2020-05-05</td>\n",
       "      <td>2020-05-14 09:21:27</td>\n",
       "      <td>2020-05-14</td>\n",
       "      <td>False</td>\n",
       "      <td>NaT</td>\n",
       "      <td>NaN</td>\n",
       "      <td>4</td>\n",
       "      <td>not_finished</td>\n",
       "    </tr>\n",
       "    <tr>\n",
       "      <th>3</th>\n",
       "      <td>001d39dc-366c-4021-9604-6a3b9ff01e25</td>\n",
       "      <td>instagram_new_adverts</td>\n",
       "      <td>2020-05-05 21:02:05</td>\n",
       "      <td>2020-05-05</td>\n",
       "      <td>2020-05-12 07:40:47</td>\n",
       "      <td>2020-05-12</td>\n",
       "      <td>True</td>\n",
       "      <td>2020-05-12 07:40:47</td>\n",
       "      <td>9278.0</td>\n",
       "      <td>8</td>\n",
       "      <td>varrior</td>\n",
       "    </tr>\n",
       "    <tr>\n",
       "      <th>4</th>\n",
       "      <td>002f508f-67b6-479f-814b-b05f00d4e995</td>\n",
       "      <td>facebook_ads</td>\n",
       "      <td>2020-05-05 13:49:58</td>\n",
       "      <td>2020-05-05</td>\n",
       "      <td>2020-05-22 02:46:45</td>\n",
       "      <td>2020-05-22</td>\n",
       "      <td>False</td>\n",
       "      <td>NaT</td>\n",
       "      <td>NaN</td>\n",
       "      <td>12</td>\n",
       "      <td>not_finished</td>\n",
       "    </tr>\n",
       "    <tr>\n",
       "      <th>...</th>\n",
       "      <td>...</td>\n",
       "      <td>...</td>\n",
       "      <td>...</td>\n",
       "      <td>...</td>\n",
       "      <td>...</td>\n",
       "      <td>...</td>\n",
       "      <td>...</td>\n",
       "      <td>...</td>\n",
       "      <td>...</td>\n",
       "      <td>...</td>\n",
       "      <td>...</td>\n",
       "    </tr>\n",
       "    <tr>\n",
       "      <th>13571</th>\n",
       "      <td>ffef4fed-164c-40e1-bde1-3980f76d0fb5</td>\n",
       "      <td>instagram_new_adverts</td>\n",
       "      <td>2020-05-04 01:58:59</td>\n",
       "      <td>2020-05-04</td>\n",
       "      <td>2020-05-11 22:15:54</td>\n",
       "      <td>2020-05-11</td>\n",
       "      <td>True</td>\n",
       "      <td>2020-05-11 22:15:54</td>\n",
       "      <td>11296.0</td>\n",
       "      <td>9</td>\n",
       "      <td>varrior</td>\n",
       "    </tr>\n",
       "    <tr>\n",
       "      <th>13572</th>\n",
       "      <td>fffab3da-da0e-4e30-ae62-10d0a2e24a4e</td>\n",
       "      <td>facebook_ads</td>\n",
       "      <td>2020-05-04 11:58:14</td>\n",
       "      <td>2020-05-04</td>\n",
       "      <td>2020-05-14 10:11:36</td>\n",
       "      <td>2020-05-14</td>\n",
       "      <td>False</td>\n",
       "      <td>NaT</td>\n",
       "      <td>NaN</td>\n",
       "      <td>16</td>\n",
       "      <td>not_finished</td>\n",
       "    </tr>\n",
       "    <tr>\n",
       "      <th>13573</th>\n",
       "      <td>fffb626c-5ab6-47c9-8113-2062a2f18494</td>\n",
       "      <td>yandex_direct</td>\n",
       "      <td>2020-05-04 02:05:09</td>\n",
       "      <td>2020-05-04</td>\n",
       "      <td>2020-05-12 13:01:52</td>\n",
       "      <td>2020-05-12</td>\n",
       "      <td>True</td>\n",
       "      <td>2020-05-12 13:01:52</td>\n",
       "      <td>12176.0</td>\n",
       "      <td>9</td>\n",
       "      <td>varrior</td>\n",
       "    </tr>\n",
       "    <tr>\n",
       "      <th>13574</th>\n",
       "      <td>ffff194a-56b7-4c12-860d-3485242ae7f5</td>\n",
       "      <td>instagram_new_adverts</td>\n",
       "      <td>2020-05-04 20:28:28</td>\n",
       "      <td>2020-05-04</td>\n",
       "      <td>2020-05-11 22:04:30</td>\n",
       "      <td>2020-05-11</td>\n",
       "      <td>False</td>\n",
       "      <td>NaT</td>\n",
       "      <td>NaN</td>\n",
       "      <td>7</td>\n",
       "      <td>not_finished</td>\n",
       "    </tr>\n",
       "    <tr>\n",
       "      <th>13575</th>\n",
       "      <td>ffff69cc-fec1-4fd3-9f98-93be1112a6b8</td>\n",
       "      <td>facebook_ads</td>\n",
       "      <td>2020-05-08 06:57:30</td>\n",
       "      <td>2020-05-08</td>\n",
       "      <td>2020-05-25 14:05:51</td>\n",
       "      <td>2020-05-25</td>\n",
       "      <td>True</td>\n",
       "      <td>2020-05-25 14:05:51</td>\n",
       "      <td>24908.0</td>\n",
       "      <td>12</td>\n",
       "      <td>builder</td>\n",
       "    </tr>\n",
       "  </tbody>\n",
       "</table>\n",
       "<p>13576 rows × 11 columns</p>\n",
       "</div>"
      ],
      "text/plain": [
       "                                    user_id                   source  \\\n",
       "0      0001f83c-c6ac-4621-b7f0-8a28b283ac30             facebook_ads   \n",
       "1      00151b4f-ba38-44a8-a650-d7cf130a0105            yandex_direct   \n",
       "2      001aaea6-3d14-43f1-8ca8-7f48820f17aa  youtube_channel_reklama   \n",
       "3      001d39dc-366c-4021-9604-6a3b9ff01e25    instagram_new_adverts   \n",
       "4      002f508f-67b6-479f-814b-b05f00d4e995             facebook_ads   \n",
       "...                                     ...                      ...   \n",
       "13571  ffef4fed-164c-40e1-bde1-3980f76d0fb5    instagram_new_adverts   \n",
       "13572  fffab3da-da0e-4e30-ae62-10d0a2e24a4e             facebook_ads   \n",
       "13573  fffb626c-5ab6-47c9-8113-2062a2f18494            yandex_direct   \n",
       "13574  ffff194a-56b7-4c12-860d-3485242ae7f5    instagram_new_adverts   \n",
       "13575  ffff69cc-fec1-4fd3-9f98-93be1112a6b8             facebook_ads   \n",
       "\n",
       "                   min_dt    min_day              max_dt    max_day  \\\n",
       "0     2020-05-06 01:07:37 2020-05-06 2020-05-20 11:26:06 2020-05-20   \n",
       "1     2020-05-06 03:09:12 2020-05-06 2020-05-18 10:46:52 2020-05-18   \n",
       "2     2020-05-05 18:08:52 2020-05-05 2020-05-14 09:21:27 2020-05-14   \n",
       "3     2020-05-05 21:02:05 2020-05-05 2020-05-12 07:40:47 2020-05-12   \n",
       "4     2020-05-05 13:49:58 2020-05-05 2020-05-22 02:46:45 2020-05-22   \n",
       "...                   ...        ...                 ...        ...   \n",
       "13571 2020-05-04 01:58:59 2020-05-04 2020-05-11 22:15:54 2020-05-11   \n",
       "13572 2020-05-04 11:58:14 2020-05-04 2020-05-14 10:11:36 2020-05-14   \n",
       "13573 2020-05-04 02:05:09 2020-05-04 2020-05-12 13:01:52 2020-05-12   \n",
       "13574 2020-05-04 20:28:28 2020-05-04 2020-05-11 22:04:30 2020-05-11   \n",
       "13575 2020-05-08 06:57:30 2020-05-08 2020-05-25 14:05:51 2020-05-25   \n",
       "\n",
       "       is_level_finished   dt_level_finished  time_for_level  n_builded  \\\n",
       "0                  False                 NaT             NaN         13   \n",
       "1                  False                 NaT             NaN          9   \n",
       "2                  False                 NaT             NaN          4   \n",
       "3                   True 2020-05-12 07:40:47          9278.0          8   \n",
       "4                  False                 NaT             NaN         12   \n",
       "...                  ...                 ...             ...        ...   \n",
       "13571               True 2020-05-11 22:15:54         11296.0          9   \n",
       "13572              False                 NaT             NaN         16   \n",
       "13573               True 2020-05-12 13:01:52         12176.0          9   \n",
       "13574              False                 NaT             NaN          7   \n",
       "13575               True 2020-05-25 14:05:51         24908.0         12   \n",
       "\n",
       "         game_style  \n",
       "0      not_finished  \n",
       "1      not_finished  \n",
       "2      not_finished  \n",
       "3           varrior  \n",
       "4      not_finished  \n",
       "...             ...  \n",
       "13571       varrior  \n",
       "13572  not_finished  \n",
       "13573       varrior  \n",
       "13574  not_finished  \n",
       "13575       builder  \n",
       "\n",
       "[13576 rows x 11 columns]"
      ]
     },
     "execution_count": 12,
     "metadata": {},
     "output_type": "execute_result"
    }
   ],
   "source": [
    "# в качестве базовой буду использовать таблицу user_source, в ней есть все пользователи и их источник\n",
    "data_explore_1 = user_source\n",
    "\n",
    "# к таблице добавлю время первого и последнего взаимодействия пользователя с игрой\n",
    "data_explore_1 = data_explore_1.merge(\n",
    "    right=(game_actions.groupby('user_id').agg({'event_datetime': 'min'})),\n",
    "    on='user_id'\n",
    ")\n",
    "data_explore_1.rename(columns={'event_datetime': 'min_dt'}, inplace=True)\n",
    "data_explore_1['min_day'] = data_explore_1['min_dt'].dt.normalize()\n",
    "\n",
    "data_explore_1 = data_explore_1.merge(\n",
    "    right=(game_actions.groupby('user_id').agg({'event_datetime': 'max'})),\n",
    "    on='user_id'\n",
    ")\n",
    "data_explore_1.rename(columns={'event_datetime': 'max_dt'}, inplace=True)\n",
    "data_explore_1['max_day'] = data_explore_1['max_dt'].dt.normalize()\n",
    "\n",
    "# к таблице добавлю информацию о завершении уровня\n",
    "finished_list = game_actions.query('event == \"finished_stage_1\"')['user_id'].unique()\n",
    "data_explore_1['is_level_finished'] = data_explore_1['user_id'].apply(lambda x: True if x in finished_list else False)\n",
    "\n",
    "# к таблице добавляю информацию об отметке времени завершения уровня\n",
    "# оказалось, что она совпадает с max_dt для тех, кто закончил уровень\n",
    "data_explore_1 = pd.merge(data_explore_1,\n",
    "                          (game_actions.query('event == \"finished_stage_1\"')[['user_id', 'event_datetime']]),\n",
    "                          on='user_id', how='left')\n",
    "\n",
    "data_explore_1.rename(columns={'event_datetime': 'dt_level_finished'}, inplace=True)\n",
    "\n",
    "# к таблице добавляю инормацию о кол-ве времени для завершения уровня\n",
    "data_explore_1['time_for_level'] = data_explore_1['dt_level_finished'] - data_explore_1['min_dt']\n",
    "data_explore_1['time_for_level'] = data_explore_1['time_for_level'].astype('timedelta64[m]')\n",
    "\n",
    "# к таблице присоединяю кол-во построек\n",
    "data_explore_1 = data_explore_1.merge(\n",
    "    right=(game_actions.groupby('user_id').agg({'building_type': 'count'})),\n",
    "    on='user_id'\n",
    ")\n",
    "data_explore_1.rename(columns={'building_type': 'n_builded'}, inplace=True)\n",
    "\n",
    "# к таблице добавлю информацию о типе игрока. Если он закончил уровень через\n",
    "# событие project в поле event - то он строитель, если нет - воин. Если нет ни в одном списке - не закончил уровень\n",
    "builders_id_list = game_actions.query('event == \"project\"')['user_id'].unique()\n",
    "varriors_id_list = game_actions.query('event == \"finished_stage_1\" and user_id not in @builders_id_list')['user_id'].unique()\n",
    "data_explore_1['game_style'] = data_explore_1['user_id'].apply(lambda x: 'builder' if x in builders_id_list else ('varrior' if x in varriors_id_list else 'not_finished'))\n",
    "\n",
    "data_explore_1"
   ]
  },
  {
   "cell_type": "markdown",
   "metadata": {},
   "source": [
    "### Связь перехода на новый уровень и даты привлечения пользователя\n",
    "\n",
    "Для этого группирую таблицу по датам первого взаимодействия с игрой и считаю долю завершивших уровень. Для визуализации буду использовать столбчатую диаграмму"
   ]
  },
  {
   "cell_type": "code",
   "execution_count": 13,
   "metadata": {},
   "outputs": [
    {
     "data": {
      "text/html": [
       "<div>\n",
       "<style scoped>\n",
       "    .dataframe tbody tr th:only-of-type {\n",
       "        vertical-align: middle;\n",
       "    }\n",
       "\n",
       "    .dataframe tbody tr th {\n",
       "        vertical-align: top;\n",
       "    }\n",
       "\n",
       "    .dataframe thead tr th {\n",
       "        text-align: left;\n",
       "    }\n",
       "\n",
       "    .dataframe thead tr:last-of-type th {\n",
       "        text-align: right;\n",
       "    }\n",
       "</style>\n",
       "<table border=\"1\" class=\"dataframe\">\n",
       "  <thead>\n",
       "    <tr>\n",
       "      <th></th>\n",
       "      <th colspan=\"2\" halign=\"left\">is_level_finished</th>\n",
       "    </tr>\n",
       "    <tr>\n",
       "      <th></th>\n",
       "      <th>mean</th>\n",
       "      <th>sum</th>\n",
       "    </tr>\n",
       "    <tr>\n",
       "      <th>min_day</th>\n",
       "      <th></th>\n",
       "      <th></th>\n",
       "    </tr>\n",
       "  </thead>\n",
       "  <tbody>\n",
       "    <tr>\n",
       "      <th>2020-05-04</th>\n",
       "      <td>0.455631</td>\n",
       "      <td>2670</td>\n",
       "    </tr>\n",
       "    <tr>\n",
       "      <th>2020-05-05</th>\n",
       "      <td>0.450164</td>\n",
       "      <td>1513</td>\n",
       "    </tr>\n",
       "    <tr>\n",
       "      <th>2020-05-06</th>\n",
       "      <td>0.417434</td>\n",
       "      <td>771</td>\n",
       "    </tr>\n",
       "    <tr>\n",
       "      <th>2020-05-07</th>\n",
       "      <td>0.371506</td>\n",
       "      <td>412</td>\n",
       "    </tr>\n",
       "    <tr>\n",
       "      <th>2020-05-08</th>\n",
       "      <td>0.341570</td>\n",
       "      <td>235</td>\n",
       "    </tr>\n",
       "    <tr>\n",
       "      <th>2020-05-09</th>\n",
       "      <td>0.304545</td>\n",
       "      <td>134</td>\n",
       "    </tr>\n",
       "    <tr>\n",
       "      <th>2020-05-10</th>\n",
       "      <td>0.302583</td>\n",
       "      <td>82</td>\n",
       "    </tr>\n",
       "  </tbody>\n",
       "</table>\n",
       "</div>"
      ],
      "text/plain": [
       "           is_level_finished      \n",
       "                        mean   sum\n",
       "min_day                           \n",
       "2020-05-04          0.455631  2670\n",
       "2020-05-05          0.450164  1513\n",
       "2020-05-06          0.417434   771\n",
       "2020-05-07          0.371506   412\n",
       "2020-05-08          0.341570   235\n",
       "2020-05-09          0.304545   134\n",
       "2020-05-10          0.302583    82"
      ]
     },
     "metadata": {},
     "output_type": "display_data"
    },
    {
     "data": {
      "text/plain": [
       "Text(0, 0.5, 'Доля от общего количества')"
      ]
     },
     "execution_count": 13,
     "metadata": {},
     "output_type": "execute_result"
    },
    {
     "data": {
      "image/png": "[encoded data removed]",
      "text/plain": [
       "<Figure size 432x288 with 1 Axes>"
      ]
     },
     "metadata": {
      "needs_background": "light"
     },
     "output_type": "display_data"
    }
   ],
   "source": [
    "# группировка\n",
    "temp_df = data_explore_1.groupby('min_day').agg({'is_level_finished': [np.mean, np.sum]})\n",
    "display(temp_df)\n",
    "\n",
    "# визуализация\n",
    "fig, ax = plt.subplots()\n",
    "plt.xticks(rotation=70)\n",
    "ax.bar(x=temp_df.index, height=temp_df['is_level_finished']['mean'])\n",
    "plt.bar_label(ax.containers[0], fmt='%.2f')\n",
    "ax.set_title('Доля завершивших первый уровень')\n",
    "ax.set_xlabel('Дата привлечения')\n",
    "ax.set_ylabel('Доля от общего количества')"
   ]
  },
  {
   "cell_type": "markdown",
   "metadata": {},
   "source": [
    "Новые игроки приходили в игру с 4 по 10 мая. Логи игры охватывают период до 5 июня. Столбчатая диаграмма показывает, что доля игроков, завершивших уровень, постепенно снижается с 0,46 до 0,3. Это может быть связано с тем, что логи охватывают недостаточный период для завершения уровня игроками, привлеченными в конце маркетинговых активностей, и в действительности доля завершивших уровень не зависит от дня привлечения пользователя. Исследуем это"
   ]
  },
  {
   "cell_type": "code",
   "execution_count": 14,
   "metadata": {},
   "outputs": [
    {
     "name": "stderr",
     "output_type": "stream",
     "text": [
      "/opt/conda/lib/python3.9/site-packages/IPython/core/interactiveshell.py:3441: FutureWarning: Dropping invalid columns in DataFrameGroupBy.mean is deprecated. In a future version, a TypeError will be raised. Before calling .mean, select only columns which should be valid for the function.\n",
      "  exec(code_obj, self.user_global_ns, self.user_ns)\n"
     ]
    },
    {
     "data": {
      "image/png": "[encoded data removed]",
      "text/plain": [
       "<Figure size 432x288 with 1 Axes>"
      ]
     },
     "metadata": {
      "needs_background": "light"
     },
     "output_type": "display_data"
    }
   ],
   "source": [
    "# группировка\n",
    "temp_df = data_explore_1.groupby('min_day').mean(numeric_only=False)\n",
    "\n",
    "# визуализация\n",
    "fig, ax = plt.subplots()\n",
    "plt.xticks(rotation=70)\n",
    "ax.bar(x=temp_df.index, height=temp_df['time_for_level'])\n",
    "ax.set_title('Время для завершения уровня')\n",
    "ax.set_xlabel('Дата привлечения')\n",
    "ax.set_ylabel('Кол-во времени для завершения уровня')\n",
    "def timeTicks(x, pos):                                                                                                                                                                                                                                                         \n",
    "    d = datetime.timedelta(minutes=x)                                                                                                                                                                                                                                          \n",
    "    return str(d)                                                                                                                                                                                                                                                              \n",
    "formatter = matplotlib.ticker.FuncFormatter(timeTicks)                                                                                                                                                                                                                         \n",
    "ax.yaxis.set_major_formatter(formatter)  "
   ]
  },
  {
   "cell_type": "markdown",
   "metadata": {},
   "source": [
    "В среднем прохождение уровня занимает около 11 дней. Кажется, это очень много для одного уровня в мобильной игре. Тем не менее, время незначительно меняется от даты привлечения пользователя, а логи охватывают больший период (31 день после последнего дня привлечения), чем в среднем требуется для завершения уровня. Значит можно предположить, что доля завершивших уровень в зависимости от даты привлечения все же зависит: игроки, привлеченные после 7 мая (закупка рекламы от 6 мая) проходят игру хуже, перестают играть. **Отделу маркетинга на заметку.**"
   ]
  },
  {
   "cell_type": "markdown",
   "metadata": {},
   "source": [
    "### Связь перехода на новый уровень и канала привлечения пользователя\n",
    "\n",
    "Проверяю две вещи: время на первый уровень и долю завершивших"
   ]
  },
  {
   "cell_type": "code",
   "execution_count": 15,
   "metadata": {},
   "outputs": [
    {
     "name": "stderr",
     "output_type": "stream",
     "text": [
      "/opt/conda/lib/python3.9/site-packages/IPython/core/interactiveshell.py:3441: FutureWarning: Dropping invalid columns in DataFrameGroupBy.mean is deprecated. In a future version, a TypeError will be raised. Before calling .mean, select only columns which should be valid for the function.\n",
      "  exec(code_obj, self.user_global_ns, self.user_ns)\n"
     ]
    },
    {
     "data": {
      "image/png": "[encoded data removed]",
      "text/plain": [
       "<Figure size 432x288 with 1 Axes>"
      ]
     },
     "metadata": {
      "needs_background": "light"
     },
     "output_type": "display_data"
    }
   ],
   "source": [
    "# время на уровень\n",
    "# группировка\n",
    "temp_df = data_explore_1.groupby('source').mean(numeric_only=False)\n",
    "\n",
    "# визуализация\n",
    "fig, ax = plt.subplots()\n",
    "plt.xticks(rotation=30)\n",
    "ax.bar(x=temp_df.index, height=temp_df['time_for_level'])\n",
    "ax.set_title('Время для завершения уровня')\n",
    "ax.set_xlabel('Канал привлечения')\n",
    "ax.set_ylabel('Кол-во времени для завершения уровня')\n",
    "def timeTicks(x, pos):                                                                                                                                                                                                                                                         \n",
    "    d = datetime.timedelta(minutes=x)                                                                                                                                                                                                                                          \n",
    "    return str(d)                                                                                                                                                                                                                                                              \n",
    "formatter = matplotlib.ticker.FuncFormatter(timeTicks)                                                                                                                                                                                                                         \n",
    "ax.yaxis.set_major_formatter(formatter)  "
   ]
  },
  {
   "cell_type": "markdown",
   "metadata": {},
   "source": [
    "Отлично, среднее время не зависит от канала привлечения и сохранилось около 11 дней"
   ]
  },
  {
   "cell_type": "code",
   "execution_count": 16,
   "metadata": {},
   "outputs": [
    {
     "data": {
      "text/html": [
       "<div>\n",
       "<style scoped>\n",
       "    .dataframe tbody tr th:only-of-type {\n",
       "        vertical-align: middle;\n",
       "    }\n",
       "\n",
       "    .dataframe tbody tr th {\n",
       "        vertical-align: top;\n",
       "    }\n",
       "\n",
       "    .dataframe thead tr th {\n",
       "        text-align: left;\n",
       "    }\n",
       "\n",
       "    .dataframe thead tr:last-of-type th {\n",
       "        text-align: right;\n",
       "    }\n",
       "</style>\n",
       "<table border=\"1\" class=\"dataframe\">\n",
       "  <thead>\n",
       "    <tr>\n",
       "      <th></th>\n",
       "      <th colspan=\"2\" halign=\"left\">is_level_finished</th>\n",
       "    </tr>\n",
       "    <tr>\n",
       "      <th></th>\n",
       "      <th>mean</th>\n",
       "      <th>sum</th>\n",
       "    </tr>\n",
       "    <tr>\n",
       "      <th>source</th>\n",
       "      <th></th>\n",
       "      <th></th>\n",
       "    </tr>\n",
       "  </thead>\n",
       "  <tbody>\n",
       "    <tr>\n",
       "      <th>facebook_ads</th>\n",
       "      <td>0.421864</td>\n",
       "      <td>1150</td>\n",
       "    </tr>\n",
       "    <tr>\n",
       "      <th>instagram_new_adverts</th>\n",
       "      <td>0.438004</td>\n",
       "      <td>1466</td>\n",
       "    </tr>\n",
       "    <tr>\n",
       "      <th>yandex_direct</th>\n",
       "      <td>0.423915</td>\n",
       "      <td>2042</td>\n",
       "    </tr>\n",
       "    <tr>\n",
       "      <th>youtube_channel_reklama</th>\n",
       "      <td>0.431497</td>\n",
       "      <td>1159</td>\n",
       "    </tr>\n",
       "  </tbody>\n",
       "</table>\n",
       "</div>"
      ],
      "text/plain": [
       "                        is_level_finished      \n",
       "                                     mean   sum\n",
       "source                                         \n",
       "facebook_ads                     0.421864  1150\n",
       "instagram_new_adverts            0.438004  1466\n",
       "yandex_direct                    0.423915  2042\n",
       "youtube_channel_reklama          0.431497  1159"
      ]
     },
     "metadata": {},
     "output_type": "display_data"
    },
    {
     "data": {
      "text/plain": [
       "Text(0, 0.5, 'Доля от общего количества')"
      ]
     },
     "execution_count": 16,
     "metadata": {},
     "output_type": "execute_result"
    },
    {
     "data": {
      "image/png": "[encoded data removed]",
      "text/plain": [
       "<Figure size 432x288 with 1 Axes>"
      ]
     },
     "metadata": {
      "needs_background": "light"
     },
     "output_type": "display_data"
    }
   ],
   "source": [
    "# доля закончивших уровень\n",
    "# группировка\n",
    "temp_df = data_explore_1.groupby('source').agg({'is_level_finished': [np.mean, np.sum]})\n",
    "display(temp_df)\n",
    "\n",
    "# визуализация\n",
    "fig, ax = plt.subplots()\n",
    "plt.xticks(rotation=30)\n",
    "ax.bar(x=temp_df.index, height=temp_df['is_level_finished']['mean'])\n",
    "plt.bar_label(ax.containers[0], fmt='%.2f')\n",
    "ax.set_title('Доля завершивших первый уровень')\n",
    "ax.set_xlabel('Канал привлечения')\n",
    "ax.set_ylabel('Доля от общего количества')"
   ]
  },
  {
   "cell_type": "markdown",
   "metadata": {},
   "source": [
    "Доля завершивших уровень от канала привлечения не зависит."
   ]
  },
  {
   "cell_type": "markdown",
   "metadata": {},
   "source": [
    "### Связь перехода на новый уровень и количества построенных объектов\n",
    "\n",
    "Тут, скорее смотрим на соотношение среднего кол-ва построек у закончивших уровень и не закончивших"
   ]
  },
  {
   "cell_type": "code",
   "execution_count": 17,
   "metadata": {},
   "outputs": [
    {
     "data": {
      "text/html": [
       "<div>\n",
       "<style scoped>\n",
       "    .dataframe tbody tr th:only-of-type {\n",
       "        vertical-align: middle;\n",
       "    }\n",
       "\n",
       "    .dataframe tbody tr th {\n",
       "        vertical-align: top;\n",
       "    }\n",
       "\n",
       "    .dataframe thead th {\n",
       "        text-align: right;\n",
       "    }\n",
       "</style>\n",
       "<table border=\"1\" class=\"dataframe\">\n",
       "  <thead>\n",
       "    <tr style=\"text-align: right;\">\n",
       "      <th></th>\n",
       "      <th>is_level_finished</th>\n",
       "      <th>n_builded</th>\n",
       "    </tr>\n",
       "  </thead>\n",
       "  <tbody>\n",
       "    <tr>\n",
       "      <th>0</th>\n",
       "      <td>False</td>\n",
       "      <td>8.657043</td>\n",
       "    </tr>\n",
       "    <tr>\n",
       "      <th>1</th>\n",
       "      <td>True</td>\n",
       "      <td>10.449716</td>\n",
       "    </tr>\n",
       "  </tbody>\n",
       "</table>\n",
       "</div>"
      ],
      "text/plain": [
       "   is_level_finished  n_builded\n",
       "0              False   8.657043\n",
       "1               True  10.449716"
      ]
     },
     "metadata": {},
     "output_type": "display_data"
    },
    {
     "data": {
      "text/plain": [
       "Text(0, 0.5, 'Среднее количество построек')"
      ]
     },
     "execution_count": 17,
     "metadata": {},
     "output_type": "execute_result"
    },
    {
     "data": {
      "image/png": "[encoded data removed]",
      "text/plain": [
       "<Figure size 432x288 with 1 Axes>"
      ]
     },
     "metadata": {
      "needs_background": "light"
     },
     "output_type": "display_data"
    }
   ],
   "source": [
    "# группирую\n",
    "temp_df = data_explore_1.groupby('is_level_finished', as_index=False).agg({'n_builded': 'mean'})\n",
    "display(temp_df)\n",
    "\n",
    "# визуализирую\n",
    "fig, ax = plt.subplots()\n",
    "ax.bar(x=temp_df['is_level_finished'], height=temp_df['n_builded'])\n",
    "plt.bar_label(ax.containers[0], fmt='%.2f')\n",
    "plt.xticks([1.0, 0.0], [\"True\",\n",
    "                        \"False\"])\n",
    "ax.set_title('Среднее количество построек по критерию завершение уровня')\n",
    "ax.set_xlabel('Завершение уровня')\n",
    "ax.set_ylabel('Среднее количество построек')"
   ]
  },
  {
   "cell_type": "markdown",
   "metadata": {},
   "source": [
    "Интересно: кол-во строений незначительно отличается между игроками (если округлять), которые закончили или не закончили уровень. Вероятно, это связано с разными способами закончить уровень. По кол-ву построек нельзя однозначно сказать о достижении целевого параметра."
   ]
  },
  {
   "cell_type": "markdown",
   "metadata": {},
   "source": [
    "### Связь перехода на новый уровень и типов построенных объектов\n",
    "\n",
    "для ответа на этот вопрос я использую столбчатую диаграмму по типам строений, их количеству и отметке о завершении уровня. Для этого буду работать с таблией games_actions и добавлю к ней столбец о завершении уровня"
   ]
  },
  {
   "cell_type": "markdown",
   "metadata": {},
   "source": [
    "Комментарий студента: apply с lambda мне очень понравились по компактности и простоте, но уж очень небыстрый метод. Может есть что-то оптимальнее?"
   ]
  },
  {
   "cell_type": "code",
   "execution_count": 18,
   "metadata": {},
   "outputs": [
    {
     "data": {
      "text/html": [
       "<div>\n",
       "<style scoped>\n",
       "    .dataframe tbody tr th:only-of-type {\n",
       "        vertical-align: middle;\n",
       "    }\n",
       "\n",
       "    .dataframe tbody tr th {\n",
       "        vertical-align: top;\n",
       "    }\n",
       "\n",
       "    .dataframe thead th {\n",
       "        text-align: right;\n",
       "    }\n",
       "</style>\n",
       "<table border=\"1\" class=\"dataframe\">\n",
       "  <thead>\n",
       "    <tr style=\"text-align: right;\">\n",
       "      <th></th>\n",
       "      <th>building_type</th>\n",
       "      <th>is_level_finished</th>\n",
       "      <th>user_id</th>\n",
       "      <th>event</th>\n",
       "      <th>mean_buildings</th>\n",
       "    </tr>\n",
       "  </thead>\n",
       "  <tbody>\n",
       "    <tr>\n",
       "      <th>0</th>\n",
       "      <td>assembly_shop</td>\n",
       "      <td>False</td>\n",
       "      <td>7759</td>\n",
       "      <td>29080</td>\n",
       "      <td>3.747906</td>\n",
       "    </tr>\n",
       "    <tr>\n",
       "      <th>1</th>\n",
       "      <td>assembly_shop</td>\n",
       "      <td>True</td>\n",
       "      <td>5817</td>\n",
       "      <td>25414</td>\n",
       "      <td>4.368919</td>\n",
       "    </tr>\n",
       "    <tr>\n",
       "      <th>2</th>\n",
       "      <td>research_center</td>\n",
       "      <td>False</td>\n",
       "      <td>3463</td>\n",
       "      <td>6685</td>\n",
       "      <td>1.930407</td>\n",
       "    </tr>\n",
       "    <tr>\n",
       "      <th>3</th>\n",
       "      <td>research_center</td>\n",
       "      <td>True</td>\n",
       "      <td>4208</td>\n",
       "      <td>7452</td>\n",
       "      <td>1.770913</td>\n",
       "    </tr>\n",
       "    <tr>\n",
       "      <th>4</th>\n",
       "      <td>spaceport</td>\n",
       "      <td>False</td>\n",
       "      <td>7471</td>\n",
       "      <td>31405</td>\n",
       "      <td>4.203587</td>\n",
       "    </tr>\n",
       "    <tr>\n",
       "      <th>5</th>\n",
       "      <td>spaceport</td>\n",
       "      <td>True</td>\n",
       "      <td>5760</td>\n",
       "      <td>27920</td>\n",
       "      <td>4.847222</td>\n",
       "    </tr>\n",
       "  </tbody>\n",
       "</table>\n",
       "</div>"
      ],
      "text/plain": [
       "     building_type  is_level_finished  user_id  event  mean_buildings\n",
       "0    assembly_shop              False     7759  29080        3.747906\n",
       "1    assembly_shop               True     5817  25414        4.368919\n",
       "2  research_center              False     3463   6685        1.930407\n",
       "3  research_center               True     4208   7452        1.770913\n",
       "4        spaceport              False     7471  31405        4.203587\n",
       "5        spaceport               True     5760  27920        4.847222"
      ]
     },
     "metadata": {},
     "output_type": "display_data"
    },
    {
     "data": {
      "text/plain": [
       "Text(0, 0.5, 'Кол-во объектов на игрока')"
      ]
     },
     "execution_count": 18,
     "metadata": {},
     "output_type": "execute_result"
    },
    {
     "data": {
      "image/png": "[encoded data removed]",
      "text/plain": [
       "<Figure size 432x288 with 1 Axes>"
      ]
     },
     "metadata": {
      "needs_background": "light"
     },
     "output_type": "display_data"
    }
   ],
   "source": [
    "# к таблице добавлю информацию о завершении уровня и группирую в новую таблицу\n",
    "finished_list = game_actions.query('event == \"finished_stage_1\"')['user_id'].unique()\n",
    "temp_df = game_actions\n",
    "temp_df['is_level_finished'] = temp_df['user_id'].apply(lambda x: True if x in finished_list else False)\n",
    "\n",
    "temp_df_2 = temp_df.groupby(['building_type', 'is_level_finished'], as_index=False).agg({'user_id': 'nunique', 'event': 'count'})\n",
    "temp_df_2['mean_buildings'] = temp_df_2['event'] / temp_df_2['user_id']\n",
    "display(temp_df_2)\n",
    "\n",
    "# визуализирую\n",
    "ax = sns.barplot(data=temp_df_2, x='building_type', y='mean_buildings', hue='is_level_finished')\n",
    "ax.set_title('Среднее кол-во построенных объектов')\n",
    "ax.set_xlabel('Тип объекта')\n",
    "ax.set_ylabel('Кол-во объектов на игрока')\n"
   ]
  },
  {
   "cell_type": "markdown",
   "metadata": {},
   "source": [
    "Больше всего строят объектов spaceport, затем assembly_shop и меньше всего - research_center. Нам неизвестна точная механика игры (НАДО БЫ УЗНАТЬ) и нельзя сказать, как постройка объектов влияет на реализацию проекта по разработке орбитальной сборки спутников. Если сравнивать кол-во построек по прохождению уровня, то игроки, завершившие уровень, чаще строили assembly_shop и spaceport, реже - research_center. Но отличия небольшие, чтобы сказать, что они определяют завершение уровня. Может быть, люди, не завершившие уровень еще не построили эти объекты."
   ]
  },
  {
   "cell_type": "markdown",
   "metadata": {},
   "source": [
    "### Связь перехода на новый уровень и тип игры - строитель или воин\n",
    "\n",
    "Уровень можно закончить двумя способами - одолев другого игрока в битве или реализовать проект. Рассматривать долю перехода на новый уровень нет смысла - все перейдут на него. Можно посмотреть на время завершения первого уровня и среднее кол-во построек, которое пришлось построить"
   ]
  },
  {
   "cell_type": "code",
   "execution_count": 19,
   "metadata": {},
   "outputs": [
    {
     "name": "stderr",
     "output_type": "stream",
     "text": [
      "/opt/conda/lib/python3.9/site-packages/IPython/core/interactiveshell.py:3441: FutureWarning: Dropping invalid columns in DataFrameGroupBy.mean is deprecated. In a future version, a TypeError will be raised. Before calling .mean, select only columns which should be valid for the function.\n",
      "  exec(code_obj, self.user_global_ns, self.user_ns)\n"
     ]
    },
    {
     "data": {
      "text/html": [
       "<div>\n",
       "<style scoped>\n",
       "    .dataframe tbody tr th:only-of-type {\n",
       "        vertical-align: middle;\n",
       "    }\n",
       "\n",
       "    .dataframe tbody tr th {\n",
       "        vertical-align: top;\n",
       "    }\n",
       "\n",
       "    .dataframe thead th {\n",
       "        text-align: right;\n",
       "    }\n",
       "</style>\n",
       "<table border=\"1\" class=\"dataframe\">\n",
       "  <thead>\n",
       "    <tr style=\"text-align: right;\">\n",
       "      <th></th>\n",
       "      <th>min_dt</th>\n",
       "      <th>min_day</th>\n",
       "      <th>max_dt</th>\n",
       "      <th>max_day</th>\n",
       "      <th>is_level_finished</th>\n",
       "      <th>dt_level_finished</th>\n",
       "      <th>time_for_level</th>\n",
       "      <th>n_builded</th>\n",
       "    </tr>\n",
       "    <tr>\n",
       "      <th>game_style</th>\n",
       "      <th></th>\n",
       "      <th></th>\n",
       "      <th></th>\n",
       "      <th></th>\n",
       "      <th></th>\n",
       "      <th></th>\n",
       "      <th></th>\n",
       "      <th></th>\n",
       "    </tr>\n",
       "  </thead>\n",
       "  <tbody>\n",
       "    <tr>\n",
       "      <th>builder</th>\n",
       "      <td>2020-05-05 09:10:51.357984768</td>\n",
       "      <td>2020-05-04 22:33:34.147909888</td>\n",
       "      <td>2020-05-18 20:11:40.493033472</td>\n",
       "      <td>2020-05-18 08:04:37.813505024</td>\n",
       "      <td>1.0</td>\n",
       "      <td>2020-05-18 20:11:40.493033472</td>\n",
       "      <td>19380.327974</td>\n",
       "      <td>12.647910</td>\n",
       "    </tr>\n",
       "    <tr>\n",
       "      <th>varrior</th>\n",
       "      <td>2020-05-05 15:00:48.526955008</td>\n",
       "      <td>2020-05-05 04:10:45.102505728</td>\n",
       "      <td>2020-05-16 17:31:12.603138560</td>\n",
       "      <td>2020-05-16 05:34:56.583143424</td>\n",
       "      <td>1.0</td>\n",
       "      <td>2020-05-16 17:31:12.603138560</td>\n",
       "      <td>15989.915211</td>\n",
       "      <td>9.411541</td>\n",
       "    </tr>\n",
       "    <tr>\n",
       "      <th>not_finished</th>\n",
       "      <td>2020-05-05 19:49:55.019847936</td>\n",
       "      <td>2020-05-05 08:41:08.359324672</td>\n",
       "      <td>2020-05-15 14:44:53.275293184</td>\n",
       "      <td>2020-05-15 02:35:42.647248384</td>\n",
       "      <td>0.0</td>\n",
       "      <td>NaT</td>\n",
       "      <td>NaN</td>\n",
       "      <td>8.657043</td>\n",
       "    </tr>\n",
       "  </tbody>\n",
       "</table>\n",
       "</div>"
      ],
      "text/plain": [
       "                                    min_dt                       min_day  \\\n",
       "game_style                                                                 \n",
       "builder      2020-05-05 09:10:51.357984768 2020-05-04 22:33:34.147909888   \n",
       "varrior      2020-05-05 15:00:48.526955008 2020-05-05 04:10:45.102505728   \n",
       "not_finished 2020-05-05 19:49:55.019847936 2020-05-05 08:41:08.359324672   \n",
       "\n",
       "                                    max_dt                       max_day  \\\n",
       "game_style                                                                 \n",
       "builder      2020-05-18 20:11:40.493033472 2020-05-18 08:04:37.813505024   \n",
       "varrior      2020-05-16 17:31:12.603138560 2020-05-16 05:34:56.583143424   \n",
       "not_finished 2020-05-15 14:44:53.275293184 2020-05-15 02:35:42.647248384   \n",
       "\n",
       "              is_level_finished             dt_level_finished  time_for_level  \\\n",
       "game_style                                                                      \n",
       "builder                     1.0 2020-05-18 20:11:40.493033472    19380.327974   \n",
       "varrior                     1.0 2020-05-16 17:31:12.603138560    15989.915211   \n",
       "not_finished                0.0                           NaT             NaN   \n",
       "\n",
       "              n_builded  \n",
       "game_style               \n",
       "builder       12.647910  \n",
       "varrior        9.411541  \n",
       "not_finished   8.657043  "
      ]
     },
     "metadata": {},
     "output_type": "display_data"
    },
    {
     "data": {
      "image/png": "[encoded data removed]",
      "text/plain": [
       "<Figure size 432x288 with 1 Axes>"
      ]
     },
     "metadata": {
      "needs_background": "light"
     },
     "output_type": "display_data"
    }
   ],
   "source": [
    "# среднее время на завершение уровня строителями и воинами\n",
    "# группировка\n",
    "temp_df = data_explore_1.groupby('game_style').mean(numeric_only=False).sort_values('time_for_level', ascending=False)\n",
    "display(temp_df)\n",
    "\n",
    "# визуализация\n",
    "fig, ax = plt.subplots()\n",
    "ax.bar(x=temp_df.index, height=temp_df['time_for_level'])\n",
    "ax.set_title('Время для завершения уровня')\n",
    "ax.set_xlabel('Тип игрока')\n",
    "ax.set_ylabel('Кол-во времени для завершения уровня')\n",
    "def timeTicks(x, pos):                                                                                                                                                                                                                                                         \n",
    "    d = datetime.timedelta(minutes=x)                                                                                                                                                                                                                                          \n",
    "    return str(d)                                                                                                                                                                                                                                                              \n",
    "formatter = matplotlib.ticker.FuncFormatter(timeTicks)                                                                                                                                                                                                                         \n",
    "ax.yaxis.set_major_formatter(formatter)  \n"
   ]
  },
  {
   "cell_type": "markdown",
   "metadata": {},
   "source": [
    "Заметны отличия: pvp игроки завершают уровень в среднем за 11 дней, а строителям нужно почти 14. Воющие игроки добираются до целевого действия быстрее"
   ]
  },
  {
   "cell_type": "code",
   "execution_count": 20,
   "metadata": {},
   "outputs": [
    {
     "data": {
      "text/html": [
       "<div>\n",
       "<style scoped>\n",
       "    .dataframe tbody tr th:only-of-type {\n",
       "        vertical-align: middle;\n",
       "    }\n",
       "\n",
       "    .dataframe tbody tr th {\n",
       "        vertical-align: top;\n",
       "    }\n",
       "\n",
       "    .dataframe thead th {\n",
       "        text-align: right;\n",
       "    }\n",
       "</style>\n",
       "<table border=\"1\" class=\"dataframe\">\n",
       "  <thead>\n",
       "    <tr style=\"text-align: right;\">\n",
       "      <th></th>\n",
       "      <th>game_style</th>\n",
       "      <th>n_builded</th>\n",
       "    </tr>\n",
       "  </thead>\n",
       "  <tbody>\n",
       "    <tr>\n",
       "      <th>0</th>\n",
       "      <td>builder</td>\n",
       "      <td>12.647910</td>\n",
       "    </tr>\n",
       "    <tr>\n",
       "      <th>1</th>\n",
       "      <td>not_finished</td>\n",
       "      <td>8.657043</td>\n",
       "    </tr>\n",
       "    <tr>\n",
       "      <th>2</th>\n",
       "      <td>varrior</td>\n",
       "      <td>9.411541</td>\n",
       "    </tr>\n",
       "  </tbody>\n",
       "</table>\n",
       "</div>"
      ],
      "text/plain": [
       "     game_style  n_builded\n",
       "0       builder  12.647910\n",
       "1  not_finished   8.657043\n",
       "2       varrior   9.411541"
      ]
     },
     "metadata": {},
     "output_type": "display_data"
    },
    {
     "data": {
      "text/plain": [
       "Text(0, 0.5, 'Среднее количество построек')"
      ]
     },
     "execution_count": 20,
     "metadata": {},
     "output_type": "execute_result"
    },
    {
     "data": {
      "image/png": "[encoded data removed]",
      "text/plain": [
       "<Figure size 432x288 with 1 Axes>"
      ]
     },
     "metadata": {
      "needs_background": "light"
     },
     "output_type": "display_data"
    }
   ],
   "source": [
    "# среднее кол-во зданий строителей и воинов\n",
    "# группирую\n",
    "temp_df = data_explore_1.groupby('game_style', as_index=False).agg({'n_builded': 'mean'})\n",
    "display(temp_df)\n",
    "\n",
    "# визуализирую\n",
    "fig, ax = plt.subplots()\n",
    "ax.bar(x=temp_df['game_style'], height=temp_df['n_builded'])\n",
    "plt.bar_label(ax.containers[0], fmt='%.2f')\n",
    "ax.set_title('Среднее количество построек по стилю игры')\n",
    "ax.set_xlabel('Стиль игры пользователя')\n",
    "ax.set_ylabel('Среднее количество построек')"
   ]
  },
  {
   "cell_type": "markdown",
   "metadata": {},
   "source": [
    "Воины и нефинишировшие строят почти одинаковое количество строений - около 9. Но воины - больше (9,4 против 8,6). Видимо, таким количеством построек нужно обладать, чтобы победить другого игрока. Строители располагают большим количеством построек - около 13 на человека. Нелегко завершить проект!"
   ]
  },
  {
   "cell_type": "markdown",
   "metadata": {},
   "source": [
    "## Выводы по факторам, влияющим на целевое событие\n",
    "\n",
    "Напомню, что целевым событием в исследовании является завершение первого уровня. Выше исследовались различные факторы, связанные с достижением целевого события. В результате определено:\n",
    "1. В среднем прохождение уровня занимает 11 дней и это много для мобильной игры (личный опыт). Доля игроков, завершивших уровень - 0,42 от всех.\n",
    "2. Дата привлечения не влияет на время прохождения уровня, а вот на долю закончивших - да. Нужно обратить внимание отдела маркетинга на то, что игроки, привлеченные после 7 мая (закупка рекламы от 6 мая) проходят игру хуже, перестают играть.\n",
    "3. Время прохождения уровня и доля победителей не зависит от канала привлечения\n",
    "4. Среднее количество построек на игрока незначительно отличается у завершивших и еще играющих\n",
    "5. То же самое с типом - разница между средним количеством построек разных типов незначительна.\n",
    "6. Воины заканчивают уровень быстрее (11 дней) и имеют меньше построек (9,4), чем строители (почти 14 дней и 12,6 построек)."
   ]
  },
  {
   "cell_type": "markdown",
   "metadata": {},
   "source": [
    "# Какое событие выбрать для показа рекламы?\n",
    "\n",
    "Разработчики игры решили, что будут зарабатывать на показе рекламы пользователям при выборе типа постройки здания (результат - лог о постройке здания). Расчет ведется из того, что каждый показ будет приносить 0.07 у.е. (задается в разделе загрузке библиотек и хард-переменных). Цель данного анализа - определить, в каких случаях будет показываться реклама. Требования:\n",
    "* реклама должна окупать привлечение пользователей за их первый уровень\n",
    "* количество рекламы должно быть минимальным\n",
    "* показ рекламы не должен зависить от источника пользователя и как либо дискриминировать его *(в том числе по стилю игры)*\n",
    "\n",
    "**Размышления**\n",
    "* Не можем показывать рекламу только тем, кто прошел уровень - мы не знаем кто это будут и выделить по средним не получается\n",
    "* Не можем показывать рекламу только активным, так можно отбить желание играть у перспективного пользователя\n",
    "* Не можем показывать рекламу только пассивным, так они отвалятся еще быстрее\n",
    "* Можно показывать рекламу спустя какое-то фиксированное или адаптивное (не в этом исследовании) время для того, чтобы пользователь успел влиться в игру, а мы - заработать на нем\n",
    "* Можно показывать рекламу только на определенные постройки\n",
    "* Можно показывать рекламу на n-ную постройку каждого типа\n",
    "* Можно показывать рекламу по завершению уровня\n",
    "* Можно показывать рекламу по завершению проекта\n",
    "* Можно показывать рекламу случайным пользователям во время случайных построек, общее кол-во зависит от размеров когорты\n",
    "\n",
    "**План**\n",
    "1. расчет затрат на привлечение пользователей по когортам, стоимость привлечения одного пользователя\n",
    "2. количество событий в датасете в разбивке по когортам\n",
    "3. проверка различных моделей из расчета 0.07 у.е. за показ\n",
    "4. выбор событий для показа рекламы"
   ]
  },
  {
   "cell_type": "markdown",
   "metadata": {},
   "source": [
    "## Во сколько обходится привлечение пользователей\n",
    "\n",
    "Сколько потратили на привлечение в каждый день?\n",
    "Сколько стоит один пользователь каждой когорты\n",
    "Сколько стоит в среднем пользователь пользователь в исследовании?\n",
    "\n",
    "В этом исследовании я не изучаю разбивку по каналам, так как мы не занимаемся маркетинговыми затратами и не дифференцируем пользователей по каналам привлечения. Так же на этапе подготовки данных к датам закупки рекламы прибавили один день, так как оплата идет авансом и игроки приходят на следующий день"
   ]
  },
  {
   "cell_type": "code",
   "execution_count": 21,
   "metadata": {},
   "outputs": [
    {
     "data": {
      "text/html": [
       "<div>\n",
       "<style scoped>\n",
       "    .dataframe tbody tr th:only-of-type {\n",
       "        vertical-align: middle;\n",
       "    }\n",
       "\n",
       "    .dataframe tbody tr th {\n",
       "        vertical-align: top;\n",
       "    }\n",
       "\n",
       "    .dataframe thead th {\n",
       "        text-align: right;\n",
       "    }\n",
       "</style>\n",
       "<table border=\"1\" class=\"dataframe\">\n",
       "  <thead>\n",
       "    <tr style=\"text-align: right;\">\n",
       "      <th></th>\n",
       "      <th>day</th>\n",
       "      <th>cost</th>\n",
       "      <th>n_users</th>\n",
       "      <th>cost_of_user</th>\n",
       "    </tr>\n",
       "  </thead>\n",
       "  <tbody>\n",
       "    <tr>\n",
       "      <th>0</th>\n",
       "      <td>2020-05-04</td>\n",
       "      <td>3302.451840</td>\n",
       "      <td>5860</td>\n",
       "      <td>0.563558</td>\n",
       "    </tr>\n",
       "    <tr>\n",
       "      <th>1</th>\n",
       "      <td>2020-05-05</td>\n",
       "      <td>1865.004649</td>\n",
       "      <td>3361</td>\n",
       "      <td>0.554896</td>\n",
       "    </tr>\n",
       "    <tr>\n",
       "      <th>2</th>\n",
       "      <td>2020-05-06</td>\n",
       "      <td>1029.431469</td>\n",
       "      <td>1847</td>\n",
       "      <td>0.557353</td>\n",
       "    </tr>\n",
       "    <tr>\n",
       "      <th>3</th>\n",
       "      <td>2020-05-07</td>\n",
       "      <td>620.476519</td>\n",
       "      <td>1109</td>\n",
       "      <td>0.559492</td>\n",
       "    </tr>\n",
       "    <tr>\n",
       "      <th>4</th>\n",
       "      <td>2020-05-08</td>\n",
       "      <td>391.852033</td>\n",
       "      <td>688</td>\n",
       "      <td>0.569552</td>\n",
       "    </tr>\n",
       "    <tr>\n",
       "      <th>5</th>\n",
       "      <td>2020-05-09</td>\n",
       "      <td>242.767553</td>\n",
       "      <td>440</td>\n",
       "      <td>0.551744</td>\n",
       "    </tr>\n",
       "    <tr>\n",
       "      <th>6</th>\n",
       "      <td>2020-05-10</td>\n",
       "      <td>151.592924</td>\n",
       "      <td>271</td>\n",
       "      <td>0.559383</td>\n",
       "    </tr>\n",
       "  </tbody>\n",
       "</table>\n",
       "</div>"
      ],
      "text/plain": [
       "         day         cost  n_users  cost_of_user\n",
       "0 2020-05-04  3302.451840     5860      0.563558\n",
       "1 2020-05-05  1865.004649     3361      0.554896\n",
       "2 2020-05-06  1029.431469     1847      0.557353\n",
       "3 2020-05-07   620.476519     1109      0.559492\n",
       "4 2020-05-08   391.852033      688      0.569552\n",
       "5 2020-05-09   242.767553      440      0.551744\n",
       "6 2020-05-10   151.592924      271      0.559383"
      ]
     },
     "execution_count": 21,
     "metadata": {},
     "output_type": "execute_result"
    }
   ],
   "source": [
    "# создаю таблицу для второй части EDA\n",
    "# группирую затраты по дате в новой таблицу\n",
    "data_explore_2 = ad_costs.groupby('day', as_index=False).agg({'cost': 'sum'})\n",
    "\n",
    "# нормализую формат времени, чтобы присоединить кол-во пользователей\n",
    "data_explore_2['day'] = data_explore_2['day'].dt.normalize()\n",
    "# присоединяю кол-во пользователей по первому дню\n",
    "data_explore_2 = data_explore_2.merge(\n",
    "                                        right=(data_explore_1.groupby('min_day', as_index=False).agg({'user_id': 'nunique'})),\n",
    "                                        how='left',\n",
    "                                        left_on='day', \n",
    "                                        right_on='min_day'\n",
    ")\n",
    "data_explore_2.rename(columns={'user_id': 'n_users'}, inplace=True)\n",
    "data_explore_2.drop(columns=['min_day'], inplace=True)\n",
    "\n",
    "\n",
    "# рассчитываю среднюю стоимость пользователя по дню привлечения\n",
    "data_explore_2['cost_of_user'] = data_explore_2['cost'] / data_explore_2['n_users']\n",
    "\n",
    "data_explore_2"
   ]
  },
  {
   "cell_type": "code",
   "execution_count": 22,
   "metadata": {},
   "outputs": [
    {
     "data": {
      "text/plain": [
       "Text(0, 0.5, 'Сумма расходов, у.е.')"
      ]
     },
     "execution_count": 22,
     "metadata": {},
     "output_type": "execute_result"
    },
    {
     "data": {
      "image/png": "[encoded data removed]",
      "text/plain": [
       "<Figure size 432x288 with 1 Axes>"
      ]
     },
     "metadata": {
      "needs_background": "light"
     },
     "output_type": "display_data"
    },
    {
     "data": {
      "image/png": "[encoded data removed]",
      "text/plain": [
       "<Figure size 432x288 with 1 Axes>"
      ]
     },
     "metadata": {
      "needs_background": "light"
     },
     "output_type": "display_data"
    }
   ],
   "source": [
    "# Сколько потратили на привлечение в каждый день?\n",
    "# визуализация\n",
    "fig, ax = plt.subplots()\n",
    "plt.xticks(rotation=70)\n",
    "ax.bar(x=data_explore_2['day'], height=data_explore_2['cost'])\n",
    "plt.bar_label(ax.containers[0], fmt='%.2f')\n",
    "ax.set_title('Расходы на привлечение по дням')\n",
    "ax.set_xlabel('Дата привлечения')\n",
    "ax.set_ylabel('Сумма расходов, у.е.')\n",
    "\n",
    "# Сколько стоит один пользователь каждой когорты\n",
    "# визуализация\n",
    "fig, ax = plt.subplots()\n",
    "plt.xticks(rotation=70)\n",
    "ax.bar(x=data_explore_2['day'], height=data_explore_2['cost_of_user'])\n",
    "plt.bar_label(ax.containers[0], fmt='%.2f')\n",
    "ax.set_title('Стоимость одного пользователя по дням')\n",
    "ax.set_xlabel('Дата привлечения')\n",
    "ax.set_ylabel('Сумма расходов, у.е.')"
   ]
  },
  {
   "cell_type": "markdown",
   "metadata": {},
   "source": [
    "Расходы распределены неравномерно: основаная часть пришлась на первый день, каждый следующий сумма снижалась вдое. Стоимость пользователя между когортами не меняется, это хорошо. Жаль только, что они начинают меньше проходить уровень."
   ]
  },
  {
   "cell_type": "code",
   "execution_count": 23,
   "metadata": {},
   "outputs": [
    {
     "name": "stdout",
     "output_type": "stream",
     "text": [
      "Средняя стоимость пользователя в исследовании:  0.56\n",
      "Минимальное количество показов рекламы на пользователя: 9 при стоимости показа 0.07\n",
      "Минимальное количество показов рекламы: 108623 при стоимости показа 0.07\n"
     ]
    }
   ],
   "source": [
    "# Сколько стоит в среднем пользователь пользователь в исследовании?\n",
    "mean_user_price = data_explore_2['cost'].sum() / data_explore_2['n_users'].sum()\n",
    "print('Средняя стоимость пользователя в исследовании: ', round(mean_user_price, 3))\n",
    "\n",
    "# Какое минимальное количество рекламы придеться на одного пользователя, чтобы окупить всю рекламу\n",
    "print(f'Минимальное количество показов рекламы на пользователя: {math.ceil(mean_user_price/inner_ad_price)} при стоимости показа {inner_ad_price}')\n",
    "\n",
    "# Какое минимальное кол-во объявлений придеться показать, чтобы окупить затраты\n",
    "print(f'Минимальное количество показов рекламы: {math.ceil(data_explore_2[\"cost\"].sum()/inner_ad_price)} при стоимости показа {inner_ad_price}')"
   ]
  },
  {
   "cell_type": "markdown",
   "metadata": {},
   "source": [
    "Определили минимальное количество рекламы, которое нужно показать, чтобы окупились затраты на привлечение пользователей. Число объявлений меньше, чем количество залогированных событий (135640), так что окупить точно можно (реклама будет везде)."
   ]
  },
  {
   "cell_type": "markdown",
   "metadata": {},
   "source": [
    "## Количество событий в датасете в разбивке по когортам\n",
    "\n",
    "Добавлю информацию о минимальном количестве объявлений для окупаемости когорты и о количестве разных событий, перед которыми можно показывать рекламу"
   ]
  },
  {
   "cell_type": "code",
   "execution_count": 24,
   "metadata": {},
   "outputs": [],
   "source": [
    "# предварительный шаг - присоединю к таблице game_actions поле min_day из таблицы data_explore_1\n",
    "game_actions = game_actions.merge(\n",
    "                                right=data_explore_1[['user_id', 'min_day']],\n",
    "                                how='left',\n",
    "                                on='user_id'                     \n",
    ")"
   ]
  },
  {
   "cell_type": "code",
   "execution_count": 25,
   "metadata": {},
   "outputs": [
    {
     "data": {
      "text/html": [
       "<div>\n",
       "<style scoped>\n",
       "    .dataframe tbody tr th:only-of-type {\n",
       "        vertical-align: middle;\n",
       "    }\n",
       "\n",
       "    .dataframe tbody tr th {\n",
       "        vertical-align: top;\n",
       "    }\n",
       "\n",
       "    .dataframe thead th {\n",
       "        text-align: right;\n",
       "    }\n",
       "</style>\n",
       "<table border=\"1\" class=\"dataframe\">\n",
       "  <thead>\n",
       "    <tr style=\"text-align: right;\">\n",
       "      <th></th>\n",
       "      <th>day</th>\n",
       "      <th>n_min_ad</th>\n",
       "      <th>n_level_finished</th>\n",
       "    </tr>\n",
       "  </thead>\n",
       "  <tbody>\n",
       "    <tr>\n",
       "      <th>0</th>\n",
       "      <td>2020-05-04</td>\n",
       "      <td>47178</td>\n",
       "      <td>2670</td>\n",
       "    </tr>\n",
       "    <tr>\n",
       "      <th>1</th>\n",
       "      <td>2020-05-05</td>\n",
       "      <td>26643</td>\n",
       "      <td>1513</td>\n",
       "    </tr>\n",
       "    <tr>\n",
       "      <th>2</th>\n",
       "      <td>2020-05-06</td>\n",
       "      <td>14707</td>\n",
       "      <td>771</td>\n",
       "    </tr>\n",
       "    <tr>\n",
       "      <th>3</th>\n",
       "      <td>2020-05-07</td>\n",
       "      <td>8864</td>\n",
       "      <td>412</td>\n",
       "    </tr>\n",
       "    <tr>\n",
       "      <th>4</th>\n",
       "      <td>2020-05-08</td>\n",
       "      <td>5598</td>\n",
       "      <td>235</td>\n",
       "    </tr>\n",
       "    <tr>\n",
       "      <th>5</th>\n",
       "      <td>2020-05-09</td>\n",
       "      <td>3469</td>\n",
       "      <td>134</td>\n",
       "    </tr>\n",
       "    <tr>\n",
       "      <th>6</th>\n",
       "      <td>2020-05-10</td>\n",
       "      <td>2166</td>\n",
       "      <td>82</td>\n",
       "    </tr>\n",
       "  </tbody>\n",
       "</table>\n",
       "</div>"
      ],
      "text/plain": [
       "         day  n_min_ad  n_level_finished\n",
       "0 2020-05-04     47178              2670\n",
       "1 2020-05-05     26643              1513\n",
       "2 2020-05-06     14707               771\n",
       "3 2020-05-07      8864               412\n",
       "4 2020-05-08      5598               235\n",
       "5 2020-05-09      3469               134\n",
       "6 2020-05-10      2166                82"
      ]
     },
     "execution_count": 25,
     "metadata": {},
     "output_type": "execute_result"
    }
   ],
   "source": [
    "# добавляю колонку с минимальным количеством объявлений\n",
    "data_explore_2['n_min_ad'] = np.ceil(data_explore_2['cost'] / inner_ad_price).astype(int)\n",
    "\n",
    "# добавлю к data_explore_2 колонку с количеством завершивших уровень\n",
    "data_explore_2 = data_explore_2.merge(\n",
    "                                        right=(game_actions.query('event == \"finished_stage_1\"').groupby('min_day', as_index=False).agg({'user_id': 'nunique'})),\n",
    "                                        how='left',\n",
    "                                        left_on='day',\n",
    "                                        right_on='min_day'                                     \n",
    ")\n",
    "data_explore_2.rename(columns={'user_id': 'n_level_finished'}, inplace=True)\n",
    "data_explore_2.drop(columns=['min_day'], inplace=True)\n",
    "data_explore_2[['day', 'n_min_ad', 'n_level_finished']]\n"
   ]
  },
  {
   "cell_type": "markdown",
   "metadata": {},
   "source": [
    "Все числа минимум на порядок выше. Если показывать рекламу только по завершении уровня, привлечение игроков не окупится. А ведь есть и другие расходы..."
   ]
  },
  {
   "cell_type": "code",
   "execution_count": 26,
   "metadata": {},
   "outputs": [
    {
     "data": {
      "text/html": [
       "<div>\n",
       "<style scoped>\n",
       "    .dataframe tbody tr th:only-of-type {\n",
       "        vertical-align: middle;\n",
       "    }\n",
       "\n",
       "    .dataframe tbody tr th {\n",
       "        vertical-align: top;\n",
       "    }\n",
       "\n",
       "    .dataframe thead th {\n",
       "        text-align: right;\n",
       "    }\n",
       "</style>\n",
       "<table border=\"1\" class=\"dataframe\">\n",
       "  <thead>\n",
       "    <tr style=\"text-align: right;\">\n",
       "      <th></th>\n",
       "      <th>day</th>\n",
       "      <th>n_min_ad</th>\n",
       "      <th>n_project_finished</th>\n",
       "    </tr>\n",
       "  </thead>\n",
       "  <tbody>\n",
       "    <tr>\n",
       "      <th>0</th>\n",
       "      <td>2020-05-04</td>\n",
       "      <td>47178</td>\n",
       "      <td>921</td>\n",
       "    </tr>\n",
       "    <tr>\n",
       "      <th>1</th>\n",
       "      <td>2020-05-05</td>\n",
       "      <td>26643</td>\n",
       "      <td>496</td>\n",
       "    </tr>\n",
       "    <tr>\n",
       "      <th>2</th>\n",
       "      <td>2020-05-06</td>\n",
       "      <td>14707</td>\n",
       "      <td>242</td>\n",
       "    </tr>\n",
       "    <tr>\n",
       "      <th>3</th>\n",
       "      <td>2020-05-07</td>\n",
       "      <td>8864</td>\n",
       "      <td>113</td>\n",
       "    </tr>\n",
       "    <tr>\n",
       "      <th>4</th>\n",
       "      <td>2020-05-08</td>\n",
       "      <td>5598</td>\n",
       "      <td>47</td>\n",
       "    </tr>\n",
       "    <tr>\n",
       "      <th>5</th>\n",
       "      <td>2020-05-09</td>\n",
       "      <td>3469</td>\n",
       "      <td>35</td>\n",
       "    </tr>\n",
       "    <tr>\n",
       "      <th>6</th>\n",
       "      <td>2020-05-10</td>\n",
       "      <td>2166</td>\n",
       "      <td>12</td>\n",
       "    </tr>\n",
       "  </tbody>\n",
       "</table>\n",
       "</div>"
      ],
      "text/plain": [
       "         day  n_min_ad  n_project_finished\n",
       "0 2020-05-04     47178                 921\n",
       "1 2020-05-05     26643                 496\n",
       "2 2020-05-06     14707                 242\n",
       "3 2020-05-07      8864                 113\n",
       "4 2020-05-08      5598                  47\n",
       "5 2020-05-09      3469                  35\n",
       "6 2020-05-10      2166                  12"
      ]
     },
     "execution_count": 26,
     "metadata": {},
     "output_type": "execute_result"
    }
   ],
   "source": [
    "# добавлю к data_explore_2 колонку с количеством завершивших проект\n",
    "data_explore_2 = data_explore_2.merge(\n",
    "                                        right=(game_actions.query('event == \"project\"').groupby('min_day', as_index=False).agg({'user_id': 'count'})),\n",
    "                                        how='left',\n",
    "                                        left_on='day',\n",
    "                                        right_on='min_day'                                     \n",
    ")\n",
    "data_explore_2.rename(columns={'user_id': 'n_project_finished'}, inplace=True)\n",
    "data_explore_2.drop(columns=['min_day'], inplace=True)\n",
    "data_explore_2[['day', 'n_min_ad', 'n_project_finished']]"
   ]
  },
  {
   "cell_type": "markdown",
   "metadata": {},
   "source": [
    "Реклама после проектов тоже не окупит привлечение пользователей. Их даже меньше, потому что часть игроков воюет"
   ]
  },
  {
   "cell_type": "code",
   "execution_count": 27,
   "metadata": {},
   "outputs": [
    {
     "data": {
      "text/html": [
       "<div>\n",
       "<style scoped>\n",
       "    .dataframe tbody tr th:only-of-type {\n",
       "        vertical-align: middle;\n",
       "    }\n",
       "\n",
       "    .dataframe tbody tr th {\n",
       "        vertical-align: top;\n",
       "    }\n",
       "\n",
       "    .dataframe thead th {\n",
       "        text-align: right;\n",
       "    }\n",
       "</style>\n",
       "<table border=\"1\" class=\"dataframe\">\n",
       "  <thead>\n",
       "    <tr style=\"text-align: right;\">\n",
       "      <th></th>\n",
       "      <th>day</th>\n",
       "      <th>n_min_ad</th>\n",
       "      <th>n_buildings_finished</th>\n",
       "      <th>n_assembly_shops_finished</th>\n",
       "      <th>n_spaceports_finished</th>\n",
       "      <th>n_research_centers_finished</th>\n",
       "    </tr>\n",
       "  </thead>\n",
       "  <tbody>\n",
       "    <tr>\n",
       "      <th>0</th>\n",
       "      <td>2020-05-04</td>\n",
       "      <td>47178</td>\n",
       "      <td>60635</td>\n",
       "      <td>28029</td>\n",
       "      <td>25758</td>\n",
       "      <td>6848</td>\n",
       "    </tr>\n",
       "    <tr>\n",
       "      <th>1</th>\n",
       "      <td>2020-05-05</td>\n",
       "      <td>26643</td>\n",
       "      <td>32747</td>\n",
       "      <td>14400</td>\n",
       "      <td>14587</td>\n",
       "      <td>3760</td>\n",
       "    </tr>\n",
       "    <tr>\n",
       "      <th>2</th>\n",
       "      <td>2020-05-06</td>\n",
       "      <td>14707</td>\n",
       "      <td>16386</td>\n",
       "      <td>6621</td>\n",
       "      <td>7994</td>\n",
       "      <td>1771</td>\n",
       "    </tr>\n",
       "    <tr>\n",
       "      <th>3</th>\n",
       "      <td>2020-05-07</td>\n",
       "      <td>8864</td>\n",
       "      <td>8904</td>\n",
       "      <td>3085</td>\n",
       "      <td>4866</td>\n",
       "      <td>953</td>\n",
       "    </tr>\n",
       "    <tr>\n",
       "      <th>4</th>\n",
       "      <td>2020-05-08</td>\n",
       "      <td>5598</td>\n",
       "      <td>4839</td>\n",
       "      <td>1401</td>\n",
       "      <td>3004</td>\n",
       "      <td>434</td>\n",
       "    </tr>\n",
       "    <tr>\n",
       "      <th>5</th>\n",
       "      <td>2020-05-09</td>\n",
       "      <td>3469</td>\n",
       "      <td>2856</td>\n",
       "      <td>656</td>\n",
       "      <td>1947</td>\n",
       "      <td>253</td>\n",
       "    </tr>\n",
       "    <tr>\n",
       "      <th>6</th>\n",
       "      <td>2020-05-10</td>\n",
       "      <td>2166</td>\n",
       "      <td>1589</td>\n",
       "      <td>302</td>\n",
       "      <td>1169</td>\n",
       "      <td>118</td>\n",
       "    </tr>\n",
       "  </tbody>\n",
       "</table>\n",
       "</div>"
      ],
      "text/plain": [
       "         day  n_min_ad  n_buildings_finished  n_assembly_shops_finished  \\\n",
       "0 2020-05-04     47178                 60635                      28029   \n",
       "1 2020-05-05     26643                 32747                      14400   \n",
       "2 2020-05-06     14707                 16386                       6621   \n",
       "3 2020-05-07      8864                  8904                       3085   \n",
       "4 2020-05-08      5598                  4839                       1401   \n",
       "5 2020-05-09      3469                  2856                        656   \n",
       "6 2020-05-10      2166                  1589                        302   \n",
       "\n",
       "   n_spaceports_finished  n_research_centers_finished  \n",
       "0                  25758                         6848  \n",
       "1                  14587                         3760  \n",
       "2                   7994                         1771  \n",
       "3                   4866                          953  \n",
       "4                   3004                          434  \n",
       "5                   1947                          253  \n",
       "6                   1169                          118  "
      ]
     },
     "execution_count": 27,
     "metadata": {},
     "output_type": "execute_result"
    }
   ],
   "source": [
    "# добавлю к data_explore_2 колонку с количеством построенных зданий, a также зданий разных типов\n",
    "data_explore_2 = data_explore_2.merge(\n",
    "                                        right=(game_actions.query('event == \"building\"').groupby('min_day', as_index=False).agg({'user_id': 'count'})),\n",
    "                                        how='left',\n",
    "                                        left_on='day',\n",
    "                                        right_on='min_day'                                     \n",
    ")\n",
    "data_explore_2.rename(columns={'user_id': 'n_buildings_finished'}, inplace=True)\n",
    "data_explore_2.drop(columns=['min_day'], inplace=True)\n",
    "\n",
    "# цеха\n",
    "data_explore_2 = data_explore_2.merge(\n",
    "                                        right=(game_actions.query('building_type == \"assembly_shop\"').groupby('min_day', as_index=False).agg({'user_id': 'count'})),\n",
    "                                        how='left',\n",
    "                                        left_on='day',\n",
    "                                        right_on='min_day'                                     \n",
    ")\n",
    "data_explore_2.rename(columns={'user_id': 'n_assembly_shops_finished'}, inplace=True)\n",
    "data_explore_2.drop(columns=['min_day'], inplace=True)\n",
    "\n",
    "# космопорты\n",
    "data_explore_2 = data_explore_2.merge(\n",
    "                                        right=(game_actions.query('building_type == \"spaceport\"').groupby('min_day', as_index=False).agg({'user_id': 'count'})),\n",
    "                                        how='left',\n",
    "                                        left_on='day',\n",
    "                                        right_on='min_day'                                     \n",
    ")\n",
    "data_explore_2.rename(columns={'user_id': 'n_spaceports_finished'}, inplace=True)\n",
    "data_explore_2.drop(columns=['min_day'], inplace=True)\n",
    "\n",
    "# исследовательские центры\n",
    "data_explore_2 = data_explore_2.merge(\n",
    "                                        right=(game_actions.query('building_type == \"research_center\"').groupby('min_day', as_index=False).agg({'user_id': 'count'})),\n",
    "                                        how='left',\n",
    "                                        left_on='day',\n",
    "                                        right_on='min_day'                                     \n",
    ")\n",
    "data_explore_2.rename(columns={'user_id': 'n_research_centers_finished'}, inplace=True)\n",
    "data_explore_2.drop(columns=['min_day'], inplace=True)\n",
    "\n",
    "data_explore_2[['day', 'n_min_ad', 'n_buildings_finished', 'n_assembly_shops_finished', 'n_spaceports_finished', 'n_research_centers_finished']]"
   ]
  },
  {
   "cell_type": "markdown",
   "metadata": {},
   "source": [
    "Показывать рекламу на некоторых постройках не удастся, их мало. Обнаружилась проблема даже с подходом показывать рекламу на каждой постройке: как было обнаружено ранее, доля закончивших первый уровень после 7 мая падает, и это не связано с тем, что они позже начали, так как горизонт логов значительно больше, чем среднее время на прохождение уровня. Эти пользователи явно меньше играют и меньше строят, когорты после 7 мая не смогут окупить сами себя, если показывать только одну рекламу на одну постройку.\n",
    "\n",
    "Дальнейшие варианты:\n",
    "* Признать данные после 5 мая неудовлетворительными и исключить их из анализа (доля проходящих первый уровень начала стремительно падать, маркетинг начал привлекать худшую аудиторию, в таких условиях модель не построить)\n",
    "* Рассчитывать окупаемость по данным всего исследования, а не по когортам. В моем представлении каждая когорта должна окупать себя, а также они должны быть примерно одинаковыми по пользователям. В нашем случае бюджет распределен неравномерно, в последние дни приходит меньше игроков. Возможно, им не с кем играть и они отваливаются быстрее, о чем свидетельствует снизившаяся доля прохождения первого уровня.\n",
    "\n",
    "Я выбираю второй вариант."
   ]
  },
  {
   "cell_type": "markdown",
   "metadata": {},
   "source": [
    "## Модель"
   ]
  },
  {
   "cell_type": "code",
   "execution_count": 28,
   "metadata": {},
   "outputs": [
    {
     "name": "stderr",
     "output_type": "stream",
     "text": [
      "/tmp/ipykernel_48/4007637828.py:2: FutureWarning: Dropping of nuisance columns in DataFrame reductions (with 'numeric_only=None') is deprecated; in a future version this will raise TypeError.  Select only valid columns before calling the reduction.\n",
      "  data_explore_2.loc['total'] = data_explore_2.sum()\n"
     ]
    },
    {
     "data": {
      "text/plain": [
       "day                                    NaT\n",
       "cost                           7603.576987\n",
       "n_users                            13576.0\n",
       "cost_of_user                       3.91598\n",
       "n_min_ad                          108625.0\n",
       "n_level_finished                    5817.0\n",
       "n_project_finished                  1866.0\n",
       "n_buildings_finished              127956.0\n",
       "n_assembly_shops_finished          54494.0\n",
       "n_spaceports_finished              59325.0\n",
       "n_research_centers_finished        14137.0\n",
       "Name: total, dtype: object"
      ]
     },
     "execution_count": 28,
     "metadata": {},
     "output_type": "execute_result"
    }
   ],
   "source": [
    "# складываю все, что посчитали выше\n",
    "data_explore_2.loc['total'] = data_explore_2.sum()\n",
    "data_explore_2.loc['total']"
   ]
  },
  {
   "cell_type": "markdown",
   "metadata": {},
   "source": [
    "Исходя чисел выше, есть несколько простых вариантов окупить привлечение игроков: показывать рекламу во время каждой постройки, или показывать рекламу во время постройки мастерской и космопорта. Есть и третий вариант: показывать рекламу на всех постройках, но дать каждому пользователю построить одно здание без рекламы, чтобы не отпугнуть его рекламой сразу. А к второй постройке объяснить: \"Чтобы делать любимую игру еще лучше и содержать быстрые сервера, мы показываем вам рекламу во время постройки вашего здания. Мы не продаем ваши данные и ценим наших игроков\". Это будет простая и справедливая базовая модель, которую потом можно развивать: нравится наша игра и не нравится реклама при постройке здания - жди дольше или оплачивай подписку, которая даст... Проверим, сработает ли такая модель"
   ]
  },
  {
   "cell_type": "code",
   "execution_count": 29,
   "metadata": {},
   "outputs": [
    {
     "name": "stdout",
     "output_type": "stream",
     "text": [
      "Окупаемся, прибыль составила 403.02 у.е.\n"
     ]
    }
   ],
   "source": [
    "# пропускаем один показ\n",
    "# затраты\n",
    "costs = ad_costs['cost'].sum()\n",
    "\n",
    "# выручка\n",
    "income = (len(game_actions.query('event == \"building\"')) - len(user_source)) * inner_ad_price\n",
    "\n",
    "# проверка:\n",
    "if costs <= income:\n",
    "    print(f'Окупаемся, прибыль составила {round((income - costs), 2)} у.е.')\n",
    "else:\n",
    "    print(f'Не окупаемся, убыток составил {round((costs - income), 2)} у.е.')"
   ]
  },
  {
   "cell_type": "markdown",
   "metadata": {},
   "source": [
    "Окупаемся! А что будет, если пропустить два показа?"
   ]
  },
  {
   "cell_type": "code",
   "execution_count": 30,
   "metadata": {},
   "outputs": [
    {
     "name": "stdout",
     "output_type": "stream",
     "text": [
      "Не окупаемся, убыток составил 547.3 у.е.\n"
     ]
    }
   ],
   "source": [
    "# пропускаем два показа\n",
    "# затраты\n",
    "costs = ad_costs['cost'].sum()\n",
    "\n",
    "# выручка\n",
    "income = (len(game_actions.query('event == \"building\"')) - 2 * len(user_source)) * inner_ad_price\n",
    "\n",
    "# проверка:\n",
    "if costs <= income:\n",
    "    print(f'Окупаемся, прибыль составила {round((income - costs), 2)} у.е.')\n",
    "else:\n",
    "    print(f'Не окупаемся, убыток составил {round((costs - income), 2)} у.е.')"
   ]
  },
  {
   "cell_type": "markdown",
   "metadata": {},
   "source": [
    "К сожалению, уже не окупаемся."
   ]
  },
  {
   "cell_type": "markdown",
   "metadata": {},
   "source": [
    "Предложенная модель окупает привлечение пользователей, участвующих в исследовании, и приносит прибыль 403 у.е. Можно еще незначительно уменьшить количетсво рекламы за счет выделения среди пользователей особых категорий, или случайным образом распределять рекламные объявления, но это может вызвать негативную реацию пользователей. Предложенная система справедлива и является компромиссом между выдвинутыми требованиями. "
   ]
  },
  {
   "cell_type": "markdown",
   "metadata": {},
   "source": [
    "# Проверка статистических гипотез\n",
    "\n",
    "**Гипотеза 1**\n",
    "Время прохождения уровня между игроками, которые реализуют проект или побеждают игрока для перехода к следующему уровню, равно или отличается. Время прохождения уровня - дельта тайм между событием завершения уровня и первым действием. Нужно собрать две выборки: со временем прохождения каждого строителя и со временем прохождения каждого воина, а затем сравнить их, используя тест U-критерий\n",
    "Манна-Уитни, так как в данных могут быть выбросы. В таком случае:\n",
    "* Нулевая гипотеза: среднее время прохождения уровня у строителей и воинов равно\n",
    "* Альтернативная гипотеза: среднее время прохождения уровня у строителей и воинов отличается\n",
    "* Уровень значимости стандартный 0,05\n",
    "\n",
    "**Гипотеза 2**\n",
    "Время прохождения уровня всеми пользователями распределено нормально. Для проверки гипотезы буду использовать критерий Шапиро-Уилка.\n",
    "* Нулевая гипотеза: время прохождения уровня распределено нормально\n",
    "* Альтернативная гипотеза: распределение времени прохождения уровня отличается от нормального\n",
    "* Уровень значимости стандартный 0,05\n",
    "\n",
    "В обоих случаях дельтатайм будет переведен в количество часов (сейчас оно в минутах)"
   ]
  },
  {
   "cell_type": "markdown",
   "metadata": {},
   "source": [
    "## Проверка гипотезы 1"
   ]
  },
  {
   "cell_type": "code",
   "execution_count": 31,
   "metadata": {},
   "outputs": [
    {
     "name": "stdout",
     "output_type": "stream",
     "text": [
      "p-value: 0.000\n",
      "Разница во времени прохождения уровня между строителями и воинами, ч:  56.5\n"
     ]
    },
    {
     "name": "stderr",
     "output_type": "stream",
     "text": [
      "/tmp/ipykernel_48/2010780004.py:5: SettingWithCopyWarning: \n",
      "A value is trying to be set on a copy of a slice from a DataFrame.\n",
      "Try using .loc[row_indexer,col_indexer] = value instead\n",
      "\n",
      "See the caveats in the documentation: https://pandas.pydata.org/pandas-docs/stable/user_guide/indexing.html#returning-a-view-versus-a-copy\n",
      "  data_warriors['time_for_level_hours'] = (data_warriors['time_for_level'] // 60).astype(int)\n",
      "/tmp/ipykernel_48/2010780004.py:9: SettingWithCopyWarning: \n",
      "A value is trying to be set on a copy of a slice from a DataFrame.\n",
      "Try using .loc[row_indexer,col_indexer] = value instead\n",
      "\n",
      "See the caveats in the documentation: https://pandas.pydata.org/pandas-docs/stable/user_guide/indexing.html#returning-a-view-versus-a-copy\n",
      "  data_builders['time_for_level_hours'] = (data_builders['time_for_level'] // 60).astype(int)\n"
     ]
    }
   ],
   "source": [
    "# проверка гипотезы 1\n",
    "\n",
    "# формирую наборы для теста\n",
    "data_warriors = data_explore_1.query('game_style == \"varrior\"')\n",
    "data_warriors['time_for_level_hours'] = (data_warriors['time_for_level'] // 60).astype(int)\n",
    "warriors_time = data_warriors['time_for_level_hours'].to_list()\n",
    "\n",
    "data_builders = data_explore_1.query('game_style == \"builder\"')\n",
    "data_builders['time_for_level_hours'] = (data_builders['time_for_level'] // 60).astype(int)\n",
    "builders_time = data_builders['time_for_level_hours'].to_list()\n",
    "\n",
    "#  рассчитываю p-value\n",
    "print(\"p-value: {0:.3f}\".format(\n",
    "    stats.mannwhitneyu(\n",
    "        warriors_time,\n",
    "        builders_time)[1]))\n",
    "\n",
    "# рассчитываю средние\n",
    "print('Разница во времени прохождения уровня между строителями и воинами, ч: ', round((sum(builders_time)/len(builders_time) - sum(warriors_time)/len(warriors_time)), 2))"
   ]
  },
  {
   "cell_type": "markdown",
   "metadata": {},
   "source": [
    "p-value значительно меньше уровня значимости, значит нулевая гипотеза отвергается и время между разными типами игроков различается значительно. И действительно, разница около 56 часов - больше двух суток. Гипотеза опровергнута."
   ]
  },
  {
   "cell_type": "markdown",
   "metadata": {},
   "source": [
    "## Проверка гипотезы 2"
   ]
  },
  {
   "cell_type": "code",
   "execution_count": 32,
   "metadata": {},
   "outputs": [
    {
     "name": "stderr",
     "output_type": "stream",
     "text": [
      "/tmp/ipykernel_48/2119549185.py:5: SettingWithCopyWarning: \n",
      "A value is trying to be set on a copy of a slice from a DataFrame.\n",
      "Try using .loc[row_indexer,col_indexer] = value instead\n",
      "\n",
      "See the caveats in the documentation: https://pandas.pydata.org/pandas-docs/stable/user_guide/indexing.html#returning-a-view-versus-a-copy\n",
      "  data_time_for_level['time_for_level_hours'] = (data_time_for_level['time_for_level'] / 60)\n",
      "/opt/conda/lib/python3.9/site-packages/scipy/stats/_morestats.py:1800: UserWarning: p-value may not be accurate for N > 5000.\n",
      "  warnings.warn(\"p-value may not be accurate for N > 5000.\")\n"
     ]
    },
    {
     "name": "stdout",
     "output_type": "stream",
     "text": [
      "p-value: 3.076167265094915e-22\n"
     ]
    },
    {
     "data": {
      "text/plain": [
       "Text(0, 0.5, 'Кол-во пользователей')"
      ]
     },
     "execution_count": 32,
     "metadata": {},
     "output_type": "execute_result"
    },
    {
     "data": {
      "image/png": "[encoded data removed]",
      "text/plain": [
       "<Figure size 432x288 with 1 Axes>"
      ]
     },
     "metadata": {
      "needs_background": "light"
     },
     "output_type": "display_data"
    }
   ],
   "source": [
    "# проверка гипотезы 2\n",
    "\n",
    "# формирую набор для теста\n",
    "data_time_for_level = data_explore_1[data_explore_1['is_level_finished'] == True]\n",
    "data_time_for_level['time_for_level_hours'] = (data_time_for_level['time_for_level'] / 60)\n",
    "time_for_level = data_time_for_level['time_for_level_hours'].to_list()\n",
    "\n",
    "#  рассчитываю p-value\n",
    "print(\"p-value: {}\".format(\n",
    "    stats.shapiro(time_for_level)[1]))\n",
    "\n",
    "\n",
    "# визуализирую\n",
    "fig, ax = plt.subplots()\n",
    "ax.hist(time_for_level, bins=100)\n",
    "ax.set_title('Распределение времени прохождения уровня')\n",
    "ax.set_xlabel('Время прохождения, ч')\n",
    "ax.set_ylabel('Кол-во пользователей')"
   ]
  },
  {
   "cell_type": "markdown",
   "metadata": {},
   "source": [
    "p-value снова около 0, значит нулевая гипотеза отвергается и данные распределены не нормально. На гистограмме виден хвост и пики на определенных часах. Хотя визуально распределение может показаться похожим на нормальное, тест это опровергает."
   ]
  },
  {
   "cell_type": "markdown",
   "metadata": {},
   "source": [
    "## Проверка гипотезы 2 (актуальная)\n",
    "\n",
    "**Гипотеза 2**\n",
    "Рабочая гипотеза: количество построек не зависит от стиля игры, а значит строители и воины будут видеть одинаковое количество рекламы. Для проверки гипотезы буду использовать U-критерий\n",
    "Манна-Уитни.\n",
    "* Нулевая гипотеза H0: среднее кол-во построек у строителей и воителей равно\n",
    "* Альтернативная гипотеза H1: среднее кол-во построек у строителей и воителей различается\n",
    "* Уровень значимости стандартный 0,05"
   ]
  },
  {
   "cell_type": "code",
   "execution_count": 34,
   "metadata": {},
   "outputs": [
    {
     "name": "stdout",
     "output_type": "stream",
     "text": [
      "p-value: 0.000\n",
      "Разница по количеству построек между строителями и воинами:  3.24\n"
     ]
    }
   ],
   "source": [
    "# проверка гипотезы 2\n",
    "\n",
    "# формирую наборы для теста\n",
    "data_warriors = data_explore_1.query('game_style == \"varrior\"')\n",
    "warriors_n_builded = data_warriors['n_builded'].to_list()\n",
    "\n",
    "data_builders = data_explore_1.query('game_style == \"builder\"')\n",
    "builders_n_builded = data_builders['n_builded'].to_list()\n",
    "\n",
    "#  рассчитываю p-value\n",
    "print(\"p-value: {0:.3f}\".format(\n",
    "    stats.mannwhitneyu(\n",
    "        warriors_n_builded,\n",
    "        builders_n_builded)[1]))\n",
    "\n",
    "# рассчитываю средние\n",
    "print('Разница по количеству построек между строителями и воинами: ', round((sum(builders_n_builded)/len(builders_n_builded) - sum(warriors_n_builded)/len(warriors_n_builded)), 2))"
   ]
  },
  {
   "cell_type": "markdown",
   "metadata": {},
   "source": [
    "p-value меньше уровня значимости, нулевая гипотеза отвергается, принимается гипотеза H1 - среднее кол-во построек между строителями и воителями отличается, строители строят на 3.24 постройки больше. Они будут видеть рекламу чаще из-за своего стиля игры. Делать ли с этим что-то, нужно решать вместе."
   ]
  },
  {
   "cell_type": "markdown",
   "metadata": {},
   "source": [
    "# Общие выводы\n",
    "\n",
    "В результате работы над проектом:\n",
    "1. Исследованы факторы, сопровождающие достижение целевого события - прохождение первого уровня:\n",
    "    1. В среднем прохождение уровня занимает 11 дней, доля игроков, завершивших уровень - 0,42. Рекомендуется сопоставить длительность прохождения уровня с другими мобильными играми\n",
    "    2. С увеличением даты привлечения пользователей доля закончивших уровень снижается. Бюджет распределен неравномерно, и, возможно, новым игрокам не с кем играть. Рекомендуется проверить, что тип привлекаемых пользователей не изменился.\n",
    "    3. Время завершения уровня и доля завершивших игроков не зависит от канала привлечения. Количество построек и их типов тоже отличается незначительно.\n",
    "    4. Воины заканчивают уровень быстрее (11 дней) и имеют меньше построек (9,4), чем строители (почти 14 дней и 12,6 построек).\n",
    "2. Предложена базовая модель монетизации: Показ рекламы на экране всех построек, кроме первой для каждого игрока. С такой моделью пользователи, участвовавшие в исследовании окупаются и приносят прибыль 403.02 у.е.\n",
    "3. Проверены и опровергнуты две гипотезы, в действительности:\n",
    "    1. Время прохождения уровня игроками-воинами и игроками-строителями различается\n",
    "    2. Среднее количество построек между игроками-воинами и игроками-строителями различается\n",
    "\n",
    "Рекомендуется:\n",
    "1. Оценить среднее время прохождения уровня и сравнить его с другими играми\n",
    "2. Проверить, что параметры привлекаемых людей не изменились и снижение доли прошедших уровней связано с количетсвом игроков.\n",
    "3. Имитационно развернуть базовую модель на часть пользователей (не показывать рекламу, а просчитывать доход). При реальном внедрении модели нужно учесть возможное падение удержание пользователей."
   ]
  },
  {
   "cell_type": "markdown",
   "metadata": {},
   "source": [
    "# Материалы\n",
    "\n",
    "[Ссылка](https://drive.google.com/file/d/1KJy2YXMHvb_pCWTs41xrZ_cp_LbCd6l0/view?usp=share_link) на презентацию с выводами по исследованию\n",
    "\n",
    "[Ссылка](https://public.tableau.com/views/Book3_16801811305550/sheet2?:language=en-US&publish=yes&:display_count=n&:origin=viz_share_link) на дашборд"
   ]
  }
 ],
 "metadata": {
  "ExecuteTimeLog": [
   {
    "duration": 1138,
    "start_time": "2023-03-29T18:58:49.008Z"
   },
   {
    "duration": 507,
    "start_time": "2023-03-29T18:58:50.148Z"
   },
   {
    "duration": 44,
    "start_time": "2023-03-29T18:58:50.657Z"
   },
   {
    "duration": 6,
    "start_time": "2023-03-29T18:58:50.703Z"
   },
   {
    "duration": 359,
    "start_time": "2023-03-29T18:58:50.710Z"
   },
   {
    "duration": 66,
    "start_time": "2023-03-29T18:58:51.071Z"
   },
   {
    "duration": 79,
    "start_time": "2023-03-29T18:58:51.140Z"
   },
   {
    "duration": 94,
    "start_time": "2023-03-29T18:58:51.221Z"
   },
   {
    "duration": 54,
    "start_time": "2023-03-29T18:58:51.318Z"
   },
   {
    "duration": 34,
    "start_time": "2023-03-29T18:58:51.375Z"
   },
   {
    "duration": 3551,
    "start_time": "2023-03-29T18:58:51.411Z"
   },
   {
    "duration": 333,
    "start_time": "2023-03-29T18:58:54.964Z"
   },
   {
    "duration": 0,
    "start_time": "2023-03-29T18:58:55.299Z"
   },
   {
    "duration": 0,
    "start_time": "2023-03-29T18:58:55.300Z"
   },
   {
    "duration": 0,
    "start_time": "2023-03-29T18:58:55.301Z"
   },
   {
    "duration": 0,
    "start_time": "2023-03-29T18:58:55.302Z"
   },
   {
    "duration": 0,
    "start_time": "2023-03-29T18:58:55.303Z"
   },
   {
    "duration": 0,
    "start_time": "2023-03-29T18:58:55.304Z"
   },
   {
    "duration": 0,
    "start_time": "2023-03-29T18:58:55.305Z"
   },
   {
    "duration": 0,
    "start_time": "2023-03-29T18:58:55.307Z"
   },
   {
    "duration": 0,
    "start_time": "2023-03-29T18:58:55.308Z"
   },
   {
    "duration": 0,
    "start_time": "2023-03-29T18:58:55.309Z"
   },
   {
    "duration": 0,
    "start_time": "2023-03-29T18:58:55.310Z"
   },
   {
    "duration": 0,
    "start_time": "2023-03-29T18:58:55.311Z"
   },
   {
    "duration": 0,
    "start_time": "2023-03-29T18:58:55.312Z"
   },
   {
    "duration": 0,
    "start_time": "2023-03-29T18:58:55.313Z"
   },
   {
    "duration": 0,
    "start_time": "2023-03-29T18:58:55.314Z"
   },
   {
    "duration": 0,
    "start_time": "2023-03-29T18:58:55.315Z"
   },
   {
    "duration": 0,
    "start_time": "2023-03-29T18:58:55.316Z"
   },
   {
    "duration": 0,
    "start_time": "2023-03-29T18:58:55.318Z"
   },
   {
    "duration": 121,
    "start_time": "2023-03-29T19:04:28.944Z"
   },
   {
    "duration": 60,
    "start_time": "2023-03-29T19:04:33.906Z"
   },
   {
    "duration": 124,
    "start_time": "2023-03-29T19:04:35.398Z"
   },
   {
    "duration": 135,
    "start_time": "2023-03-29T19:04:36.898Z"
   },
   {
    "duration": 17008,
    "start_time": "2023-03-29T19:04:38.193Z"
   },
   {
    "duration": 59,
    "start_time": "2023-03-29T19:04:55.203Z"
   },
   {
    "duration": 146,
    "start_time": "2023-03-29T19:05:20.355Z"
   },
   {
    "duration": 30,
    "start_time": "2023-03-29T19:05:22.986Z"
   },
   {
    "duration": 182,
    "start_time": "2023-03-29T19:05:24.153Z"
   },
   {
    "duration": 6,
    "start_time": "2023-03-29T19:05:25.706Z"
   },
   {
    "duration": 39,
    "start_time": "2023-03-29T19:05:27.167Z"
   },
   {
    "duration": 27,
    "start_time": "2023-03-29T19:05:27.362Z"
   },
   {
    "duration": 20,
    "start_time": "2023-03-29T19:05:28.658Z"
   },
   {
    "duration": 86,
    "start_time": "2023-03-29T19:05:29.558Z"
   },
   {
    "duration": 17,
    "start_time": "2023-03-29T19:05:30.497Z"
   },
   {
    "duration": 11,
    "start_time": "2023-03-29T19:05:31.298Z"
   },
   {
    "duration": 21,
    "start_time": "2023-03-29T19:05:33.066Z"
   },
   {
    "duration": 275,
    "start_time": "2023-03-29T19:05:34.489Z"
   },
   {
    "duration": 17,
    "start_time": "2023-03-29T19:20:04.133Z"
   },
   {
    "duration": 4,
    "start_time": "2023-03-29T19:20:12.533Z"
   },
   {
    "duration": 3,
    "start_time": "2023-03-29T19:20:17.005Z"
   },
   {
    "duration": 1336,
    "start_time": "2023-03-30T07:05:13.792Z"
   },
   {
    "duration": 915,
    "start_time": "2023-03-30T07:05:15.130Z"
   },
   {
    "duration": 34,
    "start_time": "2023-03-30T07:05:16.047Z"
   },
   {
    "duration": 5,
    "start_time": "2023-03-30T07:05:16.082Z"
   },
   {
    "duration": 305,
    "start_time": "2023-03-30T07:05:16.089Z"
   },
   {
    "duration": 60,
    "start_time": "2023-03-30T07:05:16.395Z"
   },
   {
    "duration": 66,
    "start_time": "2023-03-30T07:05:16.457Z"
   },
   {
    "duration": 57,
    "start_time": "2023-03-30T07:05:16.524Z"
   },
   {
    "duration": 56,
    "start_time": "2023-03-30T07:05:16.583Z"
   },
   {
    "duration": 30,
    "start_time": "2023-03-30T07:05:16.642Z"
   },
   {
    "duration": 3138,
    "start_time": "2023-03-30T07:05:16.673Z"
   },
   {
    "duration": 316,
    "start_time": "2023-03-30T07:05:19.813Z"
   },
   {
    "duration": 0,
    "start_time": "2023-03-30T07:05:20.131Z"
   },
   {
    "duration": 0,
    "start_time": "2023-03-30T07:05:20.133Z"
   },
   {
    "duration": 0,
    "start_time": "2023-03-30T07:05:20.133Z"
   },
   {
    "duration": 0,
    "start_time": "2023-03-30T07:05:20.134Z"
   },
   {
    "duration": 0,
    "start_time": "2023-03-30T07:05:20.135Z"
   },
   {
    "duration": 0,
    "start_time": "2023-03-30T07:05:20.137Z"
   },
   {
    "duration": 0,
    "start_time": "2023-03-30T07:05:20.137Z"
   },
   {
    "duration": 0,
    "start_time": "2023-03-30T07:05:20.139Z"
   },
   {
    "duration": 0,
    "start_time": "2023-03-30T07:05:20.140Z"
   },
   {
    "duration": 0,
    "start_time": "2023-03-30T07:05:20.141Z"
   },
   {
    "duration": 0,
    "start_time": "2023-03-30T07:05:20.142Z"
   },
   {
    "duration": 0,
    "start_time": "2023-03-30T07:05:20.143Z"
   },
   {
    "duration": 0,
    "start_time": "2023-03-30T07:05:20.144Z"
   },
   {
    "duration": 0,
    "start_time": "2023-03-30T07:05:20.145Z"
   },
   {
    "duration": 0,
    "start_time": "2023-03-30T07:05:20.146Z"
   },
   {
    "duration": 0,
    "start_time": "2023-03-30T07:05:20.148Z"
   },
   {
    "duration": 0,
    "start_time": "2023-03-30T07:05:20.148Z"
   },
   {
    "duration": 0,
    "start_time": "2023-03-30T07:05:20.150Z"
   },
   {
    "duration": 2201,
    "start_time": "2023-03-30T07:07:44.775Z"
   },
   {
    "duration": 3296,
    "start_time": "2023-03-30T07:07:59.008Z"
   },
   {
    "duration": 359,
    "start_time": "2023-03-30T07:08:02.307Z"
   },
   {
    "duration": 32,
    "start_time": "2023-03-30T07:08:02.668Z"
   },
   {
    "duration": 16,
    "start_time": "2023-03-30T07:08:02.702Z"
   },
   {
    "duration": 299,
    "start_time": "2023-03-30T07:08:02.719Z"
   },
   {
    "duration": 53,
    "start_time": "2023-03-30T07:08:03.023Z"
   },
   {
    "duration": 67,
    "start_time": "2023-03-30T07:08:03.077Z"
   },
   {
    "duration": 54,
    "start_time": "2023-03-30T07:08:03.146Z"
   },
   {
    "duration": 50,
    "start_time": "2023-03-30T07:08:03.201Z"
   },
   {
    "duration": 32,
    "start_time": "2023-03-30T07:08:03.253Z"
   },
   {
    "duration": 2950,
    "start_time": "2023-03-30T07:08:03.287Z"
   },
   {
    "duration": 335,
    "start_time": "2023-03-30T07:08:06.239Z"
   },
   {
    "duration": 0,
    "start_time": "2023-03-30T07:08:06.576Z"
   },
   {
    "duration": 0,
    "start_time": "2023-03-30T07:08:06.578Z"
   },
   {
    "duration": 0,
    "start_time": "2023-03-30T07:08:06.579Z"
   },
   {
    "duration": 0,
    "start_time": "2023-03-30T07:08:06.581Z"
   },
   {
    "duration": 0,
    "start_time": "2023-03-30T07:08:06.582Z"
   },
   {
    "duration": 0,
    "start_time": "2023-03-30T07:08:06.584Z"
   },
   {
    "duration": 0,
    "start_time": "2023-03-30T07:08:06.585Z"
   },
   {
    "duration": 0,
    "start_time": "2023-03-30T07:08:06.587Z"
   },
   {
    "duration": 0,
    "start_time": "2023-03-30T07:08:06.588Z"
   },
   {
    "duration": 0,
    "start_time": "2023-03-30T07:08:06.589Z"
   },
   {
    "duration": 0,
    "start_time": "2023-03-30T07:08:06.591Z"
   },
   {
    "duration": 0,
    "start_time": "2023-03-30T07:08:06.592Z"
   },
   {
    "duration": 0,
    "start_time": "2023-03-30T07:08:06.593Z"
   },
   {
    "duration": 0,
    "start_time": "2023-03-30T07:08:06.594Z"
   },
   {
    "duration": 0,
    "start_time": "2023-03-30T07:08:06.623Z"
   },
   {
    "duration": 0,
    "start_time": "2023-03-30T07:08:06.624Z"
   },
   {
    "duration": 0,
    "start_time": "2023-03-30T07:08:06.625Z"
   },
   {
    "duration": 0,
    "start_time": "2023-03-30T07:08:06.626Z"
   },
   {
    "duration": 717,
    "start_time": "2023-03-30T07:09:51.216Z"
   },
   {
    "duration": 8653,
    "start_time": "2023-03-30T07:10:27.576Z"
   },
   {
    "duration": 4336,
    "start_time": "2023-03-30T07:10:59.320Z"
   },
   {
    "duration": 412,
    "start_time": "2023-03-30T07:11:03.659Z"
   },
   {
    "duration": 40,
    "start_time": "2023-03-30T07:11:04.072Z"
   },
   {
    "duration": 5,
    "start_time": "2023-03-30T07:11:04.114Z"
   },
   {
    "duration": 308,
    "start_time": "2023-03-30T07:11:04.120Z"
   },
   {
    "duration": 52,
    "start_time": "2023-03-30T07:11:04.430Z"
   },
   {
    "duration": 80,
    "start_time": "2023-03-30T07:11:04.484Z"
   },
   {
    "duration": 73,
    "start_time": "2023-03-30T07:11:04.565Z"
   },
   {
    "duration": 43,
    "start_time": "2023-03-30T07:11:04.640Z"
   },
   {
    "duration": 55,
    "start_time": "2023-03-30T07:11:04.686Z"
   },
   {
    "duration": 3118,
    "start_time": "2023-03-30T07:11:04.743Z"
   },
   {
    "duration": 502,
    "start_time": "2023-03-30T07:11:07.862Z"
   },
   {
    "duration": 220,
    "start_time": "2023-03-30T07:11:08.365Z"
   },
   {
    "duration": 0,
    "start_time": "2023-03-30T07:11:08.587Z"
   },
   {
    "duration": 0,
    "start_time": "2023-03-30T07:11:08.588Z"
   },
   {
    "duration": 0,
    "start_time": "2023-03-30T07:11:08.589Z"
   },
   {
    "duration": 0,
    "start_time": "2023-03-30T07:11:08.590Z"
   },
   {
    "duration": 0,
    "start_time": "2023-03-30T07:11:08.591Z"
   },
   {
    "duration": 0,
    "start_time": "2023-03-30T07:11:08.592Z"
   },
   {
    "duration": 0,
    "start_time": "2023-03-30T07:11:08.593Z"
   },
   {
    "duration": 0,
    "start_time": "2023-03-30T07:11:08.593Z"
   },
   {
    "duration": 0,
    "start_time": "2023-03-30T07:11:08.594Z"
   },
   {
    "duration": 0,
    "start_time": "2023-03-30T07:11:08.595Z"
   },
   {
    "duration": 0,
    "start_time": "2023-03-30T07:11:08.597Z"
   },
   {
    "duration": 0,
    "start_time": "2023-03-30T07:11:08.598Z"
   },
   {
    "duration": 0,
    "start_time": "2023-03-30T07:11:08.600Z"
   },
   {
    "duration": 0,
    "start_time": "2023-03-30T07:11:08.601Z"
   },
   {
    "duration": 0,
    "start_time": "2023-03-30T07:11:08.602Z"
   },
   {
    "duration": 0,
    "start_time": "2023-03-30T07:11:08.603Z"
   },
   {
    "duration": 0,
    "start_time": "2023-03-30T07:11:08.604Z"
   },
   {
    "duration": 4660,
    "start_time": "2023-03-30T07:12:53.846Z"
   },
   {
    "duration": 15428,
    "start_time": "2023-03-30T07:13:12.352Z"
   },
   {
    "duration": 367,
    "start_time": "2023-03-30T07:13:27.782Z"
   },
   {
    "duration": 40,
    "start_time": "2023-03-30T07:13:28.151Z"
   },
   {
    "duration": 5,
    "start_time": "2023-03-30T07:13:28.193Z"
   },
   {
    "duration": 323,
    "start_time": "2023-03-30T07:13:28.199Z"
   },
   {
    "duration": 0,
    "start_time": "2023-03-30T07:13:28.525Z"
   },
   {
    "duration": 0,
    "start_time": "2023-03-30T07:13:28.526Z"
   },
   {
    "duration": 0,
    "start_time": "2023-03-30T07:13:28.527Z"
   },
   {
    "duration": 0,
    "start_time": "2023-03-30T07:13:28.528Z"
   },
   {
    "duration": 0,
    "start_time": "2023-03-30T07:13:28.529Z"
   },
   {
    "duration": 0,
    "start_time": "2023-03-30T07:13:28.530Z"
   },
   {
    "duration": 0,
    "start_time": "2023-03-30T07:13:28.531Z"
   },
   {
    "duration": 0,
    "start_time": "2023-03-30T07:13:28.533Z"
   },
   {
    "duration": 0,
    "start_time": "2023-03-30T07:13:28.533Z"
   },
   {
    "duration": 0,
    "start_time": "2023-03-30T07:13:28.535Z"
   },
   {
    "duration": 0,
    "start_time": "2023-03-30T07:13:28.535Z"
   },
   {
    "duration": 0,
    "start_time": "2023-03-30T07:13:28.538Z"
   },
   {
    "duration": 0,
    "start_time": "2023-03-30T07:13:28.540Z"
   },
   {
    "duration": 0,
    "start_time": "2023-03-30T07:13:28.541Z"
   },
   {
    "duration": 0,
    "start_time": "2023-03-30T07:13:28.542Z"
   },
   {
    "duration": 0,
    "start_time": "2023-03-30T07:13:28.543Z"
   },
   {
    "duration": 0,
    "start_time": "2023-03-30T07:13:28.544Z"
   },
   {
    "duration": 0,
    "start_time": "2023-03-30T07:13:28.544Z"
   },
   {
    "duration": 0,
    "start_time": "2023-03-30T07:13:28.545Z"
   },
   {
    "duration": 0,
    "start_time": "2023-03-30T07:13:28.546Z"
   },
   {
    "duration": 0,
    "start_time": "2023-03-30T07:13:28.547Z"
   },
   {
    "duration": 0,
    "start_time": "2023-03-30T07:13:28.548Z"
   },
   {
    "duration": 0,
    "start_time": "2023-03-30T07:13:28.549Z"
   },
   {
    "duration": 0,
    "start_time": "2023-03-30T07:13:28.550Z"
   },
   {
    "duration": 0,
    "start_time": "2023-03-30T07:13:28.551Z"
   },
   {
    "duration": 13089,
    "start_time": "2023-03-30T07:18:12.253Z"
   },
   {
    "duration": 358,
    "start_time": "2023-03-30T07:18:25.345Z"
   },
   {
    "duration": 33,
    "start_time": "2023-03-30T07:18:25.705Z"
   },
   {
    "duration": 4,
    "start_time": "2023-03-30T07:18:25.740Z"
   },
   {
    "duration": 378,
    "start_time": "2023-03-30T07:18:25.747Z"
   },
   {
    "duration": 55,
    "start_time": "2023-03-30T07:18:26.126Z"
   },
   {
    "duration": 99,
    "start_time": "2023-03-30T07:18:26.182Z"
   },
   {
    "duration": 70,
    "start_time": "2023-03-30T07:18:26.283Z"
   },
   {
    "duration": 38,
    "start_time": "2023-03-30T07:18:26.355Z"
   },
   {
    "duration": 46,
    "start_time": "2023-03-30T07:18:26.395Z"
   },
   {
    "duration": 3314,
    "start_time": "2023-03-30T07:18:26.442Z"
   },
   {
    "duration": 488,
    "start_time": "2023-03-30T07:18:29.758Z"
   },
   {
    "duration": 545,
    "start_time": "2023-03-30T07:18:30.248Z"
   },
   {
    "duration": 379,
    "start_time": "2023-03-30T07:18:30.795Z"
   },
   {
    "duration": 337,
    "start_time": "2023-03-30T07:18:31.176Z"
   },
   {
    "duration": 210,
    "start_time": "2023-03-30T07:18:31.514Z"
   },
   {
    "duration": 16385,
    "start_time": "2023-03-30T07:18:31.726Z"
   },
   {
    "duration": 343,
    "start_time": "2023-03-30T07:18:48.112Z"
   },
   {
    "duration": 189,
    "start_time": "2023-03-30T07:18:48.457Z"
   },
   {
    "duration": 98,
    "start_time": "2023-03-30T07:18:48.648Z"
   },
   {
    "duration": 804,
    "start_time": "2023-03-30T07:18:48.748Z"
   },
   {
    "duration": 7,
    "start_time": "2023-03-30T07:18:49.555Z"
   },
   {
    "duration": 94,
    "start_time": "2023-03-30T07:18:49.565Z"
   },
   {
    "duration": 38,
    "start_time": "2023-03-30T07:18:49.662Z"
   },
   {
    "duration": 43,
    "start_time": "2023-03-30T07:18:49.703Z"
   },
   {
    "duration": 117,
    "start_time": "2023-03-30T07:18:49.749Z"
   },
   {
    "duration": 11,
    "start_time": "2023-03-30T07:18:49.868Z"
   },
   {
    "duration": 22,
    "start_time": "2023-03-30T07:18:49.881Z"
   },
   {
    "duration": 35,
    "start_time": "2023-03-30T07:18:49.905Z"
   },
   {
    "duration": 643,
    "start_time": "2023-03-30T07:18:49.942Z"
   },
   {
    "duration": 22959,
    "start_time": "2023-03-30T13:08:00.547Z"
   },
   {
    "duration": 915,
    "start_time": "2023-03-30T13:08:23.508Z"
   },
   {
    "duration": 44,
    "start_time": "2023-03-30T13:08:24.424Z"
   },
   {
    "duration": 5,
    "start_time": "2023-03-30T13:08:24.471Z"
   },
   {
    "duration": 298,
    "start_time": "2023-03-30T13:08:24.477Z"
   },
   {
    "duration": 0,
    "start_time": "2023-03-30T13:08:24.778Z"
   },
   {
    "duration": 0,
    "start_time": "2023-03-30T13:08:24.779Z"
   },
   {
    "duration": 0,
    "start_time": "2023-03-30T13:08:24.780Z"
   },
   {
    "duration": 0,
    "start_time": "2023-03-30T13:08:24.781Z"
   },
   {
    "duration": 0,
    "start_time": "2023-03-30T13:08:24.782Z"
   },
   {
    "duration": 0,
    "start_time": "2023-03-30T13:08:24.783Z"
   },
   {
    "duration": 0,
    "start_time": "2023-03-30T13:08:24.784Z"
   },
   {
    "duration": 0,
    "start_time": "2023-03-30T13:08:24.786Z"
   },
   {
    "duration": 0,
    "start_time": "2023-03-30T13:08:24.788Z"
   },
   {
    "duration": 0,
    "start_time": "2023-03-30T13:08:24.789Z"
   },
   {
    "duration": 0,
    "start_time": "2023-03-30T13:08:24.790Z"
   },
   {
    "duration": 0,
    "start_time": "2023-03-30T13:08:24.791Z"
   },
   {
    "duration": 0,
    "start_time": "2023-03-30T13:08:24.792Z"
   },
   {
    "duration": 0,
    "start_time": "2023-03-30T13:08:24.792Z"
   },
   {
    "duration": 0,
    "start_time": "2023-03-30T13:08:24.793Z"
   },
   {
    "duration": 0,
    "start_time": "2023-03-30T13:08:24.794Z"
   },
   {
    "duration": 0,
    "start_time": "2023-03-30T13:08:24.794Z"
   },
   {
    "duration": 0,
    "start_time": "2023-03-30T13:08:24.796Z"
   },
   {
    "duration": 0,
    "start_time": "2023-03-30T13:08:24.797Z"
   },
   {
    "duration": 0,
    "start_time": "2023-03-30T13:08:24.798Z"
   },
   {
    "duration": 0,
    "start_time": "2023-03-30T13:08:24.801Z"
   },
   {
    "duration": 0,
    "start_time": "2023-03-30T13:08:24.802Z"
   },
   {
    "duration": 0,
    "start_time": "2023-03-30T13:08:24.803Z"
   },
   {
    "duration": 0,
    "start_time": "2023-03-30T13:08:24.806Z"
   },
   {
    "duration": 0,
    "start_time": "2023-03-30T13:08:24.808Z"
   },
   {
    "duration": 0,
    "start_time": "2023-03-30T13:08:24.809Z"
   },
   {
    "duration": 4729,
    "start_time": "2023-03-30T13:09:30.980Z"
   },
   {
    "duration": 383,
    "start_time": "2023-03-30T13:09:35.712Z"
   },
   {
    "duration": 25,
    "start_time": "2023-03-30T13:09:36.098Z"
   },
   {
    "duration": 4,
    "start_time": "2023-03-30T13:09:36.125Z"
   },
   {
    "duration": 163,
    "start_time": "2023-03-30T13:09:36.130Z"
   },
   {
    "duration": 0,
    "start_time": "2023-03-30T13:09:36.295Z"
   },
   {
    "duration": 0,
    "start_time": "2023-03-30T13:09:36.296Z"
   },
   {
    "duration": 0,
    "start_time": "2023-03-30T13:09:36.297Z"
   },
   {
    "duration": 0,
    "start_time": "2023-03-30T13:09:36.298Z"
   },
   {
    "duration": 0,
    "start_time": "2023-03-30T13:09:36.299Z"
   },
   {
    "duration": 0,
    "start_time": "2023-03-30T13:09:36.301Z"
   },
   {
    "duration": 0,
    "start_time": "2023-03-30T13:09:36.302Z"
   },
   {
    "duration": 0,
    "start_time": "2023-03-30T13:09:36.303Z"
   },
   {
    "duration": 0,
    "start_time": "2023-03-30T13:09:36.304Z"
   },
   {
    "duration": 0,
    "start_time": "2023-03-30T13:09:36.305Z"
   },
   {
    "duration": 0,
    "start_time": "2023-03-30T13:09:36.306Z"
   },
   {
    "duration": 0,
    "start_time": "2023-03-30T13:09:36.308Z"
   },
   {
    "duration": 0,
    "start_time": "2023-03-30T13:09:36.309Z"
   },
   {
    "duration": 0,
    "start_time": "2023-03-30T13:09:36.310Z"
   },
   {
    "duration": 0,
    "start_time": "2023-03-30T13:09:36.311Z"
   },
   {
    "duration": 0,
    "start_time": "2023-03-30T13:09:36.312Z"
   },
   {
    "duration": 0,
    "start_time": "2023-03-30T13:09:36.314Z"
   },
   {
    "duration": 0,
    "start_time": "2023-03-30T13:09:36.315Z"
   },
   {
    "duration": 0,
    "start_time": "2023-03-30T13:09:36.349Z"
   },
   {
    "duration": 0,
    "start_time": "2023-03-30T13:09:36.349Z"
   },
   {
    "duration": 0,
    "start_time": "2023-03-30T13:09:36.350Z"
   },
   {
    "duration": 0,
    "start_time": "2023-03-30T13:09:36.350Z"
   },
   {
    "duration": 0,
    "start_time": "2023-03-30T13:09:36.350Z"
   },
   {
    "duration": 0,
    "start_time": "2023-03-30T13:09:36.351Z"
   },
   {
    "duration": 0,
    "start_time": "2023-03-30T13:09:36.352Z"
   },
   {
    "duration": 0,
    "start_time": "2023-03-30T13:09:36.353Z"
   },
   {
    "duration": 1847,
    "start_time": "2023-03-30T13:11:34.062Z"
   },
   {
    "duration": 387,
    "start_time": "2023-03-30T13:11:35.911Z"
   },
   {
    "duration": 28,
    "start_time": "2023-03-30T13:11:36.300Z"
   },
   {
    "duration": 4,
    "start_time": "2023-03-30T13:11:36.330Z"
   },
   {
    "duration": 273,
    "start_time": "2023-03-30T13:11:36.336Z"
   },
   {
    "duration": 73,
    "start_time": "2023-03-30T13:11:36.611Z"
   },
   {
    "duration": 51,
    "start_time": "2023-03-30T13:11:36.685Z"
   },
   {
    "duration": 64,
    "start_time": "2023-03-30T13:11:36.737Z"
   },
   {
    "duration": 50,
    "start_time": "2023-03-30T13:11:36.803Z"
   },
   {
    "duration": 29,
    "start_time": "2023-03-30T13:11:36.864Z"
   },
   {
    "duration": 2550,
    "start_time": "2023-03-30T13:11:36.895Z"
   },
   {
    "duration": 397,
    "start_time": "2023-03-30T13:11:39.448Z"
   },
   {
    "duration": 371,
    "start_time": "2023-03-30T13:11:39.850Z"
   },
   {
    "duration": 327,
    "start_time": "2023-03-30T13:11:40.224Z"
   },
   {
    "duration": 300,
    "start_time": "2023-03-30T13:11:40.561Z"
   },
   {
    "duration": 261,
    "start_time": "2023-03-30T13:11:40.862Z"
   },
   {
    "duration": 12680,
    "start_time": "2023-03-30T13:11:41.125Z"
   },
   {
    "duration": 342,
    "start_time": "2023-03-30T13:11:53.806Z"
   },
   {
    "duration": 295,
    "start_time": "2023-03-30T13:11:54.164Z"
   },
   {
    "duration": 30,
    "start_time": "2023-03-30T13:11:54.464Z"
   },
   {
    "duration": 784,
    "start_time": "2023-03-30T13:11:54.496Z"
   },
   {
    "duration": 5,
    "start_time": "2023-03-30T13:11:55.281Z"
   },
   {
    "duration": 43,
    "start_time": "2023-03-30T13:11:55.287Z"
   },
   {
    "duration": 33,
    "start_time": "2023-03-30T13:11:55.332Z"
   },
   {
    "duration": 16,
    "start_time": "2023-03-30T13:11:55.366Z"
   },
   {
    "duration": 92,
    "start_time": "2023-03-30T13:11:55.384Z"
   },
   {
    "duration": 9,
    "start_time": "2023-03-30T13:11:55.477Z"
   },
   {
    "duration": 22,
    "start_time": "2023-03-30T13:11:55.487Z"
   },
   {
    "duration": 15,
    "start_time": "2023-03-30T13:11:55.510Z"
   },
   {
    "duration": 39,
    "start_time": "2023-03-30T13:11:55.526Z"
   },
   {
    "duration": 524,
    "start_time": "2023-03-30T13:11:55.567Z"
   },
   {
    "duration": 1463,
    "start_time": "2023-03-30T14:35:19.020Z"
   },
   {
    "duration": 1606,
    "start_time": "2023-03-30T14:35:20.485Z"
   },
   {
    "duration": 37,
    "start_time": "2023-03-30T14:35:22.092Z"
   },
   {
    "duration": 60,
    "start_time": "2023-03-30T14:35:22.131Z"
   },
   {
    "duration": 441,
    "start_time": "2023-03-30T14:35:22.193Z"
   },
   {
    "duration": 69,
    "start_time": "2023-03-30T14:35:22.637Z"
   },
   {
    "duration": 75,
    "start_time": "2023-03-30T14:35:22.709Z"
   },
   {
    "duration": 79,
    "start_time": "2023-03-30T14:35:22.786Z"
   },
   {
    "duration": 55,
    "start_time": "2023-03-30T14:35:22.867Z"
   },
   {
    "duration": 60,
    "start_time": "2023-03-30T14:35:22.925Z"
   },
   {
    "duration": 3568,
    "start_time": "2023-03-30T14:35:22.987Z"
   },
   {
    "duration": 355,
    "start_time": "2023-03-30T14:35:26.558Z"
   },
   {
    "duration": 0,
    "start_time": "2023-03-30T14:35:26.915Z"
   },
   {
    "duration": 0,
    "start_time": "2023-03-30T14:35:26.916Z"
   },
   {
    "duration": 0,
    "start_time": "2023-03-30T14:35:26.917Z"
   },
   {
    "duration": 0,
    "start_time": "2023-03-30T14:35:26.918Z"
   },
   {
    "duration": 0,
    "start_time": "2023-03-30T14:35:26.920Z"
   },
   {
    "duration": 0,
    "start_time": "2023-03-30T14:35:26.921Z"
   },
   {
    "duration": 0,
    "start_time": "2023-03-30T14:35:26.921Z"
   },
   {
    "duration": 0,
    "start_time": "2023-03-30T14:35:26.923Z"
   },
   {
    "duration": 0,
    "start_time": "2023-03-30T14:35:26.924Z"
   },
   {
    "duration": 0,
    "start_time": "2023-03-30T14:35:26.925Z"
   },
   {
    "duration": 0,
    "start_time": "2023-03-30T14:35:26.926Z"
   },
   {
    "duration": 0,
    "start_time": "2023-03-30T14:35:26.927Z"
   },
   {
    "duration": 0,
    "start_time": "2023-03-30T14:35:26.928Z"
   },
   {
    "duration": 0,
    "start_time": "2023-03-30T14:35:26.929Z"
   },
   {
    "duration": 0,
    "start_time": "2023-03-30T14:35:26.930Z"
   },
   {
    "duration": 0,
    "start_time": "2023-03-30T14:35:26.931Z"
   },
   {
    "duration": 0,
    "start_time": "2023-03-30T14:35:26.932Z"
   },
   {
    "duration": 0,
    "start_time": "2023-03-30T14:35:26.934Z"
   },
   {
    "duration": 0,
    "start_time": "2023-03-30T14:35:26.935Z"
   },
   {
    "duration": 19245,
    "start_time": "2023-03-30T14:38:36.711Z"
   },
   {
    "duration": 1551,
    "start_time": "2023-03-30T14:38:55.959Z"
   },
   {
    "duration": 428,
    "start_time": "2023-03-30T14:38:57.512Z"
   },
   {
    "duration": 31,
    "start_time": "2023-03-30T14:38:57.942Z"
   },
   {
    "duration": 4,
    "start_time": "2023-03-30T14:38:57.975Z"
   },
   {
    "duration": 306,
    "start_time": "2023-03-30T14:38:57.981Z"
   },
   {
    "duration": 56,
    "start_time": "2023-03-30T14:38:58.289Z"
   },
   {
    "duration": 74,
    "start_time": "2023-03-30T14:38:58.347Z"
   },
   {
    "duration": 70,
    "start_time": "2023-03-30T14:38:58.422Z"
   },
   {
    "duration": 48,
    "start_time": "2023-03-30T14:38:58.494Z"
   },
   {
    "duration": 53,
    "start_time": "2023-03-30T14:38:58.544Z"
   },
   {
    "duration": 3604,
    "start_time": "2023-03-30T14:38:58.599Z"
   },
   {
    "duration": 399,
    "start_time": "2023-03-30T14:39:02.205Z"
   },
   {
    "duration": 466,
    "start_time": "2023-03-30T14:39:02.607Z"
   },
   {
    "duration": 358,
    "start_time": "2023-03-30T14:39:03.075Z"
   },
   {
    "duration": 340,
    "start_time": "2023-03-30T14:39:03.435Z"
   },
   {
    "duration": 322,
    "start_time": "2023-03-30T14:39:03.777Z"
   },
   {
    "duration": 17308,
    "start_time": "2023-03-30T14:39:04.101Z"
   },
   {
    "duration": 366,
    "start_time": "2023-03-30T14:39:21.411Z"
   },
   {
    "duration": 338,
    "start_time": "2023-03-30T14:39:21.782Z"
   },
   {
    "duration": 25,
    "start_time": "2023-03-30T14:39:22.121Z"
   },
   {
    "duration": 861,
    "start_time": "2023-03-30T14:39:22.148Z"
   },
   {
    "duration": 6,
    "start_time": "2023-03-30T14:39:23.011Z"
   },
   {
    "duration": 64,
    "start_time": "2023-03-30T14:39:23.018Z"
   },
   {
    "duration": 54,
    "start_time": "2023-03-30T14:39:23.084Z"
   },
   {
    "duration": 20,
    "start_time": "2023-03-30T14:39:23.140Z"
   },
   {
    "duration": 116,
    "start_time": "2023-03-30T14:39:23.162Z"
   },
   {
    "duration": 14,
    "start_time": "2023-03-30T14:39:23.280Z"
   },
   {
    "duration": 57,
    "start_time": "2023-03-30T14:39:23.295Z"
   },
   {
    "duration": 29,
    "start_time": "2023-03-30T14:39:23.354Z"
   },
   {
    "duration": 20,
    "start_time": "2023-03-30T14:39:23.385Z"
   },
   {
    "duration": 557,
    "start_time": "2023-03-30T14:39:23.406Z"
   },
   {
    "duration": 16526,
    "start_time": "2023-03-30T17:04:20.592Z"
   },
   {
    "duration": 1540,
    "start_time": "2023-03-30T17:04:37.120Z"
   },
   {
    "duration": 1302,
    "start_time": "2023-03-30T17:04:38.662Z"
   },
   {
    "duration": 35,
    "start_time": "2023-03-30T17:04:39.967Z"
   },
   {
    "duration": 5,
    "start_time": "2023-03-30T17:04:40.003Z"
   },
   {
    "duration": 267,
    "start_time": "2023-03-30T17:04:40.010Z"
   },
   {
    "duration": 70,
    "start_time": "2023-03-30T17:04:40.279Z"
   },
   {
    "duration": 53,
    "start_time": "2023-03-30T17:04:40.350Z"
   },
   {
    "duration": 73,
    "start_time": "2023-03-30T17:04:40.404Z"
   },
   {
    "duration": 32,
    "start_time": "2023-03-30T17:04:40.479Z"
   },
   {
    "duration": 68,
    "start_time": "2023-03-30T17:04:40.513Z"
   },
   {
    "duration": 2908,
    "start_time": "2023-03-30T17:04:40.583Z"
   },
   {
    "duration": 434,
    "start_time": "2023-03-30T17:04:43.493Z"
   },
   {
    "duration": 379,
    "start_time": "2023-03-30T17:04:43.930Z"
   },
   {
    "duration": 349,
    "start_time": "2023-03-30T17:04:44.311Z"
   },
   {
    "duration": 299,
    "start_time": "2023-03-30T17:04:44.662Z"
   },
   {
    "duration": 259,
    "start_time": "2023-03-30T17:04:44.963Z"
   },
   {
    "duration": 14048,
    "start_time": "2023-03-30T17:04:45.224Z"
   },
   {
    "duration": 284,
    "start_time": "2023-03-30T17:04:59.274Z"
   },
   {
    "duration": 276,
    "start_time": "2023-03-30T17:04:59.559Z"
   },
   {
    "duration": 24,
    "start_time": "2023-03-30T17:04:59.839Z"
   },
   {
    "duration": 684,
    "start_time": "2023-03-30T17:04:59.865Z"
   },
   {
    "duration": 6,
    "start_time": "2023-03-30T17:05:00.560Z"
   },
   {
    "duration": 85,
    "start_time": "2023-03-30T17:05:00.573Z"
   },
   {
    "duration": 27,
    "start_time": "2023-03-30T17:05:00.660Z"
   },
   {
    "duration": 17,
    "start_time": "2023-03-30T17:05:00.689Z"
   },
   {
    "duration": 99,
    "start_time": "2023-03-30T17:05:00.708Z"
   },
   {
    "duration": 8,
    "start_time": "2023-03-30T17:05:00.810Z"
   },
   {
    "duration": 45,
    "start_time": "2023-03-30T17:05:00.820Z"
   },
   {
    "duration": 16,
    "start_time": "2023-03-30T17:05:00.867Z"
   },
   {
    "duration": 19,
    "start_time": "2023-03-30T17:05:00.885Z"
   },
   {
    "duration": 553,
    "start_time": "2023-03-30T17:05:00.905Z"
   },
   {
    "duration": 14,
    "start_time": "2023-03-30T17:05:01.460Z"
   },
   {
    "duration": 16,
    "start_time": "2023-03-30T17:05:08.612Z"
   }
  ],
  "kernelspec": {
   "display_name": "Python 3 (ipykernel)",
   "language": "python",
   "name": "python3"
  },
  "language_info": {
   "codemirror_mode": {
    "name": "ipython",
    "version": 3
   },
   "file_extension": ".py",
   "mimetype": "text/x-python",
   "name": "python",
   "nbconvert_exporter": "python",
   "pygments_lexer": "ipython3",
   "version": "3.9.5"
  },
  "toc": {
   "base_numbering": 1,
   "nav_menu": {},
   "number_sections": true,
   "sideBar": true,
   "skip_h1_title": true,
   "title_cell": "Table of Contents",
   "title_sidebar": "Contents",
   "toc_cell": false,
   "toc_position": {},
   "toc_section_display": true,
   "toc_window_display": true
  },
  "vscode": {
   "interpreter": {
    "hash": "52831304c5a360fb11cbe204bc0cbf49291ced572633dfbeabf2f026a0ed582b"
   }
  }
 },
 "nbformat": 4,
 "nbformat_minor": 2
}
